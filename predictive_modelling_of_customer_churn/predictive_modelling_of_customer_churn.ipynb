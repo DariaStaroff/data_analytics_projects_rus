{
 "cells": [
  {
   "cell_type": "markdown",
   "metadata": {},
   "source": [
    "# Описание проекта\n",
    "\n",
    "**Контекст** - сеть фитнес-центров разрабатывает стратегию взаимодействия с пользователями на основ«Культуриста-датасаентиста» перевёл в электронный вид множество анкет пользователей.\n",
    "\n",
    "**Цель** - провести анализ и подготовить план действий по удержанию клиентов. А именно:\n",
    "- научиться прогнозировать вероятность оттока (на уровне следующего месяца) для каждого клиента;\n",
    "- сформировать типичные портреты пользователей: выделить несколько наиболее ярких групп и охарактеризовать их основные свойства;\n",
    "- проанализировать основные признаки, наиболее сильно влияющие на отток;\n",
    "- сформулировать основные выводы и разработать рекомендации по повышению качества работы с клиентами:\n",
    "    1) выделить целевые группы клиентов;\n",
    "    2) предложить меры по снижению оттока;\n",
    "    3) определить другие особенности взаимодействия с клиентами."
   ]
  },
  {
   "cell_type": "markdown",
   "metadata": {},
   "source": [
    "### План\n",
    "1. [Загрузить и подготовить данные к анализу](#step1)\n",
    "\n",
    "2. [Провести исследовательский анализ данных (EDA)](#step2)\n",
    "    - [Выводы](#step2.1)\n",
    "    \n",
    "    \n",
    "3. [Построить модель прогнозирования оттока пользователей](#step3)\n",
    "    - [Логистическая регрессия](#step3.1)\n",
    "    - [Случайный лес](#step3.2)\n",
    "    - [Выводы](#step3.3)\n",
    "    \n",
    " \n",
    "\n",
    "4. [Сделать кластеризацию пользователей](#step4)\n",
    "    - [Выводы](#step4.1)\n",
    "\n",
    "\n",
    "5. [Сформулировать выводы и сделать базовые рекомендации по работе с клиентами](#step5)"
   ]
  },
  {
   "cell_type": "markdown",
   "metadata": {},
   "source": [
    "# Шаг 1. Загрузка и подготовка данных <a id=\"step1\"></a> "
   ]
  },
  {
   "cell_type": "markdown",
   "metadata": {},
   "source": [
    "## Загрузка и предварительный взгляд <a id=\"step1.1\"></a> "
   ]
  },
  {
   "cell_type": "markdown",
   "metadata": {},
   "source": [
    "Загрузим библиотеки и датасет. Выведем информацию о нем, первые 10 строк и посмотрим наличие дубликатов. "
   ]
  },
  {
   "cell_type": "code",
   "execution_count": 1,
   "metadata": {},
   "outputs": [],
   "source": [
    "from IPython.core.interactiveshell import InteractiveShell\n",
    "InteractiveShell.ast_node_interactivity = \"all\"\n",
    "\n",
    "import pandas as pd\n",
    "pd.options.display.float_format = '{:,.4f}'.format\n",
    "import numpy as np\n",
    "\n",
    "import matplotlib.pyplot as plt\n",
    "import seaborn as sns\n",
    "%matplotlib inline\n",
    "\n",
    "sns.set_style(\"whitegrid\")\n",
    "sns.set_palette('Set2')\n",
    "plt.style.use('seaborn-white')"
   ]
  },
  {
   "cell_type": "code",
   "execution_count": 2,
   "metadata": {},
   "outputs": [],
   "source": [
    "from sklearn.preprocessing import StandardScaler\n",
    "from sklearn.model_selection import train_test_split\n",
    "from sklearn.linear_model import LogisticRegression\n",
    "from sklearn.ensemble import RandomForestClassifier\n",
    "\n",
    "from sklearn.metrics import accuracy_score, precision_score, recall_score, confusion_matrix, roc_auc_score\n",
    "from scipy.cluster.hierarchy import dendrogram, linkage\n",
    "from sklearn.cluster import KMeans"
   ]
  },
  {
   "cell_type": "code",
   "execution_count": 3,
   "metadata": {},
   "outputs": [
    {
     "data": {
      "text/html": [
       "<div>\n",
       "<style scoped>\n",
       "    .dataframe tbody tr th:only-of-type {\n",
       "        vertical-align: middle;\n",
       "    }\n",
       "\n",
       "    .dataframe tbody tr th {\n",
       "        vertical-align: top;\n",
       "    }\n",
       "\n",
       "    .dataframe thead th {\n",
       "        text-align: right;\n",
       "    }\n",
       "</style>\n",
       "<table border=\"1\" class=\"dataframe\">\n",
       "  <thead>\n",
       "    <tr style=\"text-align: right;\">\n",
       "      <th></th>\n",
       "      <th>gender</th>\n",
       "      <th>Near_Location</th>\n",
       "      <th>Partner</th>\n",
       "      <th>Promo_friends</th>\n",
       "      <th>Phone</th>\n",
       "      <th>Contract_period</th>\n",
       "      <th>Group_visits</th>\n",
       "      <th>Age</th>\n",
       "      <th>Avg_additional_charges_total</th>\n",
       "      <th>Month_to_end_contract</th>\n",
       "      <th>Lifetime</th>\n",
       "      <th>Avg_class_frequency_total</th>\n",
       "      <th>Avg_class_frequency_current_month</th>\n",
       "      <th>Churn</th>\n",
       "    </tr>\n",
       "  </thead>\n",
       "  <tbody>\n",
       "    <tr>\n",
       "      <td>0</td>\n",
       "      <td>1</td>\n",
       "      <td>1</td>\n",
       "      <td>1</td>\n",
       "      <td>1</td>\n",
       "      <td>0</td>\n",
       "      <td>6</td>\n",
       "      <td>1</td>\n",
       "      <td>29</td>\n",
       "      <td>14.2275</td>\n",
       "      <td>5.0000</td>\n",
       "      <td>3</td>\n",
       "      <td>0.0204</td>\n",
       "      <td>0.0000</td>\n",
       "      <td>0</td>\n",
       "    </tr>\n",
       "    <tr>\n",
       "      <td>1</td>\n",
       "      <td>0</td>\n",
       "      <td>1</td>\n",
       "      <td>0</td>\n",
       "      <td>0</td>\n",
       "      <td>1</td>\n",
       "      <td>12</td>\n",
       "      <td>1</td>\n",
       "      <td>31</td>\n",
       "      <td>113.2029</td>\n",
       "      <td>12.0000</td>\n",
       "      <td>7</td>\n",
       "      <td>1.9229</td>\n",
       "      <td>1.9102</td>\n",
       "      <td>0</td>\n",
       "    </tr>\n",
       "    <tr>\n",
       "      <td>2</td>\n",
       "      <td>0</td>\n",
       "      <td>1</td>\n",
       "      <td>1</td>\n",
       "      <td>0</td>\n",
       "      <td>1</td>\n",
       "      <td>1</td>\n",
       "      <td>0</td>\n",
       "      <td>28</td>\n",
       "      <td>129.4485</td>\n",
       "      <td>1.0000</td>\n",
       "      <td>2</td>\n",
       "      <td>1.8591</td>\n",
       "      <td>1.7365</td>\n",
       "      <td>0</td>\n",
       "    </tr>\n",
       "    <tr>\n",
       "      <td>3</td>\n",
       "      <td>0</td>\n",
       "      <td>1</td>\n",
       "      <td>1</td>\n",
       "      <td>1</td>\n",
       "      <td>1</td>\n",
       "      <td>12</td>\n",
       "      <td>1</td>\n",
       "      <td>33</td>\n",
       "      <td>62.6699</td>\n",
       "      <td>12.0000</td>\n",
       "      <td>2</td>\n",
       "      <td>3.2056</td>\n",
       "      <td>3.3572</td>\n",
       "      <td>0</td>\n",
       "    </tr>\n",
       "    <tr>\n",
       "      <td>4</td>\n",
       "      <td>1</td>\n",
       "      <td>1</td>\n",
       "      <td>1</td>\n",
       "      <td>1</td>\n",
       "      <td>1</td>\n",
       "      <td>1</td>\n",
       "      <td>0</td>\n",
       "      <td>26</td>\n",
       "      <td>198.3623</td>\n",
       "      <td>1.0000</td>\n",
       "      <td>3</td>\n",
       "      <td>1.1139</td>\n",
       "      <td>1.1201</td>\n",
       "      <td>0</td>\n",
       "    </tr>\n",
       "    <tr>\n",
       "      <td>5</td>\n",
       "      <td>1</td>\n",
       "      <td>1</td>\n",
       "      <td>0</td>\n",
       "      <td>0</td>\n",
       "      <td>1</td>\n",
       "      <td>1</td>\n",
       "      <td>1</td>\n",
       "      <td>34</td>\n",
       "      <td>450.7440</td>\n",
       "      <td>1.0000</td>\n",
       "      <td>3</td>\n",
       "      <td>2.6235</td>\n",
       "      <td>2.6370</td>\n",
       "      <td>0</td>\n",
       "    </tr>\n",
       "    <tr>\n",
       "      <td>6</td>\n",
       "      <td>1</td>\n",
       "      <td>1</td>\n",
       "      <td>1</td>\n",
       "      <td>1</td>\n",
       "      <td>0</td>\n",
       "      <td>6</td>\n",
       "      <td>1</td>\n",
       "      <td>32</td>\n",
       "      <td>94.2664</td>\n",
       "      <td>6.0000</td>\n",
       "      <td>2</td>\n",
       "      <td>1.1389</td>\n",
       "      <td>1.2772</td>\n",
       "      <td>0</td>\n",
       "    </tr>\n",
       "    <tr>\n",
       "      <td>7</td>\n",
       "      <td>0</td>\n",
       "      <td>1</td>\n",
       "      <td>0</td>\n",
       "      <td>0</td>\n",
       "      <td>1</td>\n",
       "      <td>1</td>\n",
       "      <td>0</td>\n",
       "      <td>30</td>\n",
       "      <td>217.7866</td>\n",
       "      <td>1.0000</td>\n",
       "      <td>0</td>\n",
       "      <td>1.2135</td>\n",
       "      <td>1.0494</td>\n",
       "      <td>1</td>\n",
       "    </tr>\n",
       "    <tr>\n",
       "      <td>8</td>\n",
       "      <td>1</td>\n",
       "      <td>1</td>\n",
       "      <td>1</td>\n",
       "      <td>1</td>\n",
       "      <td>1</td>\n",
       "      <td>1</td>\n",
       "      <td>1</td>\n",
       "      <td>23</td>\n",
       "      <td>45.4099</td>\n",
       "      <td>1.0000</td>\n",
       "      <td>1</td>\n",
       "      <td>1.1062</td>\n",
       "      <td>1.0593</td>\n",
       "      <td>0</td>\n",
       "    </tr>\n",
       "    <tr>\n",
       "      <td>9</td>\n",
       "      <td>0</td>\n",
       "      <td>1</td>\n",
       "      <td>0</td>\n",
       "      <td>0</td>\n",
       "      <td>1</td>\n",
       "      <td>1</td>\n",
       "      <td>0</td>\n",
       "      <td>31</td>\n",
       "      <td>65.3108</td>\n",
       "      <td>1.0000</td>\n",
       "      <td>11</td>\n",
       "      <td>1.8109</td>\n",
       "      <td>1.9514</td>\n",
       "      <td>0</td>\n",
       "    </tr>\n",
       "  </tbody>\n",
       "</table>\n",
       "</div>"
      ],
      "text/plain": [
       "   gender  Near_Location  Partner  Promo_friends  Phone  Contract_period  \\\n",
       "0       1              1        1              1      0                6   \n",
       "1       0              1        0              0      1               12   \n",
       "2       0              1        1              0      1                1   \n",
       "3       0              1        1              1      1               12   \n",
       "4       1              1        1              1      1                1   \n",
       "5       1              1        0              0      1                1   \n",
       "6       1              1        1              1      0                6   \n",
       "7       0              1        0              0      1                1   \n",
       "8       1              1        1              1      1                1   \n",
       "9       0              1        0              0      1                1   \n",
       "\n",
       "   Group_visits  Age  Avg_additional_charges_total  Month_to_end_contract  \\\n",
       "0             1   29                       14.2275                 5.0000   \n",
       "1             1   31                      113.2029                12.0000   \n",
       "2             0   28                      129.4485                 1.0000   \n",
       "3             1   33                       62.6699                12.0000   \n",
       "4             0   26                      198.3623                 1.0000   \n",
       "5             1   34                      450.7440                 1.0000   \n",
       "6             1   32                       94.2664                 6.0000   \n",
       "7             0   30                      217.7866                 1.0000   \n",
       "8             1   23                       45.4099                 1.0000   \n",
       "9             0   31                       65.3108                 1.0000   \n",
       "\n",
       "   Lifetime  Avg_class_frequency_total  Avg_class_frequency_current_month  \\\n",
       "0         3                     0.0204                             0.0000   \n",
       "1         7                     1.9229                             1.9102   \n",
       "2         2                     1.8591                             1.7365   \n",
       "3         2                     3.2056                             3.3572   \n",
       "4         3                     1.1139                             1.1201   \n",
       "5         3                     2.6235                             2.6370   \n",
       "6         2                     1.1389                             1.2772   \n",
       "7         0                     1.2135                             1.0494   \n",
       "8         1                     1.1062                             1.0593   \n",
       "9        11                     1.8109                             1.9514   \n",
       "\n",
       "   Churn  \n",
       "0      0  \n",
       "1      0  \n",
       "2      0  \n",
       "3      0  \n",
       "4      0  \n",
       "5      0  \n",
       "6      0  \n",
       "7      1  \n",
       "8      0  \n",
       "9      0  "
      ]
     },
     "execution_count": 3,
     "metadata": {},
     "output_type": "execute_result"
    },
    {
     "name": "stdout",
     "output_type": "stream",
     "text": [
      "<class 'pandas.core.frame.DataFrame'>\n",
      "RangeIndex: 4000 entries, 0 to 3999\n",
      "Data columns (total 14 columns):\n",
      "gender                               4000 non-null int64\n",
      "Near_Location                        4000 non-null int64\n",
      "Partner                              4000 non-null int64\n",
      "Promo_friends                        4000 non-null int64\n",
      "Phone                                4000 non-null int64\n",
      "Contract_period                      4000 non-null int64\n",
      "Group_visits                         4000 non-null int64\n",
      "Age                                  4000 non-null int64\n",
      "Avg_additional_charges_total         4000 non-null float64\n",
      "Month_to_end_contract                4000 non-null float64\n",
      "Lifetime                             4000 non-null int64\n",
      "Avg_class_frequency_total            4000 non-null float64\n",
      "Avg_class_frequency_current_month    4000 non-null float64\n",
      "Churn                                4000 non-null int64\n",
      "dtypes: float64(4), int64(10)\n",
      "memory usage: 437.6 KB\n"
     ]
    },
    {
     "data": {
      "text/plain": [
       "0"
      ]
     },
     "execution_count": 3,
     "metadata": {},
     "output_type": "execute_result"
    }
   ],
   "source": [
    "gym_churn = pd.read_csv('/datasets/gym_churn.csv')\n",
    "gym_churn.head(10)\n",
    "gym_churn.info()\n",
    "gym_churn.duplicated().sum()"
   ]
  },
  {
   "cell_type": "markdown",
   "metadata": {},
   "source": [
    "Итак, в таблице 4000 строк, датасет выглядит чистым, пропущенных значений и дубликатов нет. Надо перевести названия столбцов в нижний регистр для удобства работы с ними. Переменная `Month_to_end_contract` записана как `float`, но значения по сути являются `interger`, тип лучше будет поменять.\n",
    "\n",
    "Целевая переменная - `Churn`. Имеется 13 признаков, из них 6 (`gender`, `Near_Location`, `Partner`, `Promo_friends`, `Phone`, `Group_visits`) - бинарные признаки со значениями 0 и 1, остальные - количественные, кроме переменной `Contract_period`, которая имеет тип `interger`, хотя по сути является категориальной (видно как минимум три категории - 1, 6, 12 месяцев на абонемент). Ее надо будет преобразовать для применения моделей логистической регрессии и случайного леса.  "
   ]
  },
  {
   "cell_type": "markdown",
   "metadata": {},
   "source": [
    "## Подготовка данных <a id=\"step1.2\"></a> "
   ]
  },
  {
   "cell_type": "markdown",
   "metadata": {},
   "source": [
    "Переведем названия столбцов в нижний регистр."
   ]
  },
  {
   "cell_type": "code",
   "execution_count": 4,
   "metadata": {},
   "outputs": [
    {
     "data": {
      "text/plain": [
       "Index(['gender', 'near_location', 'partner', 'promo_friends', 'phone',\n",
       "       'contract_period', 'group_visits', 'age',\n",
       "       'avg_additional_charges_total', 'month_to_end_contract', 'lifetime',\n",
       "       'avg_class_frequency_total', 'avg_class_frequency_current_month',\n",
       "       'churn'],\n",
       "      dtype='object')"
      ]
     },
     "execution_count": 4,
     "metadata": {},
     "output_type": "execute_result"
    }
   ],
   "source": [
    "gym_churn.columns = gym_churn.columns.str.lower()\n",
    "gym_churn.columns"
   ]
  },
  {
   "cell_type": "markdown",
   "metadata": {},
   "source": [
    "Переведем `month_to_end_contract` в `interger`."
   ]
  },
  {
   "cell_type": "code",
   "execution_count": 5,
   "metadata": {},
   "outputs": [],
   "source": [
    "gym_churn['month_to_end_contract'] = gym_churn['month_to_end_contract'].astype(int)"
   ]
  },
  {
   "cell_type": "markdown",
   "metadata": {},
   "source": [
    "Посмотрим значения переменных `contract_period`, `month_to_end_contract`, `lifetime`."
   ]
  },
  {
   "cell_type": "code",
   "execution_count": 6,
   "metadata": {},
   "outputs": [
    {
     "data": {
      "text/plain": [
       "'contract_period'"
      ]
     },
     "execution_count": 6,
     "metadata": {},
     "output_type": "execute_result"
    },
    {
     "data": {
      "text/plain": [
       "array([ 1,  6, 12])"
      ]
     },
     "execution_count": 6,
     "metadata": {},
     "output_type": "execute_result"
    },
    {
     "data": {
      "text/plain": [
       "'month_to_end_contract'"
      ]
     },
     "execution_count": 6,
     "metadata": {},
     "output_type": "execute_result"
    },
    {
     "data": {
      "text/plain": [
       "array([ 1,  2,  3,  4,  5,  6,  7,  8,  9, 10, 11, 12])"
      ]
     },
     "execution_count": 6,
     "metadata": {},
     "output_type": "execute_result"
    },
    {
     "data": {
      "text/plain": [
       "'lifetime'"
      ]
     },
     "execution_count": 6,
     "metadata": {},
     "output_type": "execute_result"
    },
    {
     "data": {
      "text/plain": [
       "array([ 0,  1,  2,  3,  4,  5,  6,  7,  8,  9, 10, 11, 12, 13, 14, 15, 16,\n",
       "       17, 18, 19, 20, 21, 22, 23, 24, 26, 27, 29, 31])"
      ]
     },
     "execution_count": 6,
     "metadata": {},
     "output_type": "execute_result"
    }
   ],
   "source": [
    "for col in ['contract_period', 'month_to_end_contract', 'lifetime']:\n",
    "    col\n",
    "    gym_churn[col].sort_values().unique()"
   ]
  },
  {
   "cell_type": "markdown",
   "metadata": {},
   "source": [
    "Действительно, в датасете только три типа абонементов - на 1, 6 и на 12 месяцев. Преобразовывать этот столбец будем после исследовательского анализа данных. В `month_to_end_contract` и `lifetime` ошибок не видно. \n",
    "\n",
    "Убедимся, что переменные `gender`, `near_location`, `partner`, `promo_friends`, `phone`, `group_visits`, `churn` - принимают только два значения, 0 или 1."
   ]
  },
  {
   "cell_type": "code",
   "execution_count": 7,
   "metadata": {
    "scrolled": true
   },
   "outputs": [
    {
     "data": {
      "text/plain": [
       "'gender'"
      ]
     },
     "execution_count": 7,
     "metadata": {},
     "output_type": "execute_result"
    },
    {
     "data": {
      "text/plain": [
       "array([1, 0])"
      ]
     },
     "execution_count": 7,
     "metadata": {},
     "output_type": "execute_result"
    },
    {
     "data": {
      "text/plain": [
       "'near_location'"
      ]
     },
     "execution_count": 7,
     "metadata": {},
     "output_type": "execute_result"
    },
    {
     "data": {
      "text/plain": [
       "array([1, 0])"
      ]
     },
     "execution_count": 7,
     "metadata": {},
     "output_type": "execute_result"
    },
    {
     "data": {
      "text/plain": [
       "'partner'"
      ]
     },
     "execution_count": 7,
     "metadata": {},
     "output_type": "execute_result"
    },
    {
     "data": {
      "text/plain": [
       "array([1, 0])"
      ]
     },
     "execution_count": 7,
     "metadata": {},
     "output_type": "execute_result"
    },
    {
     "data": {
      "text/plain": [
       "'promo_friends'"
      ]
     },
     "execution_count": 7,
     "metadata": {},
     "output_type": "execute_result"
    },
    {
     "data": {
      "text/plain": [
       "array([1, 0])"
      ]
     },
     "execution_count": 7,
     "metadata": {},
     "output_type": "execute_result"
    },
    {
     "data": {
      "text/plain": [
       "'phone'"
      ]
     },
     "execution_count": 7,
     "metadata": {},
     "output_type": "execute_result"
    },
    {
     "data": {
      "text/plain": [
       "array([0, 1])"
      ]
     },
     "execution_count": 7,
     "metadata": {},
     "output_type": "execute_result"
    },
    {
     "data": {
      "text/plain": [
       "'group_visits'"
      ]
     },
     "execution_count": 7,
     "metadata": {},
     "output_type": "execute_result"
    },
    {
     "data": {
      "text/plain": [
       "array([1, 0])"
      ]
     },
     "execution_count": 7,
     "metadata": {},
     "output_type": "execute_result"
    },
    {
     "data": {
      "text/plain": [
       "'churn'"
      ]
     },
     "execution_count": 7,
     "metadata": {},
     "output_type": "execute_result"
    },
    {
     "data": {
      "text/plain": [
       "array([0, 1])"
      ]
     },
     "execution_count": 7,
     "metadata": {},
     "output_type": "execute_result"
    }
   ],
   "source": [
    "binary_features = ['gender', 'near_location', 'partner', 'promo_friends', 'phone', 'group_visits', 'churn']\n",
    "\n",
    "for col in binary_features:\n",
    "    col\n",
    "    gym_churn[col].unique()"
   ]
  },
  {
   "cell_type": "markdown",
   "metadata": {},
   "source": [
    "Да, ошибок нет.\n",
    "\n",
    "Данные готовы к исследовательскому анализу. "
   ]
  },
  {
   "cell_type": "markdown",
   "metadata": {},
   "source": [
    "# Шаг 2. Исследовательский анализ данных (EDA) <a id=\"step2\"></a> "
   ]
  },
  {
   "cell_type": "markdown",
   "metadata": {},
   "source": [
    "Сначала посмотрим средние значения бинарных признаков."
   ]
  },
  {
   "cell_type": "code",
   "execution_count": 8,
   "metadata": {
    "scrolled": false
   },
   "outputs": [
    {
     "data": {
      "text/plain": [
       "gender          0.5102\n",
       "near_location   0.8452\n",
       "partner         0.4868\n",
       "promo_friends   0.3085\n",
       "phone           0.9035\n",
       "group_visits    0.4123\n",
       "churn           0.2652\n",
       "dtype: float64"
      ]
     },
     "execution_count": 8,
     "metadata": {},
     "output_type": "execute_result"
    }
   ],
   "source": [
    "gym_churn[binary_features].mean()"
   ]
  },
  {
   "cell_type": "markdown",
   "metadata": {},
   "source": [
    "Итак, можно предпоположить следующее:\n",
    "- отток клиентов составляет 26.5%,\n",
    "- процентное соотношение мужчин и женщин примерно одинаковое,\n",
    "- большинство клиентов живут или работают неподалеку от фитнес-центра,\n",
    "- примерно половина пользуется партнерской программой,\n",
    "- с 90% клиентов можно связаться по телефону,\n",
    "- около 40% посещают групповые программы."
   ]
  },
  {
   "cell_type": "markdown",
   "metadata": {},
   "source": [
    "Посмотрим на процентное соотношение видов абонементов."
   ]
  },
  {
   "cell_type": "code",
   "execution_count": 9,
   "metadata": {},
   "outputs": [
    {
     "data": {
      "text/plain": [
       "1    0.5517\n",
       "12   0.2400\n",
       "6    0.2082\n",
       "Name: contract_period, dtype: float64"
      ]
     },
     "execution_count": 9,
     "metadata": {},
     "output_type": "execute_result"
    }
   ],
   "source": [
    "gym_churn.contract_period.value_counts(normalize=True)"
   ]
  },
  {
   "cell_type": "markdown",
   "metadata": {},
   "source": [
    "55% клиентов покупают абонементы на один месяц, 24% - на 12 и около 20% - на полгода.\n",
    "\n",
    "Теперь посмотрим на базовую статистику по количественным признакам."
   ]
  },
  {
   "cell_type": "code",
   "execution_count": 10,
   "metadata": {},
   "outputs": [],
   "source": [
    "num_features = ['age', 'avg_additional_charges_total', 'month_to_end_contract', 'lifetime',\n",
    "       'avg_class_frequency_total', 'avg_class_frequency_current_month']"
   ]
  },
  {
   "cell_type": "code",
   "execution_count": 11,
   "metadata": {},
   "outputs": [
    {
     "data": {
      "text/html": [
       "<div>\n",
       "<style scoped>\n",
       "    .dataframe tbody tr th:only-of-type {\n",
       "        vertical-align: middle;\n",
       "    }\n",
       "\n",
       "    .dataframe tbody tr th {\n",
       "        vertical-align: top;\n",
       "    }\n",
       "\n",
       "    .dataframe thead th {\n",
       "        text-align: right;\n",
       "    }\n",
       "</style>\n",
       "<table border=\"1\" class=\"dataframe\">\n",
       "  <thead>\n",
       "    <tr style=\"text-align: right;\">\n",
       "      <th></th>\n",
       "      <th>age</th>\n",
       "      <th>avg_additional_charges_total</th>\n",
       "      <th>month_to_end_contract</th>\n",
       "      <th>lifetime</th>\n",
       "      <th>avg_class_frequency_total</th>\n",
       "      <th>avg_class_frequency_current_month</th>\n",
       "    </tr>\n",
       "  </thead>\n",
       "  <tbody>\n",
       "    <tr>\n",
       "      <td>count</td>\n",
       "      <td>4,000.0000</td>\n",
       "      <td>4,000.0000</td>\n",
       "      <td>4,000.0000</td>\n",
       "      <td>4,000.0000</td>\n",
       "      <td>4,000.0000</td>\n",
       "      <td>4,000.0000</td>\n",
       "    </tr>\n",
       "    <tr>\n",
       "      <td>mean</td>\n",
       "      <td>29.1842</td>\n",
       "      <td>146.9437</td>\n",
       "      <td>4.3228</td>\n",
       "      <td>3.7247</td>\n",
       "      <td>1.8790</td>\n",
       "      <td>1.7671</td>\n",
       "    </tr>\n",
       "    <tr>\n",
       "      <td>std</td>\n",
       "      <td>3.2584</td>\n",
       "      <td>96.3556</td>\n",
       "      <td>4.1913</td>\n",
       "      <td>3.7493</td>\n",
       "      <td>0.9722</td>\n",
       "      <td>1.0529</td>\n",
       "    </tr>\n",
       "    <tr>\n",
       "      <td>min</td>\n",
       "      <td>18.0000</td>\n",
       "      <td>0.1482</td>\n",
       "      <td>1.0000</td>\n",
       "      <td>0.0000</td>\n",
       "      <td>0.0000</td>\n",
       "      <td>0.0000</td>\n",
       "    </tr>\n",
       "    <tr>\n",
       "      <td>25%</td>\n",
       "      <td>27.0000</td>\n",
       "      <td>68.8688</td>\n",
       "      <td>1.0000</td>\n",
       "      <td>1.0000</td>\n",
       "      <td>1.1809</td>\n",
       "      <td>0.9630</td>\n",
       "    </tr>\n",
       "    <tr>\n",
       "      <td>50%</td>\n",
       "      <td>29.0000</td>\n",
       "      <td>136.2202</td>\n",
       "      <td>1.0000</td>\n",
       "      <td>3.0000</td>\n",
       "      <td>1.8328</td>\n",
       "      <td>1.7196</td>\n",
       "    </tr>\n",
       "    <tr>\n",
       "      <td>75%</td>\n",
       "      <td>31.0000</td>\n",
       "      <td>210.9496</td>\n",
       "      <td>6.0000</td>\n",
       "      <td>5.0000</td>\n",
       "      <td>2.5361</td>\n",
       "      <td>2.5103</td>\n",
       "    </tr>\n",
       "    <tr>\n",
       "      <td>max</td>\n",
       "      <td>41.0000</td>\n",
       "      <td>552.5907</td>\n",
       "      <td>12.0000</td>\n",
       "      <td>31.0000</td>\n",
       "      <td>6.0237</td>\n",
       "      <td>6.1468</td>\n",
       "    </tr>\n",
       "  </tbody>\n",
       "</table>\n",
       "</div>"
      ],
      "text/plain": [
       "             age  avg_additional_charges_total  month_to_end_contract  \\\n",
       "count 4,000.0000                    4,000.0000             4,000.0000   \n",
       "mean     29.1842                      146.9437                 4.3228   \n",
       "std       3.2584                       96.3556                 4.1913   \n",
       "min      18.0000                        0.1482                 1.0000   \n",
       "25%      27.0000                       68.8688                 1.0000   \n",
       "50%      29.0000                      136.2202                 1.0000   \n",
       "75%      31.0000                      210.9496                 6.0000   \n",
       "max      41.0000                      552.5907                12.0000   \n",
       "\n",
       "        lifetime  avg_class_frequency_total  avg_class_frequency_current_month  \n",
       "count 4,000.0000                 4,000.0000                         4,000.0000  \n",
       "mean      3.7247                     1.8790                             1.7671  \n",
       "std       3.7493                     0.9722                             1.0529  \n",
       "min       0.0000                     0.0000                             0.0000  \n",
       "25%       1.0000                     1.1809                             0.9630  \n",
       "50%       3.0000                     1.8328                             1.7196  \n",
       "75%       5.0000                     2.5361                             2.5103  \n",
       "max      31.0000                     6.0237                             6.1468  "
      ]
     },
     "execution_count": 11,
     "metadata": {},
     "output_type": "execute_result"
    }
   ],
   "source": [
    "gym_churn[num_features].describe()"
   ]
  },
  {
   "cell_type": "markdown",
   "metadata": {},
   "source": [
    "Можно сказать, что:\n",
    "- средний возраст клиентов - 30 лет, при этом максимальный - всего 41,\n",
    "- суммарная выручка от других услуг фитнес-центра составляет 147 у.е. на клиента,\n",
    "- среднее время посещений - 3 месяца,\n",
    "- клиенты ходят в фитнес-центр примерно два раза в неделю.\n",
    "\n",
    "Поскольку есть переменная с большим стандартным отклонением (`avg_additional_charges_total`), данные надо будет стандартизировать для обучения моделей, чтобы она не доминировала над остальными переменными. \n",
    "\n",
    "Теперь посмотрим на средние значения признаков в двух группах — тех, кто ушел в отток и тех, кто остался, и построим графики распределения признаков. "
   ]
  },
  {
   "cell_type": "code",
   "execution_count": 12,
   "metadata": {},
   "outputs": [
    {
     "data": {
      "text/html": [
       "<div>\n",
       "<style scoped>\n",
       "    .dataframe tbody tr th:only-of-type {\n",
       "        vertical-align: middle;\n",
       "    }\n",
       "\n",
       "    .dataframe tbody tr th {\n",
       "        vertical-align: top;\n",
       "    }\n",
       "\n",
       "    .dataframe thead th {\n",
       "        text-align: right;\n",
       "    }\n",
       "</style>\n",
       "<table border=\"1\" class=\"dataframe\">\n",
       "  <thead>\n",
       "    <tr style=\"text-align: right;\">\n",
       "      <th>churn</th>\n",
       "      <th>0</th>\n",
       "      <th>1</th>\n",
       "    </tr>\n",
       "  </thead>\n",
       "  <tbody>\n",
       "    <tr>\n",
       "      <td>gender</td>\n",
       "      <td>0.5100</td>\n",
       "      <td>0.5108</td>\n",
       "    </tr>\n",
       "    <tr>\n",
       "      <td>near_location</td>\n",
       "      <td>0.8731</td>\n",
       "      <td>0.7681</td>\n",
       "    </tr>\n",
       "    <tr>\n",
       "      <td>partner</td>\n",
       "      <td>0.5342</td>\n",
       "      <td>0.3553</td>\n",
       "    </tr>\n",
       "    <tr>\n",
       "      <td>promo_friends</td>\n",
       "      <td>0.3535</td>\n",
       "      <td>0.1838</td>\n",
       "    </tr>\n",
       "    <tr>\n",
       "      <td>phone</td>\n",
       "      <td>0.9037</td>\n",
       "      <td>0.9029</td>\n",
       "    </tr>\n",
       "    <tr>\n",
       "      <td>group_visits</td>\n",
       "      <td>0.4641</td>\n",
       "      <td>0.2686</td>\n",
       "    </tr>\n",
       "  </tbody>\n",
       "</table>\n",
       "</div>"
      ],
      "text/plain": [
       "churn              0      1\n",
       "gender        0.5100 0.5108\n",
       "near_location 0.8731 0.7681\n",
       "partner       0.5342 0.3553\n",
       "promo_friends 0.3535 0.1838\n",
       "phone         0.9037 0.9029\n",
       "group_visits  0.4641 0.2686"
      ]
     },
     "execution_count": 12,
     "metadata": {},
     "output_type": "execute_result"
    }
   ],
   "source": [
    "binary_features.remove('churn')\n",
    "gym_churn.groupby('churn')[binary_features].mean().T"
   ]
  },
  {
   "cell_type": "markdown",
   "metadata": {},
   "source": [
    "Посмотрим графики."
   ]
  },
  {
   "cell_type": "code",
   "execution_count": 13,
   "metadata": {},
   "outputs": [
    {
     "data": {
      "image/png": "[encoded data removed]",
      "text/plain": [
       "<Figure size 864x576 with 6 Axes>"
      ]
     },
     "metadata": {},
     "output_type": "display_data"
    }
   ],
   "source": [
    "fig, axes = plt.subplots(2,3, figsize=(12,8))\n",
    "_ = fig.suptitle('Соотношение качественных признаков', fontsize=14, y = .95)\n",
    "for ax, col in zip(axes.flat, binary_features):\n",
    "    ratio = gym_churn.groupby('churn')[col].value_counts(normalize=True).rename('Соотношение').reset_index()\n",
    "    _ = sns.barplot(x=col, y='Соотношение', hue='churn', data=ratio,  ax=ax)\n",
    "    _ = ax.set(ylim = (0,1))\n",
    "\n",
    "plt.show()"
   ]
  },
  {
   "cell_type": "markdown",
   "metadata": {},
   "source": [
    "Средние значения и графики показывают, что на отток может влиять:\n",
    "- местоположение клиента (дальше от фитнес-центра),\n",
    "- партнерская программа (уходящие клиенты в ней не участвуют),\n",
    "- акция \"приведи друга\" (также не участвуют),\n",
    "- посещение групповых программ (меньше их посещают).\n",
    "\n",
    "Пол и наличие номера телефона не влияют.\n",
    "\n",
    "Посмотрим на количественные признаки по среднему и построим гистограммы и графики распределения."
   ]
  },
  {
   "cell_type": "code",
   "execution_count": 14,
   "metadata": {
    "scrolled": false
   },
   "outputs": [
    {
     "data": {
      "text/html": [
       "<div>\n",
       "<style scoped>\n",
       "    .dataframe tbody tr th:only-of-type {\n",
       "        vertical-align: middle;\n",
       "    }\n",
       "\n",
       "    .dataframe tbody tr th {\n",
       "        vertical-align: top;\n",
       "    }\n",
       "\n",
       "    .dataframe thead th {\n",
       "        text-align: right;\n",
       "    }\n",
       "</style>\n",
       "<table border=\"1\" class=\"dataframe\">\n",
       "  <thead>\n",
       "    <tr style=\"text-align: right;\">\n",
       "      <th></th>\n",
       "      <th>churn</th>\n",
       "      <th>0</th>\n",
       "      <th>1</th>\n",
       "    </tr>\n",
       "  </thead>\n",
       "  <tbody>\n",
       "    <tr>\n",
       "      <td rowspan=\"3\" valign=\"top\">age</td>\n",
       "      <td>std</td>\n",
       "      <td>3.0099</td>\n",
       "      <td>2.8952</td>\n",
       "    </tr>\n",
       "    <tr>\n",
       "      <td>mean</td>\n",
       "      <td>29.9765</td>\n",
       "      <td>26.9896</td>\n",
       "    </tr>\n",
       "    <tr>\n",
       "      <td>median</td>\n",
       "      <td>30.0000</td>\n",
       "      <td>27.0000</td>\n",
       "    </tr>\n",
       "    <tr>\n",
       "      <td rowspan=\"3\" valign=\"top\">avg_additional_charges_total</td>\n",
       "      <td>std</td>\n",
       "      <td>99.8016</td>\n",
       "      <td>77.6964</td>\n",
       "    </tr>\n",
       "    <tr>\n",
       "      <td>mean</td>\n",
       "      <td>158.4457</td>\n",
       "      <td>115.0829</td>\n",
       "    </tr>\n",
       "    <tr>\n",
       "      <td>median</td>\n",
       "      <td>149.8812</td>\n",
       "      <td>103.8147</td>\n",
       "    </tr>\n",
       "    <tr>\n",
       "      <td rowspan=\"3\" valign=\"top\">month_to_end_contract</td>\n",
       "      <td>std</td>\n",
       "      <td>4.3635</td>\n",
       "      <td>1.9646</td>\n",
       "    </tr>\n",
       "    <tr>\n",
       "      <td>mean</td>\n",
       "      <td>5.2831</td>\n",
       "      <td>1.6626</td>\n",
       "    </tr>\n",
       "    <tr>\n",
       "      <td>median</td>\n",
       "      <td>6.0000</td>\n",
       "      <td>1.0000</td>\n",
       "    </tr>\n",
       "    <tr>\n",
       "      <td rowspan=\"3\" valign=\"top\">lifetime</td>\n",
       "      <td>std</td>\n",
       "      <td>3.8748</td>\n",
       "      <td>1.1108</td>\n",
       "    </tr>\n",
       "    <tr>\n",
       "      <td>mean</td>\n",
       "      <td>4.7118</td>\n",
       "      <td>0.9906</td>\n",
       "    </tr>\n",
       "    <tr>\n",
       "      <td>median</td>\n",
       "      <td>4.0000</td>\n",
       "      <td>1.0000</td>\n",
       "    </tr>\n",
       "    <tr>\n",
       "      <td rowspan=\"3\" valign=\"top\">avg_class_frequency_total</td>\n",
       "      <td>std</td>\n",
       "      <td>1.0160</td>\n",
       "      <td>0.6947</td>\n",
       "    </tr>\n",
       "    <tr>\n",
       "      <td>mean</td>\n",
       "      <td>2.0249</td>\n",
       "      <td>1.4750</td>\n",
       "    </tr>\n",
       "    <tr>\n",
       "      <td>median</td>\n",
       "      <td>2.0433</td>\n",
       "      <td>1.4912</td>\n",
       "    </tr>\n",
       "    <tr>\n",
       "      <td rowspan=\"3\" valign=\"top\">avg_class_frequency_current_month</td>\n",
       "      <td>std</td>\n",
       "      <td>1.0190</td>\n",
       "      <td>0.7702</td>\n",
       "    </tr>\n",
       "    <tr>\n",
       "      <td>mean</td>\n",
       "      <td>2.0279</td>\n",
       "      <td>1.0445</td>\n",
       "    </tr>\n",
       "    <tr>\n",
       "      <td>median</td>\n",
       "      <td>2.0467</td>\n",
       "      <td>0.9794</td>\n",
       "    </tr>\n",
       "  </tbody>\n",
       "</table>\n",
       "</div>"
      ],
      "text/plain": [
       "churn                                           0        1\n",
       "age                               std      3.0099   2.8952\n",
       "                                  mean    29.9765  26.9896\n",
       "                                  median  30.0000  27.0000\n",
       "avg_additional_charges_total      std     99.8016  77.6964\n",
       "                                  mean   158.4457 115.0829\n",
       "                                  median 149.8812 103.8147\n",
       "month_to_end_contract             std      4.3635   1.9646\n",
       "                                  mean     5.2831   1.6626\n",
       "                                  median   6.0000   1.0000\n",
       "lifetime                          std      3.8748   1.1108\n",
       "                                  mean     4.7118   0.9906\n",
       "                                  median   4.0000   1.0000\n",
       "avg_class_frequency_total         std      1.0160   0.6947\n",
       "                                  mean     2.0249   1.4750\n",
       "                                  median   2.0433   1.4912\n",
       "avg_class_frequency_current_month std      1.0190   0.7702\n",
       "                                  mean     2.0279   1.0445\n",
       "                                  median   2.0467   0.9794"
      ]
     },
     "execution_count": 14,
     "metadata": {},
     "output_type": "execute_result"
    }
   ],
   "source": [
    "gym_churn.groupby('churn')[num_features].agg(['std', 'mean', 'median']).T"
   ]
  },
  {
   "cell_type": "code",
   "execution_count": 15,
   "metadata": {},
   "outputs": [
    {
     "data": {
      "image/png": "[encoded data removed]",
      "text/plain": [
       "<Figure size 864x576 with 6 Axes>"
      ]
     },
     "metadata": {},
     "output_type": "display_data"
    }
   ],
   "source": [
    "fig, axes = plt.subplots(2,3, figsize=(12,8))\n",
    "_ = fig.suptitle('Распределение количественных признаков', fontsize=14, y = .95)\n",
    "for ax, col in zip(axes.flat, num_features):\n",
    "    _ = sns.distplot(gym_churn.query('churn==0')[col], bins=10, ax=ax, label ='Клиенты')\n",
    "    _ = sns.distplot(gym_churn.query('churn==1')[col], bins=10, ax=ax, label ='Ушедшие')\n",
    "    _ = ax.legend()\n",
    "    \n",
    "plt.show()"
   ]
  },
  {
   "cell_type": "markdown",
   "metadata": {},
   "source": [
    "Отдельно построим barplot для сравнения длительности абонементов."
   ]
  },
  {
   "cell_type": "code",
   "execution_count": 16,
   "metadata": {},
   "outputs": [
    {
     "data": {
      "image/png": "[encoded data removed]",
      "text/plain": [
       "<Figure size 720x216 with 1 Axes>"
      ]
     },
     "metadata": {},
     "output_type": "display_data"
    }
   ],
   "source": [
    "contract_period = gym_churn.groupby('churn')['contract_period'].value_counts(normalize=True).rename('ratio')\\\n",
    "                           .reset_index()\n",
    "_ = plt.figure(figsize=(10, 3))\n",
    "_ = sns.barplot(data=contract_period, x='contract_period', y='ratio', hue='churn')\n",
    "_ = plt.title('Длительность абонемента', fontsize=14)"
   ]
  },
  {
   "cell_type": "markdown",
   "metadata": {},
   "source": [
    "Можно сказать, что все количественные признаки так или иначе отличаются среди клиентов и тех, кто ушел (отток):\n",
    "- в среднем ушедшие где-то на три года моложе (ушедши в среднем 27 лет),\n",
    "- примерно на 40 у.е. меньше тратят на другие услуги фитнес-центра,\n",
    "- берут меньше групповых занятий,\n",
    "- в среднем меньше посещают фитнес-центр в неделю (1-1,5 занятий против 2х),\n",
    "- берут абонемент на один месяц,\n",
    "- остаются с фитнес-центром меньше(1 месяц против 4х).\n",
    "\n",
    "\n",
    "Теперь построим матрицу корреляций для определения мультиколлинеарных признаков."
   ]
  },
  {
   "cell_type": "code",
   "execution_count": 17,
   "metadata": {},
   "outputs": [
    {
     "data": {
      "image/png": "[encoded data removed]",
      "text/plain": [
       "<Figure size 1080x576 with 2 Axes>"
      ]
     },
     "metadata": {},
     "output_type": "display_data"
    }
   ],
   "source": [
    "corr_matrix = gym_churn.corr()\n",
    "_ = plt.figure(figsize=(15,8))\n",
    "_ = sns.heatmap(corr_matrix, annot=True, cmap='Greens')\n",
    "_ = plt.title('Корреляция признаков', fontsize=14)"
   ]
  },
  {
   "cell_type": "code",
   "execution_count": 18,
   "metadata": {},
   "outputs": [
    {
     "data": {
      "text/plain": [
       "Index(['gender', 'near_location', 'partner', 'promo_friends', 'phone',\n",
       "       'contract_period', 'group_visits', 'age',\n",
       "       'avg_additional_charges_total', 'month_to_end_contract', 'lifetime',\n",
       "       'avg_class_frequency_total', 'avg_class_frequency_current_month',\n",
       "       'churn'],\n",
       "      dtype='object')"
      ]
     },
     "execution_count": 18,
     "metadata": {},
     "output_type": "execute_result"
    }
   ],
   "source": [
    "gym_churn.columns"
   ]
  },
  {
   "cell_type": "markdown",
   "metadata": {},
   "source": [
    "У целевой переменной `churn` можно увидеть отрицательную корреляцию с переменными `lifetime` (-0.44), `avg_class_frequency_current_month` (-0.41), `contract_period` (-0.39), `month_to_end_contract` (-0.38), что согласуется с анализом средних выше (уходящие меньше задерживаются в фитнес-центре, реже посещают групповые занятия, берут более короткие абонементы). \n",
    "\n",
    "Видна положительная корреляция между признаками `partner` и `promo_friends` (0.45), `contract_period` и `partner` (0.31), `month_to_end_contract` и `partner` (0.29), но она недостаточно сильная, чтобы удалять какие-то из этих признаков.  \n",
    "\n",
    "Однако, тепловая карта показывает, что между собой сильно коррелируют `month_to_end_contract` и `contract_period` (0.97), а также `avg_class_frequency_total` и `avg_class_frequency_current_month` (0.95). Удалим из датафрейма `month_to_end_contract` и `avg_class_frequency_current_month`, чтобы избежать мультиколлинеарности. \n",
    "\n",
    "Кроме того, анализ бинарных признаков показал, что пол и наличие телефона тоже не различаются в группах клиентов и ушедших клиентов - эти столбцы также можно удалить. Переменную `contract_period` преобразуем в категорию и преобразуем ее в множество бинарных полей с помощью `pd.get_dummies()`. На выходе получим новый датафрейм `gym_churn_new`."
   ]
  },
  {
   "cell_type": "code",
   "execution_count": 19,
   "metadata": {},
   "outputs": [
    {
     "name": "stdout",
     "output_type": "stream",
     "text": [
      "<class 'pandas.core.frame.DataFrame'>\n",
      "RangeIndex: 4000 entries, 0 to 3999\n",
      "Data columns (total 12 columns):\n",
      "near_location                   4000 non-null int64\n",
      "partner                         4000 non-null int64\n",
      "promo_friends                   4000 non-null int64\n",
      "group_visits                    4000 non-null int64\n",
      "age                             4000 non-null int64\n",
      "avg_additional_charges_total    4000 non-null float64\n",
      "lifetime                        4000 non-null int64\n",
      "avg_class_frequency_total       4000 non-null float64\n",
      "churn                           4000 non-null int64\n",
      "contract_period_1               4000 non-null uint8\n",
      "contract_period_6               4000 non-null uint8\n",
      "contract_period_12              4000 non-null uint8\n",
      "dtypes: float64(2), int64(7), uint8(3)\n",
      "memory usage: 293.1 KB\n"
     ]
    },
    {
     "data": {
      "text/html": [
       "<div>\n",
       "<style scoped>\n",
       "    .dataframe tbody tr th:only-of-type {\n",
       "        vertical-align: middle;\n",
       "    }\n",
       "\n",
       "    .dataframe tbody tr th {\n",
       "        vertical-align: top;\n",
       "    }\n",
       "\n",
       "    .dataframe thead th {\n",
       "        text-align: right;\n",
       "    }\n",
       "</style>\n",
       "<table border=\"1\" class=\"dataframe\">\n",
       "  <thead>\n",
       "    <tr style=\"text-align: right;\">\n",
       "      <th></th>\n",
       "      <th>near_location</th>\n",
       "      <th>partner</th>\n",
       "      <th>promo_friends</th>\n",
       "      <th>group_visits</th>\n",
       "      <th>age</th>\n",
       "      <th>avg_additional_charges_total</th>\n",
       "      <th>lifetime</th>\n",
       "      <th>avg_class_frequency_total</th>\n",
       "      <th>churn</th>\n",
       "      <th>contract_period_1</th>\n",
       "      <th>contract_period_6</th>\n",
       "      <th>contract_period_12</th>\n",
       "    </tr>\n",
       "  </thead>\n",
       "  <tbody>\n",
       "    <tr>\n",
       "      <td>0</td>\n",
       "      <td>1</td>\n",
       "      <td>1</td>\n",
       "      <td>1</td>\n",
       "      <td>1</td>\n",
       "      <td>29</td>\n",
       "      <td>14.2275</td>\n",
       "      <td>3</td>\n",
       "      <td>0.0204</td>\n",
       "      <td>0</td>\n",
       "      <td>0</td>\n",
       "      <td>1</td>\n",
       "      <td>0</td>\n",
       "    </tr>\n",
       "    <tr>\n",
       "      <td>1</td>\n",
       "      <td>1</td>\n",
       "      <td>0</td>\n",
       "      <td>0</td>\n",
       "      <td>1</td>\n",
       "      <td>31</td>\n",
       "      <td>113.2029</td>\n",
       "      <td>7</td>\n",
       "      <td>1.9229</td>\n",
       "      <td>0</td>\n",
       "      <td>0</td>\n",
       "      <td>0</td>\n",
       "      <td>1</td>\n",
       "    </tr>\n",
       "    <tr>\n",
       "      <td>2</td>\n",
       "      <td>1</td>\n",
       "      <td>1</td>\n",
       "      <td>0</td>\n",
       "      <td>0</td>\n",
       "      <td>28</td>\n",
       "      <td>129.4485</td>\n",
       "      <td>2</td>\n",
       "      <td>1.8591</td>\n",
       "      <td>0</td>\n",
       "      <td>1</td>\n",
       "      <td>0</td>\n",
       "      <td>0</td>\n",
       "    </tr>\n",
       "    <tr>\n",
       "      <td>3</td>\n",
       "      <td>1</td>\n",
       "      <td>1</td>\n",
       "      <td>1</td>\n",
       "      <td>1</td>\n",
       "      <td>33</td>\n",
       "      <td>62.6699</td>\n",
       "      <td>2</td>\n",
       "      <td>3.2056</td>\n",
       "      <td>0</td>\n",
       "      <td>0</td>\n",
       "      <td>0</td>\n",
       "      <td>1</td>\n",
       "    </tr>\n",
       "    <tr>\n",
       "      <td>4</td>\n",
       "      <td>1</td>\n",
       "      <td>1</td>\n",
       "      <td>1</td>\n",
       "      <td>0</td>\n",
       "      <td>26</td>\n",
       "      <td>198.3623</td>\n",
       "      <td>3</td>\n",
       "      <td>1.1139</td>\n",
       "      <td>0</td>\n",
       "      <td>1</td>\n",
       "      <td>0</td>\n",
       "      <td>0</td>\n",
       "    </tr>\n",
       "  </tbody>\n",
       "</table>\n",
       "</div>"
      ],
      "text/plain": [
       "   near_location  partner  promo_friends  group_visits  age  \\\n",
       "0              1        1              1             1   29   \n",
       "1              1        0              0             1   31   \n",
       "2              1        1              0             0   28   \n",
       "3              1        1              1             1   33   \n",
       "4              1        1              1             0   26   \n",
       "\n",
       "   avg_additional_charges_total  lifetime  avg_class_frequency_total  churn  \\\n",
       "0                       14.2275         3                     0.0204      0   \n",
       "1                      113.2029         7                     1.9229      0   \n",
       "2                      129.4485         2                     1.8591      0   \n",
       "3                       62.6699         2                     3.2056      0   \n",
       "4                      198.3623         3                     1.1139      0   \n",
       "\n",
       "   contract_period_1  contract_period_6  contract_period_12  \n",
       "0                  0                  1                   0  \n",
       "1                  0                  0                   1  \n",
       "2                  1                  0                   0  \n",
       "3                  0                  0                   1  \n",
       "4                  1                  0                   0  "
      ]
     },
     "execution_count": 19,
     "metadata": {},
     "output_type": "execute_result"
    }
   ],
   "source": [
    "gym_churn_new = gym_churn.drop(['month_to_end_contract', 'avg_class_frequency_current_month', 'gender', 'phone'], \n",
    "                               axis=1)\n",
    "gym_churn_new['contract_period'] = gym_churn_new['contract_period'].astype('category')\n",
    "gym_churn_new = pd.get_dummies(gym_churn_new)\n",
    "gym_churn_new.info()\n",
    "gym_churn_new.head()"
   ]
  },
  {
   "cell_type": "markdown",
   "metadata": {},
   "source": [
    "Итак, мы получили новый датафрейм, на котором будем строить модели прогнозирования оттока пользователей. "
   ]
  },
  {
   "cell_type": "markdown",
   "metadata": {},
   "source": [
    "### Выводы <a id=\"step2.1\"></a> "
   ]
  },
  {
   "cell_type": "markdown",
   "metadata": {},
   "source": [
    "- отток клиентов составляет 26.5%,\n",
    "- процентное соотношение мужчин и женщин примерно одинаковое,\n",
    "- большинство клиентов живут или работают неподалеку от фитнес-центра,\n",
    "- примерно половина пользуется партнерской программой,\n",
    "- с 90% клиентов можно связаться по телефону,\n",
    "- около 40% посещают групповые программы.\n",
    "- средний возраст клиентов - 30 лет, при этом максимальный - всего 41,\n",
    "- суммарная выручка от других услуг фитнес-центра составляет 147 у.е. на клиента,\n",
    "- среднее время посещений - 3 месяца,\n",
    "- клиенты ходят в фитнес-центр примерно два раза в неделю.\n",
    "\n",
    "Предварительный анализ позволяет предположить, что клиенты, которые уходят:\n",
    "- находятся дальше от фитнес-центра,\n",
    "- меньше участвуют в партнерской программе и акции \"приведи друга\",\n",
    "- реже посещают групповые программы,\n",
    "- в среднем на три года моложе (медиана - 27 лет),\n",
    "- примерно на 40 у.е. меньше тратят на другие услуги фитнес-центра,\n",
    "- в среднем меньше посещают фитнес-центр в неделю (1-1,5 занятий против 2х),\n",
    "- берут абонемент на один месяц,\n",
    "- остаются с фитнес-центром меньше(1 месяц против 4х).\n",
    "\n",
    "\n",
    "Для построения моделей мы сделали новый датафрейм `gym_churn_new`, которого удалили столбцы `gender`, `phone`, так как они не влияют на отток, а также столбцы `month_to_end_contract` и `avg_class_frequency_current_month`, чтобы избавиться от мультиколлинеарности признаков. Столбец `contract_period` был преобразован в множество бинарных полей."
   ]
  },
  {
   "cell_type": "markdown",
   "metadata": {},
   "source": [
    "# Шаг 3. Построение модели прогнозирования оттока пользователей <a id=\"step3\"></a> "
   ]
  },
  {
   "cell_type": "markdown",
   "metadata": {},
   "source": [
    "## Логистическая регрессия <a id=\"step3.1\"></a> "
   ]
  },
  {
   "cell_type": "markdown",
   "metadata": {},
   "source": [
    "Выделим целевую переменную y и матрицу признаков X, разделим данные на обучающую и тестовую выборки с учетом дисбаланса классов (отток составляет около 26%) - укажем параметр `stratify = y`. \n",
    "\n",
    "Далее стандартизируем данные и применим модель логистической регрессии. Посчитаем прогнозы и вероятности."
   ]
  },
  {
   "cell_type": "code",
   "execution_count": 20,
   "metadata": {},
   "outputs": [
    {
     "data": {
      "text/plain": [
       "LogisticRegression(C=1.0, class_weight=None, dual=False, fit_intercept=True,\n",
       "                   intercept_scaling=1, l1_ratio=None, max_iter=100,\n",
       "                   multi_class='warn', n_jobs=None, penalty='l2',\n",
       "                   random_state=None, solver='liblinear', tol=0.0001, verbose=0,\n",
       "                   warm_start=False)"
      ]
     },
     "execution_count": 20,
     "metadata": {},
     "output_type": "execute_result"
    },
    {
     "data": {
      "text/plain": [
       "array([1, 0, 0, 0, 0, 0, 0, 0, 1, 0, 0, 0, 0, 1, 1, 0, 0, 0, 0, 0])"
      ]
     },
     "execution_count": 20,
     "metadata": {},
     "output_type": "execute_result"
    },
    {
     "data": {
      "text/plain": [
       "array([7.68384830e-01, 7.75697819e-02, 1.14473601e-02, 4.03754640e-02,\n",
       "       2.00551650e-02, 4.10493858e-03, 7.48433936e-05, 9.88072995e-02,\n",
       "       6.76550853e-01, 1.71954725e-02, 2.60369196e-03, 4.82202396e-01,\n",
       "       3.16615413e-03, 9.71847266e-01, 9.07167578e-01, 2.76862536e-02,\n",
       "       1.67607280e-01, 3.06566630e-01, 3.78038969e-01, 2.58157012e-04])"
      ]
     },
     "execution_count": 20,
     "metadata": {},
     "output_type": "execute_result"
    }
   ],
   "source": [
    "X = gym_churn_new.drop(columns = ['churn'])\n",
    "y = gym_churn_new['churn']\n",
    "\n",
    "X_train, X_test, y_train, y_test = train_test_split(X, y, stratify = y, test_size=0.2, random_state=0)\n",
    "\n",
    "scaler = StandardScaler()\n",
    "X_train_st = scaler.fit_transform(X_train) \n",
    "X_test_st = scaler.transform(X_test)\n",
    "\n",
    "model_lr = LogisticRegression(solver='liblinear')\n",
    "model_lr.fit(X_train_st, y_train)\n",
    "\n",
    "y_pred_lr = model_lr.predict(X_test_st)\n",
    "y_pred_lr[:20]\n",
    "\n",
    "probabilities_lr = model_lr.predict_proba(X_test_st)[:,1]\n",
    "probabilities_lr[:20]"
   ]
  },
  {
   "cell_type": "markdown",
   "metadata": {},
   "source": [
    "В качестве метрик возьмем матрицу ошибок (`confusion matrix`), долю правильных ответов (`accuracy`), точность (`precision`), полноту (`recall`) на основе значений прогнозного класса и добавим площадь под кривой ошибок (`roc_auc`) на основе вероятностей."
   ]
  },
  {
   "cell_type": "code",
   "execution_count": 21,
   "metadata": {},
   "outputs": [
    {
     "name": "stdout",
     "output_type": "stream",
     "text": [
      "Метрики логистической регрессии\n"
     ]
    },
    {
     "data": {
      "text/plain": [
       "'Confusion matrix: [550  38  37 175]'"
      ]
     },
     "execution_count": 21,
     "metadata": {},
     "output_type": "execute_result"
    },
    {
     "data": {
      "text/plain": [
       "'Accuracy: 0.91'"
      ]
     },
     "execution_count": 21,
     "metadata": {},
     "output_type": "execute_result"
    },
    {
     "data": {
      "text/plain": [
       "'Precision: 0.82'"
      ]
     },
     "execution_count": 21,
     "metadata": {},
     "output_type": "execute_result"
    },
    {
     "data": {
      "text/plain": [
       "'Recall: 0.83'"
      ]
     },
     "execution_count": 21,
     "metadata": {},
     "output_type": "execute_result"
    },
    {
     "data": {
      "text/plain": [
       "'ROC_AUC: 0.96'"
      ]
     },
     "execution_count": 21,
     "metadata": {},
     "output_type": "execute_result"
    }
   ],
   "source": [
    "print('Метрики логистической регрессии')\n",
    "'Confusion matrix: {}'.format((confusion_matrix(y_test, y_pred_lr)).ravel())\n",
    "'Accuracy: {:.2f}'.format(accuracy_score(y_test, y_pred_lr))\n",
    "'Precision: {:.2f}'.format(precision_score(y_test, y_pred_lr))\n",
    "'Recall: {:.2f}'.format(recall_score(y_test, y_pred_lr))\n",
    "'ROC_AUC: {:.2f}'.format(roc_auc_score(y_test, probabilities_lr))"
   ]
  },
  {
   "cell_type": "markdown",
   "metadata": {},
   "source": [
    "## Случайный лес <a id=\"step3.2\"></a> "
   ]
  },
  {
   "cell_type": "markdown",
   "metadata": {},
   "source": [
    "Сделаем то же самое для модели случайный лес."
   ]
  },
  {
   "cell_type": "code",
   "execution_count": 22,
   "metadata": {},
   "outputs": [
    {
     "data": {
      "text/plain": [
       "RandomForestClassifier(bootstrap=True, class_weight=None, criterion='gini',\n",
       "                       max_depth=None, max_features='auto', max_leaf_nodes=None,\n",
       "                       min_impurity_decrease=0.0, min_impurity_split=None,\n",
       "                       min_samples_leaf=1, min_samples_split=2,\n",
       "                       min_weight_fraction_leaf=0.0, n_estimators=100,\n",
       "                       n_jobs=None, oob_score=False, random_state=0, verbose=0,\n",
       "                       warm_start=False)"
      ]
     },
     "execution_count": 22,
     "metadata": {},
     "output_type": "execute_result"
    },
    {
     "data": {
      "text/plain": [
       "array([1, 0, 0, 0, 0, 0, 0, 0, 1, 0, 0, 1, 0, 1, 1, 0, 0, 0, 0, 0])"
      ]
     },
     "execution_count": 22,
     "metadata": {},
     "output_type": "execute_result"
    },
    {
     "data": {
      "text/plain": [
       "array([0.92, 0.02, 0.01, 0.02, 0.02, 0.03, 0.01, 0.32, 0.89, 0.02, 0.  ,\n",
       "       0.64, 0.  , 0.97, 0.77, 0.05, 0.36, 0.33, 0.45, 0.01])"
      ]
     },
     "execution_count": 22,
     "metadata": {},
     "output_type": "execute_result"
    }
   ],
   "source": [
    "model_rf = RandomForestClassifier(n_estimators = 100, random_state = 0)\n",
    "model_rf.fit(X_train_st, y_train)\n",
    "\n",
    "y_pred_rf = model_rf.predict(X_test_st)\n",
    "y_pred_rf[:20]\n",
    "\n",
    "probabilities_rf = model_rf.predict_proba(X_test_st)[:,1]\n",
    "probabilities_rf[:20]"
   ]
  },
  {
   "cell_type": "code",
   "execution_count": 23,
   "metadata": {},
   "outputs": [
    {
     "name": "stdout",
     "output_type": "stream",
     "text": [
      "Метрики случайного леса\n"
     ]
    },
    {
     "data": {
      "text/plain": [
       "'Confusion matrix: [558  30  49 163]'"
      ]
     },
     "execution_count": 23,
     "metadata": {},
     "output_type": "execute_result"
    },
    {
     "data": {
      "text/plain": [
       "'Accuracy: 0.90'"
      ]
     },
     "execution_count": 23,
     "metadata": {},
     "output_type": "execute_result"
    },
    {
     "data": {
      "text/plain": [
       "'Precision: 0.84'"
      ]
     },
     "execution_count": 23,
     "metadata": {},
     "output_type": "execute_result"
    },
    {
     "data": {
      "text/plain": [
       "'Recall: 0.77'"
      ]
     },
     "execution_count": 23,
     "metadata": {},
     "output_type": "execute_result"
    },
    {
     "data": {
      "text/plain": [
       "'ROC_AUC: 0.95'"
      ]
     },
     "execution_count": 23,
     "metadata": {},
     "output_type": "execute_result"
    }
   ],
   "source": [
    "print('Метрики случайного леса')\n",
    "'Confusion matrix: {}'.format((confusion_matrix(y_test, y_pred_rf)).ravel())\n",
    "'Accuracy: {:.2f}'.format(accuracy_score(y_test, y_pred_rf))\n",
    "'Precision: {:.2f}'.format(precision_score(y_test, y_pred_rf))\n",
    "'Recall: {:.2f}'.format(recall_score(y_test, y_pred_rf))\n",
    "'ROC_AUC: {:.2f}'.format(roc_auc_score(y_test, probabilities_rf))"
   ]
  },
  {
   "cell_type": "markdown",
   "metadata": {},
   "source": [
    "### Выводы <a id=\"step3.3\"></a> "
   ]
  },
  {
   "cell_type": "markdown",
   "metadata": {},
   "source": [
    "Метрики показывают, что модели в основном различаются по определению точности (`precision`) и полноты (`recall`), и, соответственно в том, сколько ложно-положительных и ложно-отрицательных результатов они дают. Модель линейной регрессии лучше показывает полноту (0.82 против 0.78) и дает меньше ложно-отрицательных результатов (39 против 46). А модель случайного леса лучше показывает точность (0.86 против 0.83) и дает меньше ложно-положительных результатов (28 против 36).\n",
    "\n",
    "При этом, если предположить, что для компании важнее в принципе не упустить клиента, то больше подойдет модель, выдающая меньше ложно-отрицательных результатов. Иными словами, если модель предскажет, что клиент уйдет, и компания предпримет какие-то меры для его удержания (которые, скорее всего, будут включать некоторые материальные затраты), а он останется (ложно-положительные результат), то усилия компании могут из него сделать более лояльного пользователя, и потери будут не так велики (или даже может быть прибыль, если довольный клиент еще приведет друзей). Если же модель предскажет, что клиент останется, а он уйдет (ложно-отрицательный результат), то потери очевидны, особенно если привлечение новых клиентов обходится недешево. В данном случае больше подходит модель линейной регрессии. \n",
    "\n",
    "С другой стороны, анализ показал, что у компании достаточно молодая аудитория (в среднем - около 30 лет) - а она в принципе может быть более мобильной и \"ищущей\". И если компания старается удержаться на плаву и пока не может получить доступ к другой аудитории или новую аудиторию получает относительно легко за счет партнерских программ, ей были бы больше важны средства, вкладываемые в укрепление лояльности клиентов, и тогда больше подошла бы модель, выдающая меньше ложно-положительных результатов, и это случайный лес.\n",
    "\n",
    "Поскольку у нас нет подробной инфориации о компании и дано, что компания сейчас борется с оттоком, предположим, что имеем дело с первым случаем и **выберем модель логистической регрессии**. "
   ]
  },
  {
   "cell_type": "markdown",
   "metadata": {},
   "source": [
    "# Шаг 4. Построение кластеризации пользователей <a id=\"step4\"></a> "
   ]
  },
  {
   "cell_type": "markdown",
   "metadata": {},
   "source": [
    "Для разделения пользователей фитнес-центра на кластеры вернемся к исходному подготовленному датафрейму `gym_churn`, чтобы иметь наиболее полную информацию. Построим матрицу расстояний функцией `linkage()` на стандартизованной матрице признаков и выведем дендрограмму."
   ]
  },
  {
   "cell_type": "code",
   "execution_count": 24,
   "metadata": {},
   "outputs": [
    {
     "data": {
      "image/png": "[encoded data removed]",
      "text/plain": [
       "<Figure size 1080x720 with 1 Axes>"
      ]
     },
     "metadata": {},
     "output_type": "display_data"
    }
   ],
   "source": [
    "X = gym_churn.drop(columns = ['churn'])\n",
    "\n",
    "X_st = scaler.fit_transform(X)\n",
    "\n",
    "linked = linkage(X_st, method = 'ward')\n",
    "\n",
    "_ = plt.figure(figsize=(15, 10))  \n",
    "_ = dendrogram(linked, orientation='top')\n",
    "_ = plt.title('Кластеры пользователей фитнес-центром', fontsize=14)\n",
    "plt.show()"
   ]
  },
  {
   "cell_type": "markdown",
   "metadata": {},
   "source": [
    "Обучим модель кластеризации на основании алгоритма K-Means и спрогнозируем кластеры клиентов. Денрограмма показывает 4 кластера, но видно, что фиолетовый можно было бы разбить на два, а то и на три. Возьмем число кластеров равное 5, как указано в задании. Номер кластера добавим в таблицу `gym_churn` под названием `cluster` и выведем первые строки таблицы."
   ]
  },
  {
   "cell_type": "code",
   "execution_count": 25,
   "metadata": {},
   "outputs": [
    {
     "data": {
      "text/html": [
       "<div>\n",
       "<style scoped>\n",
       "    .dataframe tbody tr th:only-of-type {\n",
       "        vertical-align: middle;\n",
       "    }\n",
       "\n",
       "    .dataframe tbody tr th {\n",
       "        vertical-align: top;\n",
       "    }\n",
       "\n",
       "    .dataframe thead th {\n",
       "        text-align: right;\n",
       "    }\n",
       "</style>\n",
       "<table border=\"1\" class=\"dataframe\">\n",
       "  <thead>\n",
       "    <tr style=\"text-align: right;\">\n",
       "      <th></th>\n",
       "      <th>gender</th>\n",
       "      <th>near_location</th>\n",
       "      <th>partner</th>\n",
       "      <th>promo_friends</th>\n",
       "      <th>phone</th>\n",
       "      <th>contract_period</th>\n",
       "      <th>group_visits</th>\n",
       "      <th>age</th>\n",
       "      <th>avg_additional_charges_total</th>\n",
       "      <th>month_to_end_contract</th>\n",
       "      <th>lifetime</th>\n",
       "      <th>avg_class_frequency_total</th>\n",
       "      <th>avg_class_frequency_current_month</th>\n",
       "      <th>churn</th>\n",
       "      <th>cluster</th>\n",
       "    </tr>\n",
       "  </thead>\n",
       "  <tbody>\n",
       "    <tr>\n",
       "      <td>0</td>\n",
       "      <td>1</td>\n",
       "      <td>1</td>\n",
       "      <td>1</td>\n",
       "      <td>1</td>\n",
       "      <td>0</td>\n",
       "      <td>6</td>\n",
       "      <td>1</td>\n",
       "      <td>29</td>\n",
       "      <td>14.2275</td>\n",
       "      <td>5</td>\n",
       "      <td>3</td>\n",
       "      <td>0.0204</td>\n",
       "      <td>0.0000</td>\n",
       "      <td>0</td>\n",
       "      <td>1</td>\n",
       "    </tr>\n",
       "    <tr>\n",
       "      <td>1</td>\n",
       "      <td>0</td>\n",
       "      <td>1</td>\n",
       "      <td>0</td>\n",
       "      <td>0</td>\n",
       "      <td>1</td>\n",
       "      <td>12</td>\n",
       "      <td>1</td>\n",
       "      <td>31</td>\n",
       "      <td>113.2029</td>\n",
       "      <td>12</td>\n",
       "      <td>7</td>\n",
       "      <td>1.9229</td>\n",
       "      <td>1.9102</td>\n",
       "      <td>0</td>\n",
       "      <td>0</td>\n",
       "    </tr>\n",
       "    <tr>\n",
       "      <td>2</td>\n",
       "      <td>0</td>\n",
       "      <td>1</td>\n",
       "      <td>1</td>\n",
       "      <td>0</td>\n",
       "      <td>1</td>\n",
       "      <td>1</td>\n",
       "      <td>0</td>\n",
       "      <td>28</td>\n",
       "      <td>129.4485</td>\n",
       "      <td>1</td>\n",
       "      <td>2</td>\n",
       "      <td>1.8591</td>\n",
       "      <td>1.7365</td>\n",
       "      <td>0</td>\n",
       "      <td>3</td>\n",
       "    </tr>\n",
       "    <tr>\n",
       "      <td>3</td>\n",
       "      <td>0</td>\n",
       "      <td>1</td>\n",
       "      <td>1</td>\n",
       "      <td>1</td>\n",
       "      <td>1</td>\n",
       "      <td>12</td>\n",
       "      <td>1</td>\n",
       "      <td>33</td>\n",
       "      <td>62.6699</td>\n",
       "      <td>12</td>\n",
       "      <td>2</td>\n",
       "      <td>3.2056</td>\n",
       "      <td>3.3572</td>\n",
       "      <td>0</td>\n",
       "      <td>0</td>\n",
       "    </tr>\n",
       "    <tr>\n",
       "      <td>4</td>\n",
       "      <td>1</td>\n",
       "      <td>1</td>\n",
       "      <td>1</td>\n",
       "      <td>1</td>\n",
       "      <td>1</td>\n",
       "      <td>1</td>\n",
       "      <td>0</td>\n",
       "      <td>26</td>\n",
       "      <td>198.3623</td>\n",
       "      <td>1</td>\n",
       "      <td>3</td>\n",
       "      <td>1.1139</td>\n",
       "      <td>1.1201</td>\n",
       "      <td>0</td>\n",
       "      <td>3</td>\n",
       "    </tr>\n",
       "  </tbody>\n",
       "</table>\n",
       "</div>"
      ],
      "text/plain": [
       "   gender  near_location  partner  promo_friends  phone  contract_period  \\\n",
       "0       1              1        1              1      0                6   \n",
       "1       0              1        0              0      1               12   \n",
       "2       0              1        1              0      1                1   \n",
       "3       0              1        1              1      1               12   \n",
       "4       1              1        1              1      1                1   \n",
       "\n",
       "   group_visits  age  avg_additional_charges_total  month_to_end_contract  \\\n",
       "0             1   29                       14.2275                      5   \n",
       "1             1   31                      113.2029                     12   \n",
       "2             0   28                      129.4485                      1   \n",
       "3             1   33                       62.6699                     12   \n",
       "4             0   26                      198.3623                      1   \n",
       "\n",
       "   lifetime  avg_class_frequency_total  avg_class_frequency_current_month  \\\n",
       "0         3                     0.0204                             0.0000   \n",
       "1         7                     1.9229                             1.9102   \n",
       "2         2                     1.8591                             1.7365   \n",
       "3         2                     3.2056                             3.3572   \n",
       "4         3                     1.1139                             1.1201   \n",
       "\n",
       "   churn  cluster  \n",
       "0      0        1  \n",
       "1      0        0  \n",
       "2      0        3  \n",
       "3      0        0  \n",
       "4      0        3  "
      ]
     },
     "execution_count": 25,
     "metadata": {},
     "output_type": "execute_result"
    }
   ],
   "source": [
    "model_km = KMeans(n_clusters = 5, random_state = 0)\n",
    "\n",
    "labels = model_km.fit_predict(X_st)\n",
    "\n",
    "gym_churn['cluster'] = labels\n",
    "\n",
    "\n",
    "gym_churn.head()"
   ]
  },
  {
   "cell_type": "markdown",
   "metadata": {},
   "source": [
    "Сразу посмотрим клиентов по кластерам и долю оттока клиентов по кластерам."
   ]
  },
  {
   "cell_type": "code",
   "execution_count": 26,
   "metadata": {},
   "outputs": [
    {
     "data": {
      "text/plain": [
       "3   0.3155\n",
       "0   0.2527\n",
       "4   0.2092\n",
       "2   0.1263\n",
       "1   0.0963\n",
       "Name: cluster, dtype: float64"
      ]
     },
     "execution_count": 26,
     "metadata": {},
     "output_type": "execute_result"
    }
   ],
   "source": [
    "gym_churn.cluster.value_counts(normalize=True)"
   ]
  },
  {
   "cell_type": "code",
   "execution_count": 27,
   "metadata": {},
   "outputs": [
    {
     "data": {
      "image/png": "[encoded data removed]",
      "text/plain": [
       "<Figure size 432x288 with 1 Axes>"
      ]
     },
     "metadata": {},
     "output_type": "display_data"
    }
   ],
   "source": [
    "_ = gym_churn.groupby('cluster').churn.mean().plot(kind='bar')\n",
    "_ = plt.title('Отток клиентов в среднем по кластерам', fontsize=14)"
   ]
  },
  {
   "cell_type": "markdown",
   "metadata": {},
   "source": [
    "Самый большой кластер - 3й (30%), и в нем же наблюдается самый большой отток (около половины клиентов). Около 45% клиентов кластера 2 уходят, но этот кластер включает только 13% клиентов. Меньше всего уходят клиенты кластеров 0 (25% клиентов центра) и 4 (20%). В 1м кластере (10% клиентов) отток такой же, как в среднем для датасета.\n",
    "\n",
    "Таким образом, больше всего уходит клиентов в кластерах 2 и 3 (это около 44% клиентов). Самые надежные - клиенты кластеров 0 и 4 (46% клиентов)."
   ]
  },
  {
   "cell_type": "markdown",
   "metadata": {},
   "source": [
    "Посмотрим на средние значения признаков для кластеров."
   ]
  },
  {
   "cell_type": "code",
   "execution_count": 28,
   "metadata": {},
   "outputs": [
    {
     "data": {
      "text/html": [
       "<div>\n",
       "<style scoped>\n",
       "    .dataframe tbody tr th:only-of-type {\n",
       "        vertical-align: middle;\n",
       "    }\n",
       "\n",
       "    .dataframe tbody tr th {\n",
       "        vertical-align: top;\n",
       "    }\n",
       "\n",
       "    .dataframe thead th {\n",
       "        text-align: right;\n",
       "    }\n",
       "</style>\n",
       "<table border=\"1\" class=\"dataframe\">\n",
       "  <thead>\n",
       "    <tr style=\"text-align: right;\">\n",
       "      <th>cluster</th>\n",
       "      <th>0</th>\n",
       "      <th>1</th>\n",
       "      <th>2</th>\n",
       "      <th>3</th>\n",
       "      <th>4</th>\n",
       "    </tr>\n",
       "  </thead>\n",
       "  <tbody>\n",
       "    <tr>\n",
       "      <td>gender</td>\n",
       "      <td>0.5025</td>\n",
       "      <td>0.5221</td>\n",
       "      <td>0.4950</td>\n",
       "      <td>0.4857</td>\n",
       "      <td>0.5603</td>\n",
       "    </tr>\n",
       "    <tr>\n",
       "      <td>near_location</td>\n",
       "      <td>0.9594</td>\n",
       "      <td>0.8623</td>\n",
       "      <td>0.0000</td>\n",
       "      <td>1.0000</td>\n",
       "      <td>0.9761</td>\n",
       "    </tr>\n",
       "    <tr>\n",
       "      <td>partner</td>\n",
       "      <td>0.7834</td>\n",
       "      <td>0.4701</td>\n",
       "      <td>0.4634</td>\n",
       "      <td>0.3502</td>\n",
       "      <td>0.3560</td>\n",
       "    </tr>\n",
       "    <tr>\n",
       "      <td>promo_friends</td>\n",
       "      <td>0.5747</td>\n",
       "      <td>0.3065</td>\n",
       "      <td>0.0792</td>\n",
       "      <td>0.2401</td>\n",
       "      <td>0.2294</td>\n",
       "    </tr>\n",
       "    <tr>\n",
       "      <td>phone</td>\n",
       "      <td>1.0000</td>\n",
       "      <td>0.0000</td>\n",
       "      <td>1.0000</td>\n",
       "      <td>1.0000</td>\n",
       "      <td>0.9988</td>\n",
       "    </tr>\n",
       "    <tr>\n",
       "      <td>contract_period</td>\n",
       "      <td>10.8843</td>\n",
       "      <td>4.7870</td>\n",
       "      <td>2.3525</td>\n",
       "      <td>1.9485</td>\n",
       "      <td>2.6655</td>\n",
       "    </tr>\n",
       "    <tr>\n",
       "      <td>group_visits</td>\n",
       "      <td>0.5430</td>\n",
       "      <td>0.4260</td>\n",
       "      <td>0.2158</td>\n",
       "      <td>0.3415</td>\n",
       "      <td>0.4731</td>\n",
       "    </tr>\n",
       "    <tr>\n",
       "      <td>age</td>\n",
       "      <td>29.9802</td>\n",
       "      <td>29.3013</td>\n",
       "      <td>28.4772</td>\n",
       "      <td>28.1680</td>\n",
       "      <td>30.1278</td>\n",
       "    </tr>\n",
       "    <tr>\n",
       "      <td>avg_additional_charges_total</td>\n",
       "      <td>160.7070</td>\n",
       "      <td>143.9577</td>\n",
       "      <td>135.4575</td>\n",
       "      <td>131.6222</td>\n",
       "      <td>161.7243</td>\n",
       "    </tr>\n",
       "    <tr>\n",
       "      <td>month_to_end_contract</td>\n",
       "      <td>9.9505</td>\n",
       "      <td>4.4753</td>\n",
       "      <td>2.1980</td>\n",
       "      <td>1.8566</td>\n",
       "      <td>2.4552</td>\n",
       "    </tr>\n",
       "    <tr>\n",
       "      <td>lifetime</td>\n",
       "      <td>4.7389</td>\n",
       "      <td>3.9247</td>\n",
       "      <td>2.8099</td>\n",
       "      <td>2.4406</td>\n",
       "      <td>4.8961</td>\n",
       "    </tr>\n",
       "    <tr>\n",
       "      <td>avg_class_frequency_total</td>\n",
       "      <td>1.9833</td>\n",
       "      <td>1.8472</td>\n",
       "      <td>1.6605</td>\n",
       "      <td>1.2476</td>\n",
       "      <td>2.8515</td>\n",
       "    </tr>\n",
       "    <tr>\n",
       "      <td>avg_class_frequency_current_month</td>\n",
       "      <td>1.9762</td>\n",
       "      <td>1.7164</td>\n",
       "      <td>1.4773</td>\n",
       "      <td>1.0130</td>\n",
       "      <td>2.8495</td>\n",
       "    </tr>\n",
       "    <tr>\n",
       "      <td>churn</td>\n",
       "      <td>0.0277</td>\n",
       "      <td>0.2675</td>\n",
       "      <td>0.4436</td>\n",
       "      <td>0.5143</td>\n",
       "      <td>0.0681</td>\n",
       "    </tr>\n",
       "  </tbody>\n",
       "</table>\n",
       "</div>"
      ],
      "text/plain": [
       "cluster                                  0        1        2        3        4\n",
       "gender                              0.5025   0.5221   0.4950   0.4857   0.5603\n",
       "near_location                       0.9594   0.8623   0.0000   1.0000   0.9761\n",
       "partner                             0.7834   0.4701   0.4634   0.3502   0.3560\n",
       "promo_friends                       0.5747   0.3065   0.0792   0.2401   0.2294\n",
       "phone                               1.0000   0.0000   1.0000   1.0000   0.9988\n",
       "contract_period                    10.8843   4.7870   2.3525   1.9485   2.6655\n",
       "group_visits                        0.5430   0.4260   0.2158   0.3415   0.4731\n",
       "age                                29.9802  29.3013  28.4772  28.1680  30.1278\n",
       "avg_additional_charges_total      160.7070 143.9577 135.4575 131.6222 161.7243\n",
       "month_to_end_contract               9.9505   4.4753   2.1980   1.8566   2.4552\n",
       "lifetime                            4.7389   3.9247   2.8099   2.4406   4.8961\n",
       "avg_class_frequency_total           1.9833   1.8472   1.6605   1.2476   2.8515\n",
       "avg_class_frequency_current_month   1.9762   1.7164   1.4773   1.0130   2.8495\n",
       "churn                               0.0277   0.2675   0.4436   0.5143   0.0681"
      ]
     },
     "execution_count": 28,
     "metadata": {},
     "output_type": "execute_result"
    }
   ],
   "source": [
    "gym_churn.groupby('cluster').mean().T"
   ]
  },
  {
   "cell_type": "markdown",
   "metadata": {},
   "source": [
    "Можно сразу разбить кластеры на три группы - с наименьшим оттоком (0 и 4), с наибольшим оттоком (2 и 3) и с оттоком, характерным для всего датасета. Внутри первой и второй групп где-то половина признаков у кластеров примерно одинакова. Посмотрим подробнее с помощью графиков."
   ]
  },
  {
   "cell_type": "code",
   "execution_count": 29,
   "metadata": {},
   "outputs": [
    {
     "data": {
      "text/html": [
       "<div>\n",
       "<style scoped>\n",
       "    .dataframe tbody tr th:only-of-type {\n",
       "        vertical-align: middle;\n",
       "    }\n",
       "\n",
       "    .dataframe tbody tr th {\n",
       "        vertical-align: top;\n",
       "    }\n",
       "\n",
       "    .dataframe thead tr th {\n",
       "        text-align: left;\n",
       "    }\n",
       "</style>\n",
       "<table border=\"1\" class=\"dataframe\">\n",
       "  <thead>\n",
       "    <tr>\n",
       "      <th>cluster</th>\n",
       "      <th colspan=\"2\" halign=\"left\">0</th>\n",
       "      <th colspan=\"2\" halign=\"left\">1</th>\n",
       "      <th colspan=\"2\" halign=\"left\">2</th>\n",
       "      <th colspan=\"2\" halign=\"left\">3</th>\n",
       "      <th colspan=\"2\" halign=\"left\">4</th>\n",
       "    </tr>\n",
       "    <tr>\n",
       "      <th>churn</th>\n",
       "      <th>0</th>\n",
       "      <th>1</th>\n",
       "      <th>0</th>\n",
       "      <th>1</th>\n",
       "      <th>0</th>\n",
       "      <th>1</th>\n",
       "      <th>0</th>\n",
       "      <th>1</th>\n",
       "      <th>0</th>\n",
       "      <th>1</th>\n",
       "    </tr>\n",
       "  </thead>\n",
       "  <tbody>\n",
       "    <tr>\n",
       "      <td>gender</td>\n",
       "      <td>0.4995</td>\n",
       "      <td>0.6071</td>\n",
       "      <td>0.5213</td>\n",
       "      <td>0.5243</td>\n",
       "      <td>0.4911</td>\n",
       "      <td>0.5000</td>\n",
       "      <td>0.4666</td>\n",
       "      <td>0.5039</td>\n",
       "      <td>0.5603</td>\n",
       "      <td>0.5614</td>\n",
       "    </tr>\n",
       "    <tr>\n",
       "      <td>near_location</td>\n",
       "      <td>0.9593</td>\n",
       "      <td>0.9643</td>\n",
       "      <td>0.8865</td>\n",
       "      <td>0.7961</td>\n",
       "      <td>0.0000</td>\n",
       "      <td>0.0000</td>\n",
       "      <td>1.0000</td>\n",
       "      <td>1.0000</td>\n",
       "      <td>0.9744</td>\n",
       "      <td>1.0000</td>\n",
       "    </tr>\n",
       "    <tr>\n",
       "      <td>partner</td>\n",
       "      <td>0.7823</td>\n",
       "      <td>0.8214</td>\n",
       "      <td>0.5000</td>\n",
       "      <td>0.3883</td>\n",
       "      <td>0.5231</td>\n",
       "      <td>0.3884</td>\n",
       "      <td>0.3785</td>\n",
       "      <td>0.3236</td>\n",
       "      <td>0.3603</td>\n",
       "      <td>0.2982</td>\n",
       "    </tr>\n",
       "    <tr>\n",
       "      <td>promo_friends</td>\n",
       "      <td>0.5738</td>\n",
       "      <td>0.6071</td>\n",
       "      <td>0.3617</td>\n",
       "      <td>0.1553</td>\n",
       "      <td>0.1103</td>\n",
       "      <td>0.0402</td>\n",
       "      <td>0.2561</td>\n",
       "      <td>0.2250</td>\n",
       "      <td>0.2372</td>\n",
       "      <td>0.1228</td>\n",
       "    </tr>\n",
       "    <tr>\n",
       "      <td>phone</td>\n",
       "      <td>1.0000</td>\n",
       "      <td>1.0000</td>\n",
       "      <td>0.0000</td>\n",
       "      <td>0.0000</td>\n",
       "      <td>1.0000</td>\n",
       "      <td>1.0000</td>\n",
       "      <td>1.0000</td>\n",
       "      <td>1.0000</td>\n",
       "      <td>0.9987</td>\n",
       "      <td>1.0000</td>\n",
       "    </tr>\n",
       "    <tr>\n",
       "      <td>contract_period</td>\n",
       "      <td>10.9135</td>\n",
       "      <td>9.8571</td>\n",
       "      <td>5.8794</td>\n",
       "      <td>1.7961</td>\n",
       "      <td>3.0676</td>\n",
       "      <td>1.4554</td>\n",
       "      <td>2.4535</td>\n",
       "      <td>1.4715</td>\n",
       "      <td>2.7423</td>\n",
       "      <td>1.6140</td>\n",
       "    </tr>\n",
       "    <tr>\n",
       "      <td>group_visits</td>\n",
       "      <td>0.5483</td>\n",
       "      <td>0.3571</td>\n",
       "      <td>0.4610</td>\n",
       "      <td>0.3301</td>\n",
       "      <td>0.2598</td>\n",
       "      <td>0.1607</td>\n",
       "      <td>0.4062</td>\n",
       "      <td>0.2804</td>\n",
       "      <td>0.4782</td>\n",
       "      <td>0.4035</td>\n",
       "    </tr>\n",
       "    <tr>\n",
       "      <td>age</td>\n",
       "      <td>30.0743</td>\n",
       "      <td>26.6786</td>\n",
       "      <td>30.0887</td>\n",
       "      <td>27.1456</td>\n",
       "      <td>29.6690</td>\n",
       "      <td>26.9821</td>\n",
       "      <td>29.5334</td>\n",
       "      <td>26.8783</td>\n",
       "      <td>30.2718</td>\n",
       "      <td>28.1579</td>\n",
       "    </tr>\n",
       "    <tr>\n",
       "      <td>avg_additional_charges_total</td>\n",
       "      <td>161.7380</td>\n",
       "      <td>124.5117</td>\n",
       "      <td>156.7556</td>\n",
       "      <td>108.9187</td>\n",
       "      <td>149.1493</td>\n",
       "      <td>118.2816</td>\n",
       "      <td>150.4653</td>\n",
       "      <td>113.8243</td>\n",
       "      <td>164.5285</td>\n",
       "      <td>123.3497</td>\n",
       "    </tr>\n",
       "    <tr>\n",
       "      <td>month_to_end_contract</td>\n",
       "      <td>9.9746</td>\n",
       "      <td>9.1071</td>\n",
       "      <td>5.4681</td>\n",
       "      <td>1.7573</td>\n",
       "      <td>2.8327</td>\n",
       "      <td>1.4018</td>\n",
       "      <td>2.3132</td>\n",
       "      <td>1.4253</td>\n",
       "      <td>2.5205</td>\n",
       "      <td>1.5614</td>\n",
       "    </tr>\n",
       "    <tr>\n",
       "      <td>lifetime</td>\n",
       "      <td>4.8474</td>\n",
       "      <td>0.9286</td>\n",
       "      <td>5.0106</td>\n",
       "      <td>0.9515</td>\n",
       "      <td>4.2562</td>\n",
       "      <td>0.9955</td>\n",
       "      <td>3.9739</td>\n",
       "      <td>0.9923</td>\n",
       "      <td>5.1769</td>\n",
       "      <td>1.0526</td>\n",
       "    </tr>\n",
       "    <tr>\n",
       "      <td>avg_class_frequency_total</td>\n",
       "      <td>1.9909</td>\n",
       "      <td>1.7174</td>\n",
       "      <td>1.9587</td>\n",
       "      <td>1.5420</td>\n",
       "      <td>1.8582</td>\n",
       "      <td>1.4124</td>\n",
       "      <td>1.1095</td>\n",
       "      <td>1.3781</td>\n",
       "      <td>2.8711</td>\n",
       "      <td>2.5838</td>\n",
       "    </tr>\n",
       "    <tr>\n",
       "      <td>avg_class_frequency_current_month</td>\n",
       "      <td>1.9938</td>\n",
       "      <td>1.3598</td>\n",
       "      <td>1.9579</td>\n",
       "      <td>1.0552</td>\n",
       "      <td>1.8623</td>\n",
       "      <td>0.9943</td>\n",
       "      <td>1.1082</td>\n",
       "      <td>0.9231</td>\n",
       "      <td>2.8786</td>\n",
       "      <td>2.4507</td>\n",
       "    </tr>\n",
       "  </tbody>\n",
       "</table>\n",
       "</div>"
      ],
      "text/plain": [
       "cluster                                  0                 1           \\\n",
       "churn                                    0        1        0        1   \n",
       "gender                              0.4995   0.6071   0.5213   0.5243   \n",
       "near_location                       0.9593   0.9643   0.8865   0.7961   \n",
       "partner                             0.7823   0.8214   0.5000   0.3883   \n",
       "promo_friends                       0.5738   0.6071   0.3617   0.1553   \n",
       "phone                               1.0000   1.0000   0.0000   0.0000   \n",
       "contract_period                    10.9135   9.8571   5.8794   1.7961   \n",
       "group_visits                        0.5483   0.3571   0.4610   0.3301   \n",
       "age                                30.0743  26.6786  30.0887  27.1456   \n",
       "avg_additional_charges_total      161.7380 124.5117 156.7556 108.9187   \n",
       "month_to_end_contract               9.9746   9.1071   5.4681   1.7573   \n",
       "lifetime                            4.8474   0.9286   5.0106   0.9515   \n",
       "avg_class_frequency_total           1.9909   1.7174   1.9587   1.5420   \n",
       "avg_class_frequency_current_month   1.9938   1.3598   1.9579   1.0552   \n",
       "\n",
       "cluster                                  2                 3           \\\n",
       "churn                                    0        1        0        1   \n",
       "gender                              0.4911   0.5000   0.4666   0.5039   \n",
       "near_location                       0.0000   0.0000   1.0000   1.0000   \n",
       "partner                             0.5231   0.3884   0.3785   0.3236   \n",
       "promo_friends                       0.1103   0.0402   0.2561   0.2250   \n",
       "phone                               1.0000   1.0000   1.0000   1.0000   \n",
       "contract_period                     3.0676   1.4554   2.4535   1.4715   \n",
       "group_visits                        0.2598   0.1607   0.4062   0.2804   \n",
       "age                                29.6690  26.9821  29.5334  26.8783   \n",
       "avg_additional_charges_total      149.1493 118.2816 150.4653 113.8243   \n",
       "month_to_end_contract               2.8327   1.4018   2.3132   1.4253   \n",
       "lifetime                            4.2562   0.9955   3.9739   0.9923   \n",
       "avg_class_frequency_total           1.8582   1.4124   1.1095   1.3781   \n",
       "avg_class_frequency_current_month   1.8623   0.9943   1.1082   0.9231   \n",
       "\n",
       "cluster                                  4           \n",
       "churn                                    0        1  \n",
       "gender                              0.5603   0.5614  \n",
       "near_location                       0.9744   1.0000  \n",
       "partner                             0.3603   0.2982  \n",
       "promo_friends                       0.2372   0.1228  \n",
       "phone                               0.9987   1.0000  \n",
       "contract_period                     2.7423   1.6140  \n",
       "group_visits                        0.4782   0.4035  \n",
       "age                                30.2718  28.1579  \n",
       "avg_additional_charges_total      164.5285 123.3497  \n",
       "month_to_end_contract               2.5205   1.5614  \n",
       "lifetime                            5.1769   1.0526  \n",
       "avg_class_frequency_total           2.8711   2.5838  \n",
       "avg_class_frequency_current_month   2.8786   2.4507  "
      ]
     },
     "execution_count": 29,
     "metadata": {},
     "output_type": "execute_result"
    }
   ],
   "source": [
    "gym_churn.groupby(['cluster','churn']).mean().T"
   ]
  },
  {
   "cell_type": "markdown",
   "metadata": {},
   "source": [
    "Посмотрим на распределения признаков на графиках. Сначала качественные признаки."
   ]
  },
  {
   "cell_type": "code",
   "execution_count": 30,
   "metadata": {},
   "outputs": [
    {
     "data": {
      "image/png": "[encoded data removed]",
      "text/plain": [
       "<Figure size 1080x576 with 6 Axes>"
      ]
     },
     "metadata": {},
     "output_type": "display_data"
    }
   ],
   "source": [
    "fig, axes = plt.subplots(2,3, figsize=(15,8))\n",
    "_ = fig.suptitle('Соотношение качественных признаков', fontsize=14, y = .95)\n",
    "for ax, col in zip(axes.flat, binary_features):\n",
    "    ratio = gym_churn.groupby('cluster')[col].value_counts(normalize=True).rename('Соотношение')\\\n",
    "                                                                            .reset_index()\n",
    "    _ = sns.barplot(x='cluster', y='Соотношение', hue=col, data=ratio,  ax=ax)\n",
    "    _ = ax.set(ylim = (0,1))\n",
    "\n",
    "plt.show()"
   ]
  },
  {
   "cell_type": "markdown",
   "metadata": {},
   "source": [
    "По признакам:\n",
    "- в 4м кластере наблюдается небольшая разница между мужчинами и женщинами, в остальных примерно поровну,\n",
    "- только во 2м кластере есть клиенты, которые не живут и не работают рядом с фитнес-центром,\n",
    "- больше всего с партнерских программ приходит клиентов из кластера 0, меньше всего - с 3го и 4го,\n",
    "- так же только в 0м кластере преобладают клиенты, которые участвуют в акции \"приведи друга\", меньше всего таких - в 2м кластере,\n",
    "- номера телефона нет только в кластере 1,\n",
    "- 0 - единственный кластер, где большая часть клиентов ходит на групповые занятия, меньше всего таких - в кластере 2.\n",
    "\n",
    "Посмотрим на длительность абонементов."
   ]
  },
  {
   "cell_type": "code",
   "execution_count": 31,
   "metadata": {
    "scrolled": true
   },
   "outputs": [
    {
     "data": {
      "image/png": "[encoded data removed]",
      "text/plain": [
       "<Figure size 720x216 with 1 Axes>"
      ]
     },
     "metadata": {},
     "output_type": "display_data"
    }
   ],
   "source": [
    "contract_period_cluster = gym_churn.groupby('cluster')['contract_period'].value_counts(normalize=True).rename('ratio')\\\n",
    "                           .reset_index()\n",
    "_ = plt.figure(figsize=(10, 3))\n",
    "_ = sns.barplot(data=contract_period_cluster, x='contract_period', y='ratio', hue='cluster')\n",
    "_ = plt.title('Длительность абонемента по кластерам', fontsize=14)"
   ]
  },
  {
   "cell_type": "markdown",
   "metadata": {},
   "source": [
    "Клиенты кластеров 1-4 предпочитают абонементы на 1 месяц, среди них больше всего из кластера 3. В кластере 0 80%  предпочитают брать на 12 месяцев и 20% - на 6. Клиенты из 3го кластера на 12 месяцев не берут.\n",
    "\n",
    "Посмотрим на количесвенные признаки."
   ]
  },
  {
   "cell_type": "code",
   "execution_count": 32,
   "metadata": {},
   "outputs": [
    {
     "data": {
      "image/png": "[encoded data removed]",
      "text/plain": [
       "<Figure size 1080x720 with 6 Axes>"
      ]
     },
     "metadata": {},
     "output_type": "display_data"
    }
   ],
   "source": [
    "fig, axes = plt.subplots(2,3, figsize=(15,10))\n",
    "_ = fig.suptitle('Количественные признаки', fontsize=14, y = .95)\n",
    "for ax, col in zip(axes.flat, num_features):\n",
    "    _ = sns.boxplot(x='cluster', y=col,  data=gym_churn,  ax=ax)\n",
    "    \n",
    "plt.show()"
   ]
  },
  {
   "cell_type": "markdown",
   "metadata": {},
   "source": [
    "По признакам:\n",
    "- в 3м кластере самые молодые клиенты, в остальных - примерно одинаково,\n",
    "- дополнительными услугами больше пользуются в 0 и 4 кластере, в 3- меньше всего,\n",
    "- больше всего месяцев до окончания контракта - в кластере 0, в кластерах 2 и 3 тут больше всего выбросов,\n",
    "- дольше остаются в кластерах 0 и 4, меньше - в 3м,\n",
    "- посещение в среднем и за последний месяц примерно одинаково распределено; чаще всего бывают клиенты кластера 4, меньше - кластера 3."
   ]
  },
  {
   "cell_type": "markdown",
   "metadata": {},
   "source": [
    "### Выводы <a id=\"step4.1\">"
   ]
  },
  {
   "cell_type": "markdown",
   "metadata": {},
   "source": [
    "Для выводов теперь опишем кластеры по группам, разбив их по оттоку - наименьший, наибольший и средний по датасету. \n",
    "\n",
    "**Кластеры с наименьшим оттоком 0 (2,8%) и 4 (6,9%)**\n",
    "\n",
    "Общие черты клиентов:\n",
    "- живут или работают рядом с фитнес-центром, \n",
    "- тратят около 160 у.е. на дополнительные услуги, \n",
    "- остаются в центре примерно 4 месяца,\n",
    "- находятся в возрасте 30 лет,\n",
    "- у фитнес-центра есть их телефон.\n",
    "\n",
    "Различия:\n",
    "- в кластере 0 в два раза больше тех, кто пользуется партнерской программой и программой \"приведи друга\",\n",
    "- в кластере 0 также в два раза чаще пользуются партнерскими программами,\n",
    "- в кластере 0 большинство клиентов берут абонементы на 12 месяцев,\n",
    "- в кластере 0 реже посещают групповые занятия.\n",
    "\n",
    "\n",
    " \n",
    "**Кластеры с наибольшим оттоком 2 (44,4%) и 3 (51,4%)**\n",
    "\n",
    "В обоих кластерах клиенты:\n",
    "- моложе (в среднем 28,5 лет),\n",
    "- меньше всего тратят на доп.услуги центра,\n",
    "- в среднем остаются на 2,5 месяца,\n",
    "\n",
    "Различия:\n",
    "- клиенты кластера 2 больше пользуются партнерскими программами, но в отличие от клиентов кластера 3 почти не пользуются акцией \"приведи друга\",\n",
    "- клиенты кластера 2 не живут и не работают рядом с центром,\n",
    "- больше клиентов кластера 2 покупают абонементы на более длительный срок,\n",
    "- клиенты кластера 3 больше ходят на групповые программы, а 2го - чаще посещают в неделю.\n",
    "\n",
    "**Клиенты кластера 1 (26,7%)**:\n",
    "- больше всего соответствуют усредненному портрету пользователя, который мы вывели в предварительном анализе данных, \n",
    "- все они почему-то не оставили центру свой номер телефона,\n",
    "- в среднем ходят 4 месяца в центр."
   ]
  },
  {
   "cell_type": "markdown",
   "metadata": {},
   "source": [
    "# Шаг 5. Выводы и базовые рекомендации по работе с клиентами <a id=\"step5\"></a> "
   ]
  },
  {
   "cell_type": "markdown",
   "metadata": {},
   "source": [
    "Мы проаналировали данные 4000 клиентов фитнес-центра с целью построить модель по прогнозу оттока клиентов и разделить клиентов на кластеры. Данные были достаточно чистые, много преобразований делать не пришлось. \n",
    "\n",
    "Исследовательский анализ данных показал следующее:\n",
    "- отток клиентов составляет 26.5%,\n",
    "- процентное соотношение мужчин и женщин примерно одинаковое,\n",
    "- большинство клиентов живут или работают неподалеку от фитнес-центра,\n",
    "- примерно половина пользуется партнерской программой,\n",
    "- с 90% клиентов можно связаться по телефону,\n",
    "- около 40% посещают групповые программы.\n",
    "- средний возраст клиентов - 30 лет, при этом максимальный - всего 41,\n",
    "- суммарная выручка от других услуг фитнес-центра составляет 147 у.е. на клиента,\n",
    "- среднее время посещений - 3 месяца,\n",
    "- клиенты ходят в фитнес-центр примерно два раза в неделю.\n",
    "\n",
    "А также позволил предположить, что клиенты, которые уходят:\n",
    "- находятся дальше от фитнес-центра,\n",
    "- меньше участвуют в партнерской программе и акции \"приведи друга\",\n",
    "- реже посещают групповые программы,\n",
    "- в среднем на три года моложе (медиана - 27 лет),\n",
    "- примерно на 40 у.е. меньше тратят на другие услуги фитнес-центра,\n",
    "- в среднем меньше посещают фитнес-центр в неделю (1-1,5 занятий против 2х),\n",
    "- берут абонемент на один месяц,\n",
    "- остаются с фитнес-центром меньше(1 месяц против 4х).\n",
    "\n",
    "## Модель прогнозирования\n",
    "Для построения моделей мы сделали новый датафрейм `gym_churn_new`, которого удалили столбцы `gender`, `phone`, так как они не влияют на отток, а также столбцы `month_to_end_contract` и `avg_class_frequency_current_month`, чтобы избавиться от мультиколлинеарности признаков. Столбец `contract_period` был преобразован в множество бинарных полей.\n",
    "\n",
    "Модель прогнозирования оттока была обучена двумя способами: логистической регрессией и случайным лесом. Метрики показали, что модели в основном различаются по определению точности (`precision`) и полноты (`recall`), и, соответственно в том, сколько ложно-положительных и ложно-отрицательных результатов они дают. Модель линейной регрессии лучше показала полноту (0.82 против 0.78) и дала меньше ложно-отрицательных результатов (39 против 46). А модель случайного леса - наоборот, лучше показала точность (0.86 против 0.83) и дала меньше ложно-положительных результатов (28 против 36). Предположив, что для компании важнее в принципе не упустить клиента, **мы выбрали модель логистической регрессии**. \n",
    "\n",
    "\n",
    "## Кластеры клиентов\n",
    "Мы выделили 5 кластеров и разделили их на три группы по оттоку. Больше всего уходит клиентов в кластерах 2 и 3 (это около 44% клиентов). Самые надежные - клиенты кластеров 0 и 4 (46% клиентов). 1й кластер составляет около 10% пользователей, некий усредненный портрет.\n",
    "\n",
    "**Кластеры с наименьшим оттоком 0 (2,8%) и 4 (6,9%)**\n",
    "\n",
    "Общие черты клиентов:\n",
    "- живут или работают рядом с фитнес-центром, \n",
    "- тратят около 160 у.е. на дополнительные услуги, \n",
    "- остаются в центре примерно 4 месяца,\n",
    "- находятся в возрасте 30 лет,\n",
    "- у фитнес-центра есть их телефон.\n",
    "\n",
    "Различия:\n",
    "- в кластере 0 в два раза больше тех, кто пользуется партнерской программой и программой \"приведи друга\",\n",
    "- в кластере 0 также в два раза чаще пользуются партнерскими программами,\n",
    "- в кластере 0 большинство клиентов берут абонементы на 12 месяцев,\n",
    "- в кластере 0 реже посещают групповые занятия.\n",
    "\n",
    "\n",
    " \n",
    "**Кластеры с наибольшим оттоком 2 (44,4%) и 3 (51,4%)**\n",
    "\n",
    "В обоих кластерах клиенты:\n",
    "- моложе (в среднем 28,5 лет),\n",
    "- меньше всего тратят на доп.услуги центра,\n",
    "- в среднем остаются на 2,5 месяца,\n",
    "\n",
    "Различия:\n",
    "- клиенты кластера 2 больше пользуются партнерскими программами, но в отличие от клиентов кластера 3 почти не пользуются акцией \"приведи друга\",\n",
    "- клиенты кластера 2 не живут и не работают рядом с центром,\n",
    "- больше клиентов кластера 2 покупают абонементы на более длительный срок,\n",
    "- клиенты кластера 3 больше ходят на групповые программы, а 2го - чаще посещают в неделю.\n",
    "\n",
    "**Клиенты кластера 1 (26,7%)**:\n",
    "- больше всего соответствуют усредненному портрету пользователя, который мы вывели в предварительном анализе данных, \n",
    "- все они почему-то не оставили центру свой номер телефона.\n",
    "\n",
    "## Рекомендации\n",
    "Предложим рекомендации по кластерам.\n",
    "\n",
    "**Кластер 0** - наименьший отток (2,8%), вероятно, самые лояльные клиенты с длинными абонементами, в основном приходящие с партнерских программ. Они больше всех пользуются акцией \"приведи друга\". Возможно, условия этой акции можно для них сделать более привлекательными, чтобы они приводили еще больше друзей. \n",
    "\n",
    "**Кластер 1** - средний отток (26,7%), среднестатистический клиент, не оставивший своего номера телефона. Им можно делать больше персональных предложений, в том числе продвигать акцию \"приведи друга\" и групповые занятия.\n",
    "\n",
    "**Кластер 2** - большой отток (44,4%), единственная группа клиентов, находящихся далеко от фитнес-центра. Им можно порекомендовать активнее посещать групповые программы, чтобы заводить знакомства и центре и появлялись дополнительные поводы туда приезжать. Им же могут понравиться специальные условия акции \"приведи друга\", так как они почти ей не пользуются.\n",
    "\n",
    "**Кластер 3** - наибольший отток (51,4%), самые молодые клиенты. Им также можно порекомендовать активнее посещать групповые программы, а еще, например, утренние и дневные программы и другие услуги по специальным ценам, так как они живут или работают недалеко от центра. Возможно, эту группу надо дополнительно исследовать, чтобы найти, что им не нравится. \n",
    "\n",
    "**Кластер 4** - маленький отток (6,8%), живут или работают ближе всех, старше других групп, чаще всех ходят в центр и больше всех тратят на дополнительные услуги. Они мало пользуются акцией \"приведи друга\". Возможно, условия этой акции можно для них также сделать более привлекательными, чтобы они приводили еще больше друзей. "
   ]
  }
 ],
 "metadata": {
  "kernelspec": {
   "display_name": "Python 3",
   "language": "python",
   "name": "python3"
  },
  "language_info": {
   "codemirror_mode": {
    "name": "ipython",
    "version": 3
   },
   "file_extension": ".py",
   "mimetype": "text/x-python",
   "name": "python",
   "nbconvert_exporter": "python",
   "pygments_lexer": "ipython3",
   "version": "3.7.6"
  }
 },
 "nbformat": 4,
 "nbformat_minor": 2
}
