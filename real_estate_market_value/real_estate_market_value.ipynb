{
 "cells": [
  {
   "cell_type": "markdown",
   "metadata": {},
   "source": [
    "# Исследование объявлений о продаже квартир\n",
    "\n",
    "**Контекст** - имеется архив объявлений с сайта недвижимости о продаже квартир в Санкт-Петербурге и соседних населённых пунктов за несколько лет. \n",
    "\n",
    "**Задача** - установить параметры для определения рыночной стоимости объектов недвижимости. Это позволит построить автоматизированную систему: она отследит аномалии и мошенническую деятельность. \n",
    "\n",
    "По каждой квартире на продажу доступны два вида данных. Первые вписаны пользователем, вторые — получены автоматически на основе картографических данных. Например, расстояние до центра, аэропорта, ближайшего парка и водоёма. "
   ]
  },
  {
   "cell_type": "markdown",
   "metadata": {},
   "source": [
    "## План работы"
   ]
  },
  {
   "cell_type": "markdown",
   "metadata": {},
   "source": [
    "1. Открыть файл и изучить общую информацию;\n",
    "2. Обработать пропуски, заменить типы данных, обработать дубликаты;\n",
    "3. Посчитать и добавить в таблицу необходимые столбцы; \n",
    "4. Провести исследовательский анализ данных:\n",
    "  - Изучить следующие параметры: площадь, цена, число комнат, высота потолков. Построить гистограммы для каждого параметра;\n",
    "  - Изучить время продажи квартиры и построить гистограмму. Убрать редкие и выбивающиеся значения и описать, какие особенности обнаружены;\n",
    "  - Проанализировать, какие факторы больше всего влияют на стоимость квартиры;\n",
    "  - Выбрать 10 населённых пунктов с наибольшим числом объявлений и посчитать среднюю цену квадратного метра в этих населённых пунктах. Выделить населённые пункты с самой высокой и низкой стоимостью жилья;\n",
    "  - Выяснить, какая область Санкт-Петербурга входит в центр; \n",
    "  - Проанализировать сегмент квартир в центре и выделить факторы, которые влияют на стоимость квартиры. Сравнить с общими выводами по всему городу;\n",
    "5. Сделать общий вывод."
   ]
  },
  {
   "cell_type": "markdown",
   "metadata": {},
   "source": [
    "## Шаг 1. Изучение общей информации"
   ]
  },
  {
   "cell_type": "code",
   "execution_count": 82,
   "metadata": {},
   "outputs": [],
   "source": [
    "from IPython.core.interactiveshell import InteractiveShell\n",
    "InteractiveShell.ast_node_interactivity = \"all\""
   ]
  },
  {
   "cell_type": "code",
   "execution_count": 83,
   "metadata": {
    "scrolled": true
   },
   "outputs": [],
   "source": [
    "#Импортируем библиотеки\n",
    "import pandas as pd\n",
    "import numpy as np\n",
    "import matplotlib.pyplot as plt\n",
    "import seaborn as sns\n",
    "\n",
    "%matplotlib inline"
   ]
  },
  {
   "cell_type": "code",
   "execution_count": 84,
   "metadata": {
    "scrolled": false
   },
   "outputs": [
    {
     "data": {
      "text/html": [
       "<div>\n",
       "<style scoped>\n",
       "    .dataframe tbody tr th:only-of-type {\n",
       "        vertical-align: middle;\n",
       "    }\n",
       "\n",
       "    .dataframe tbody tr th {\n",
       "        vertical-align: top;\n",
       "    }\n",
       "\n",
       "    .dataframe thead th {\n",
       "        text-align: right;\n",
       "    }\n",
       "</style>\n",
       "<table border=\"1\" class=\"dataframe\">\n",
       "  <thead>\n",
       "    <tr style=\"text-align: right;\">\n",
       "      <th></th>\n",
       "      <th>total_images</th>\n",
       "      <th>last_price</th>\n",
       "      <th>total_area</th>\n",
       "      <th>first_day_exposition</th>\n",
       "      <th>rooms</th>\n",
       "      <th>ceiling_height</th>\n",
       "      <th>floors_total</th>\n",
       "      <th>living_area</th>\n",
       "      <th>floor</th>\n",
       "      <th>is_apartment</th>\n",
       "      <th>...</th>\n",
       "      <th>kitchen_area</th>\n",
       "      <th>balcony</th>\n",
       "      <th>locality_name</th>\n",
       "      <th>airports_nearest</th>\n",
       "      <th>cityCenters_nearest</th>\n",
       "      <th>parks_around3000</th>\n",
       "      <th>parks_nearest</th>\n",
       "      <th>ponds_around3000</th>\n",
       "      <th>ponds_nearest</th>\n",
       "      <th>days_exposition</th>\n",
       "    </tr>\n",
       "  </thead>\n",
       "  <tbody>\n",
       "    <tr>\n",
       "      <td>0</td>\n",
       "      <td>20</td>\n",
       "      <td>13000000.0</td>\n",
       "      <td>108.00</td>\n",
       "      <td>2019-03-07T00:00:00</td>\n",
       "      <td>3</td>\n",
       "      <td>2.70</td>\n",
       "      <td>16.0</td>\n",
       "      <td>51.00</td>\n",
       "      <td>8</td>\n",
       "      <td>NaN</td>\n",
       "      <td>...</td>\n",
       "      <td>25.00</td>\n",
       "      <td>NaN</td>\n",
       "      <td>Санкт-Петербург</td>\n",
       "      <td>18863.0</td>\n",
       "      <td>16028.0</td>\n",
       "      <td>1.0</td>\n",
       "      <td>482.0</td>\n",
       "      <td>2.0</td>\n",
       "      <td>755.0</td>\n",
       "      <td>NaN</td>\n",
       "    </tr>\n",
       "    <tr>\n",
       "      <td>1</td>\n",
       "      <td>7</td>\n",
       "      <td>3350000.0</td>\n",
       "      <td>40.40</td>\n",
       "      <td>2018-12-04T00:00:00</td>\n",
       "      <td>1</td>\n",
       "      <td>NaN</td>\n",
       "      <td>11.0</td>\n",
       "      <td>18.60</td>\n",
       "      <td>1</td>\n",
       "      <td>NaN</td>\n",
       "      <td>...</td>\n",
       "      <td>11.00</td>\n",
       "      <td>2.0</td>\n",
       "      <td>посёлок Шушары</td>\n",
       "      <td>12817.0</td>\n",
       "      <td>18603.0</td>\n",
       "      <td>0.0</td>\n",
       "      <td>NaN</td>\n",
       "      <td>0.0</td>\n",
       "      <td>NaN</td>\n",
       "      <td>81.0</td>\n",
       "    </tr>\n",
       "    <tr>\n",
       "      <td>2</td>\n",
       "      <td>10</td>\n",
       "      <td>5196000.0</td>\n",
       "      <td>56.00</td>\n",
       "      <td>2015-08-20T00:00:00</td>\n",
       "      <td>2</td>\n",
       "      <td>NaN</td>\n",
       "      <td>5.0</td>\n",
       "      <td>34.30</td>\n",
       "      <td>4</td>\n",
       "      <td>NaN</td>\n",
       "      <td>...</td>\n",
       "      <td>8.30</td>\n",
       "      <td>0.0</td>\n",
       "      <td>Санкт-Петербург</td>\n",
       "      <td>21741.0</td>\n",
       "      <td>13933.0</td>\n",
       "      <td>1.0</td>\n",
       "      <td>90.0</td>\n",
       "      <td>2.0</td>\n",
       "      <td>574.0</td>\n",
       "      <td>558.0</td>\n",
       "    </tr>\n",
       "    <tr>\n",
       "      <td>3</td>\n",
       "      <td>0</td>\n",
       "      <td>64900000.0</td>\n",
       "      <td>159.00</td>\n",
       "      <td>2015-07-24T00:00:00</td>\n",
       "      <td>3</td>\n",
       "      <td>NaN</td>\n",
       "      <td>14.0</td>\n",
       "      <td>NaN</td>\n",
       "      <td>9</td>\n",
       "      <td>NaN</td>\n",
       "      <td>...</td>\n",
       "      <td>NaN</td>\n",
       "      <td>0.0</td>\n",
       "      <td>Санкт-Петербург</td>\n",
       "      <td>28098.0</td>\n",
       "      <td>6800.0</td>\n",
       "      <td>2.0</td>\n",
       "      <td>84.0</td>\n",
       "      <td>3.0</td>\n",
       "      <td>234.0</td>\n",
       "      <td>424.0</td>\n",
       "    </tr>\n",
       "    <tr>\n",
       "      <td>4</td>\n",
       "      <td>2</td>\n",
       "      <td>10000000.0</td>\n",
       "      <td>100.00</td>\n",
       "      <td>2018-06-19T00:00:00</td>\n",
       "      <td>2</td>\n",
       "      <td>3.03</td>\n",
       "      <td>14.0</td>\n",
       "      <td>32.00</td>\n",
       "      <td>13</td>\n",
       "      <td>NaN</td>\n",
       "      <td>...</td>\n",
       "      <td>41.00</td>\n",
       "      <td>NaN</td>\n",
       "      <td>Санкт-Петербург</td>\n",
       "      <td>31856.0</td>\n",
       "      <td>8098.0</td>\n",
       "      <td>2.0</td>\n",
       "      <td>112.0</td>\n",
       "      <td>1.0</td>\n",
       "      <td>48.0</td>\n",
       "      <td>121.0</td>\n",
       "    </tr>\n",
       "    <tr>\n",
       "      <td>5</td>\n",
       "      <td>10</td>\n",
       "      <td>2890000.0</td>\n",
       "      <td>30.40</td>\n",
       "      <td>2018-09-10T00:00:00</td>\n",
       "      <td>1</td>\n",
       "      <td>NaN</td>\n",
       "      <td>12.0</td>\n",
       "      <td>14.40</td>\n",
       "      <td>5</td>\n",
       "      <td>NaN</td>\n",
       "      <td>...</td>\n",
       "      <td>9.10</td>\n",
       "      <td>NaN</td>\n",
       "      <td>городской посёлок Янино-1</td>\n",
       "      <td>NaN</td>\n",
       "      <td>NaN</td>\n",
       "      <td>NaN</td>\n",
       "      <td>NaN</td>\n",
       "      <td>NaN</td>\n",
       "      <td>NaN</td>\n",
       "      <td>55.0</td>\n",
       "    </tr>\n",
       "    <tr>\n",
       "      <td>6</td>\n",
       "      <td>6</td>\n",
       "      <td>3700000.0</td>\n",
       "      <td>37.30</td>\n",
       "      <td>2017-11-02T00:00:00</td>\n",
       "      <td>1</td>\n",
       "      <td>NaN</td>\n",
       "      <td>26.0</td>\n",
       "      <td>10.60</td>\n",
       "      <td>6</td>\n",
       "      <td>NaN</td>\n",
       "      <td>...</td>\n",
       "      <td>14.40</td>\n",
       "      <td>1.0</td>\n",
       "      <td>посёлок Парголово</td>\n",
       "      <td>52996.0</td>\n",
       "      <td>19143.0</td>\n",
       "      <td>0.0</td>\n",
       "      <td>NaN</td>\n",
       "      <td>0.0</td>\n",
       "      <td>NaN</td>\n",
       "      <td>155.0</td>\n",
       "    </tr>\n",
       "    <tr>\n",
       "      <td>7</td>\n",
       "      <td>5</td>\n",
       "      <td>7915000.0</td>\n",
       "      <td>71.60</td>\n",
       "      <td>2019-04-18T00:00:00</td>\n",
       "      <td>2</td>\n",
       "      <td>NaN</td>\n",
       "      <td>24.0</td>\n",
       "      <td>NaN</td>\n",
       "      <td>22</td>\n",
       "      <td>NaN</td>\n",
       "      <td>...</td>\n",
       "      <td>18.90</td>\n",
       "      <td>2.0</td>\n",
       "      <td>Санкт-Петербург</td>\n",
       "      <td>23982.0</td>\n",
       "      <td>11634.0</td>\n",
       "      <td>0.0</td>\n",
       "      <td>NaN</td>\n",
       "      <td>0.0</td>\n",
       "      <td>NaN</td>\n",
       "      <td>NaN</td>\n",
       "    </tr>\n",
       "    <tr>\n",
       "      <td>8</td>\n",
       "      <td>20</td>\n",
       "      <td>2900000.0</td>\n",
       "      <td>33.16</td>\n",
       "      <td>2018-05-23T00:00:00</td>\n",
       "      <td>1</td>\n",
       "      <td>NaN</td>\n",
       "      <td>27.0</td>\n",
       "      <td>15.43</td>\n",
       "      <td>26</td>\n",
       "      <td>NaN</td>\n",
       "      <td>...</td>\n",
       "      <td>8.81</td>\n",
       "      <td>NaN</td>\n",
       "      <td>посёлок Мурино</td>\n",
       "      <td>NaN</td>\n",
       "      <td>NaN</td>\n",
       "      <td>NaN</td>\n",
       "      <td>NaN</td>\n",
       "      <td>NaN</td>\n",
       "      <td>NaN</td>\n",
       "      <td>189.0</td>\n",
       "    </tr>\n",
       "    <tr>\n",
       "      <td>9</td>\n",
       "      <td>18</td>\n",
       "      <td>5400000.0</td>\n",
       "      <td>61.00</td>\n",
       "      <td>2017-02-26T00:00:00</td>\n",
       "      <td>3</td>\n",
       "      <td>2.50</td>\n",
       "      <td>9.0</td>\n",
       "      <td>43.60</td>\n",
       "      <td>7</td>\n",
       "      <td>NaN</td>\n",
       "      <td>...</td>\n",
       "      <td>6.50</td>\n",
       "      <td>2.0</td>\n",
       "      <td>Санкт-Петербург</td>\n",
       "      <td>50898.0</td>\n",
       "      <td>15008.0</td>\n",
       "      <td>0.0</td>\n",
       "      <td>NaN</td>\n",
       "      <td>0.0</td>\n",
       "      <td>NaN</td>\n",
       "      <td>289.0</td>\n",
       "    </tr>\n",
       "  </tbody>\n",
       "</table>\n",
       "<p>10 rows × 22 columns</p>\n",
       "</div>"
      ],
      "text/plain": [
       "   total_images  last_price  total_area first_day_exposition  rooms  \\\n",
       "0            20  13000000.0      108.00  2019-03-07T00:00:00      3   \n",
       "1             7   3350000.0       40.40  2018-12-04T00:00:00      1   \n",
       "2            10   5196000.0       56.00  2015-08-20T00:00:00      2   \n",
       "3             0  64900000.0      159.00  2015-07-24T00:00:00      3   \n",
       "4             2  10000000.0      100.00  2018-06-19T00:00:00      2   \n",
       "5            10   2890000.0       30.40  2018-09-10T00:00:00      1   \n",
       "6             6   3700000.0       37.30  2017-11-02T00:00:00      1   \n",
       "7             5   7915000.0       71.60  2019-04-18T00:00:00      2   \n",
       "8            20   2900000.0       33.16  2018-05-23T00:00:00      1   \n",
       "9            18   5400000.0       61.00  2017-02-26T00:00:00      3   \n",
       "\n",
       "   ceiling_height  floors_total  living_area  floor is_apartment  ...  \\\n",
       "0            2.70          16.0        51.00      8          NaN  ...   \n",
       "1             NaN          11.0        18.60      1          NaN  ...   \n",
       "2             NaN           5.0        34.30      4          NaN  ...   \n",
       "3             NaN          14.0          NaN      9          NaN  ...   \n",
       "4            3.03          14.0        32.00     13          NaN  ...   \n",
       "5             NaN          12.0        14.40      5          NaN  ...   \n",
       "6             NaN          26.0        10.60      6          NaN  ...   \n",
       "7             NaN          24.0          NaN     22          NaN  ...   \n",
       "8             NaN          27.0        15.43     26          NaN  ...   \n",
       "9            2.50           9.0        43.60      7          NaN  ...   \n",
       "\n",
       "   kitchen_area  balcony              locality_name  airports_nearest  \\\n",
       "0         25.00      NaN            Санкт-Петербург           18863.0   \n",
       "1         11.00      2.0             посёлок Шушары           12817.0   \n",
       "2          8.30      0.0            Санкт-Петербург           21741.0   \n",
       "3           NaN      0.0            Санкт-Петербург           28098.0   \n",
       "4         41.00      NaN            Санкт-Петербург           31856.0   \n",
       "5          9.10      NaN  городской посёлок Янино-1               NaN   \n",
       "6         14.40      1.0          посёлок Парголово           52996.0   \n",
       "7         18.90      2.0            Санкт-Петербург           23982.0   \n",
       "8          8.81      NaN             посёлок Мурино               NaN   \n",
       "9          6.50      2.0            Санкт-Петербург           50898.0   \n",
       "\n",
       "  cityCenters_nearest  parks_around3000  parks_nearest  ponds_around3000  \\\n",
       "0             16028.0               1.0          482.0               2.0   \n",
       "1             18603.0               0.0            NaN               0.0   \n",
       "2             13933.0               1.0           90.0               2.0   \n",
       "3              6800.0               2.0           84.0               3.0   \n",
       "4              8098.0               2.0          112.0               1.0   \n",
       "5                 NaN               NaN            NaN               NaN   \n",
       "6             19143.0               0.0            NaN               0.0   \n",
       "7             11634.0               0.0            NaN               0.0   \n",
       "8                 NaN               NaN            NaN               NaN   \n",
       "9             15008.0               0.0            NaN               0.0   \n",
       "\n",
       "   ponds_nearest  days_exposition  \n",
       "0          755.0              NaN  \n",
       "1            NaN             81.0  \n",
       "2          574.0            558.0  \n",
       "3          234.0            424.0  \n",
       "4           48.0            121.0  \n",
       "5            NaN             55.0  \n",
       "6            NaN            155.0  \n",
       "7            NaN              NaN  \n",
       "8            NaN            189.0  \n",
       "9            NaN            289.0  \n",
       "\n",
       "[10 rows x 22 columns]"
      ]
     },
     "execution_count": 84,
     "metadata": {},
     "output_type": "execute_result"
    }
   ],
   "source": [
    "#Прочитаем файл и посморим на первые строки\n",
    "df_raw = pd.read_csv('/datasets/real_estate_data.csv', sep='\\t')\n",
    "df_raw.head(10)"
   ]
  },
  {
   "cell_type": "code",
   "execution_count": 85,
   "metadata": {
    "scrolled": true
   },
   "outputs": [
    {
     "data": {
      "text/plain": [
       "Index(['total_images', 'last_price', 'total_area', 'first_day_exposition',\n",
       "       'rooms', 'ceiling_height', 'floors_total', 'living_area', 'floor',\n",
       "       'is_apartment', 'studio', 'open_plan', 'kitchen_area', 'balcony',\n",
       "       'locality_name', 'airports_nearest', 'cityCenters_nearest',\n",
       "       'parks_around3000', 'parks_nearest', 'ponds_around3000',\n",
       "       'ponds_nearest', 'days_exposition'],\n",
       "      dtype='object')"
      ]
     },
     "execution_count": 85,
     "metadata": {},
     "output_type": "execute_result"
    }
   ],
   "source": [
    "#Выведем названия столбцов\n",
    "df_raw.columns"
   ]
  },
  {
   "cell_type": "code",
   "execution_count": 86,
   "metadata": {
    "scrolled": true
   },
   "outputs": [
    {
     "name": "stdout",
     "output_type": "stream",
     "text": [
      "<class 'pandas.core.frame.DataFrame'>\n",
      "RangeIndex: 23699 entries, 0 to 23698\n",
      "Data columns (total 12 columns):\n",
      "last_price              23699 non-null float64\n",
      "total_area              23699 non-null float64\n",
      "first_day_exposition    23699 non-null object\n",
      "rooms                   23699 non-null int64\n",
      "ceiling_height          14504 non-null float64\n",
      "floors_total            23613 non-null float64\n",
      "living_area             21796 non-null float64\n",
      "floor                   23699 non-null int64\n",
      "kitchen_area            21421 non-null float64\n",
      "locality_name           23650 non-null object\n",
      "cityCenters_nearest     18180 non-null float64\n",
      "days_exposition         20518 non-null float64\n",
      "dtypes: float64(8), int64(2), object(2)\n",
      "memory usage: 2.2+ MB\n"
     ]
    }
   ],
   "source": [
    "#Создадим новый датафрейм только с необходимыми столбцами\n",
    "df = df_raw[['last_price', 'total_area', 'first_day_exposition',\n",
    "             'rooms', 'ceiling_height', 'floors_total', 'living_area',\n",
    "             'floor', 'kitchen_area', 'locality_name', \n",
    "             'cityCenters_nearest','days_exposition' ]].copy()\n",
    "\n",
    "#Изучим основную информацию\n",
    "df.info()"
   ]
  },
  {
   "cell_type": "code",
   "execution_count": 87,
   "metadata": {
    "scrolled": true
   },
   "outputs": [
    {
     "data": {
      "text/html": [
       "<div>\n",
       "<style scoped>\n",
       "    .dataframe tbody tr th:only-of-type {\n",
       "        vertical-align: middle;\n",
       "    }\n",
       "\n",
       "    .dataframe tbody tr th {\n",
       "        vertical-align: top;\n",
       "    }\n",
       "\n",
       "    .dataframe thead th {\n",
       "        text-align: right;\n",
       "    }\n",
       "</style>\n",
       "<table border=\"1\" class=\"dataframe\">\n",
       "  <thead>\n",
       "    <tr style=\"text-align: right;\">\n",
       "      <th></th>\n",
       "      <th>count</th>\n",
       "      <th>unique</th>\n",
       "      <th>top</th>\n",
       "      <th>freq</th>\n",
       "      <th>mean</th>\n",
       "      <th>std</th>\n",
       "      <th>min</th>\n",
       "      <th>25%</th>\n",
       "      <th>50%</th>\n",
       "      <th>75%</th>\n",
       "      <th>max</th>\n",
       "    </tr>\n",
       "  </thead>\n",
       "  <tbody>\n",
       "    <tr>\n",
       "      <td>last_price</td>\n",
       "      <td>23699</td>\n",
       "      <td>NaN</td>\n",
       "      <td>NaN</td>\n",
       "      <td>NaN</td>\n",
       "      <td>6.54155e+06</td>\n",
       "      <td>1.0887e+07</td>\n",
       "      <td>12190</td>\n",
       "      <td>3.4e+06</td>\n",
       "      <td>4.65e+06</td>\n",
       "      <td>6.8e+06</td>\n",
       "      <td>7.63e+08</td>\n",
       "    </tr>\n",
       "    <tr>\n",
       "      <td>total_area</td>\n",
       "      <td>23699</td>\n",
       "      <td>NaN</td>\n",
       "      <td>NaN</td>\n",
       "      <td>NaN</td>\n",
       "      <td>60.3487</td>\n",
       "      <td>35.6541</td>\n",
       "      <td>12</td>\n",
       "      <td>40</td>\n",
       "      <td>52</td>\n",
       "      <td>69.9</td>\n",
       "      <td>900</td>\n",
       "    </tr>\n",
       "    <tr>\n",
       "      <td>first_day_exposition</td>\n",
       "      <td>23699</td>\n",
       "      <td>1491</td>\n",
       "      <td>2018-02-01T00:00:00</td>\n",
       "      <td>368</td>\n",
       "      <td>NaN</td>\n",
       "      <td>NaN</td>\n",
       "      <td>NaN</td>\n",
       "      <td>NaN</td>\n",
       "      <td>NaN</td>\n",
       "      <td>NaN</td>\n",
       "      <td>NaN</td>\n",
       "    </tr>\n",
       "    <tr>\n",
       "      <td>rooms</td>\n",
       "      <td>23699</td>\n",
       "      <td>NaN</td>\n",
       "      <td>NaN</td>\n",
       "      <td>NaN</td>\n",
       "      <td>2.07064</td>\n",
       "      <td>1.0784</td>\n",
       "      <td>0</td>\n",
       "      <td>1</td>\n",
       "      <td>2</td>\n",
       "      <td>3</td>\n",
       "      <td>19</td>\n",
       "    </tr>\n",
       "    <tr>\n",
       "      <td>ceiling_height</td>\n",
       "      <td>14504</td>\n",
       "      <td>NaN</td>\n",
       "      <td>NaN</td>\n",
       "      <td>NaN</td>\n",
       "      <td>2.7715</td>\n",
       "      <td>1.26106</td>\n",
       "      <td>1</td>\n",
       "      <td>2.52</td>\n",
       "      <td>2.65</td>\n",
       "      <td>2.8</td>\n",
       "      <td>100</td>\n",
       "    </tr>\n",
       "    <tr>\n",
       "      <td>floors_total</td>\n",
       "      <td>23613</td>\n",
       "      <td>NaN</td>\n",
       "      <td>NaN</td>\n",
       "      <td>NaN</td>\n",
       "      <td>10.6738</td>\n",
       "      <td>6.59717</td>\n",
       "      <td>1</td>\n",
       "      <td>5</td>\n",
       "      <td>9</td>\n",
       "      <td>16</td>\n",
       "      <td>60</td>\n",
       "    </tr>\n",
       "    <tr>\n",
       "      <td>living_area</td>\n",
       "      <td>21796</td>\n",
       "      <td>NaN</td>\n",
       "      <td>NaN</td>\n",
       "      <td>NaN</td>\n",
       "      <td>34.4579</td>\n",
       "      <td>22.0304</td>\n",
       "      <td>2</td>\n",
       "      <td>18.6</td>\n",
       "      <td>30</td>\n",
       "      <td>42.3</td>\n",
       "      <td>409.7</td>\n",
       "    </tr>\n",
       "    <tr>\n",
       "      <td>floor</td>\n",
       "      <td>23699</td>\n",
       "      <td>NaN</td>\n",
       "      <td>NaN</td>\n",
       "      <td>NaN</td>\n",
       "      <td>5.89236</td>\n",
       "      <td>4.88525</td>\n",
       "      <td>1</td>\n",
       "      <td>2</td>\n",
       "      <td>4</td>\n",
       "      <td>8</td>\n",
       "      <td>33</td>\n",
       "    </tr>\n",
       "    <tr>\n",
       "      <td>kitchen_area</td>\n",
       "      <td>21421</td>\n",
       "      <td>NaN</td>\n",
       "      <td>NaN</td>\n",
       "      <td>NaN</td>\n",
       "      <td>10.5698</td>\n",
       "      <td>5.90544</td>\n",
       "      <td>1.3</td>\n",
       "      <td>7</td>\n",
       "      <td>9.1</td>\n",
       "      <td>12</td>\n",
       "      <td>112</td>\n",
       "    </tr>\n",
       "    <tr>\n",
       "      <td>locality_name</td>\n",
       "      <td>23650</td>\n",
       "      <td>364</td>\n",
       "      <td>Санкт-Петербург</td>\n",
       "      <td>15721</td>\n",
       "      <td>NaN</td>\n",
       "      <td>NaN</td>\n",
       "      <td>NaN</td>\n",
       "      <td>NaN</td>\n",
       "      <td>NaN</td>\n",
       "      <td>NaN</td>\n",
       "      <td>NaN</td>\n",
       "    </tr>\n",
       "    <tr>\n",
       "      <td>cityCenters_nearest</td>\n",
       "      <td>18180</td>\n",
       "      <td>NaN</td>\n",
       "      <td>NaN</td>\n",
       "      <td>NaN</td>\n",
       "      <td>14191.3</td>\n",
       "      <td>8608.39</td>\n",
       "      <td>181</td>\n",
       "      <td>9238</td>\n",
       "      <td>13098.5</td>\n",
       "      <td>16293</td>\n",
       "      <td>65968</td>\n",
       "    </tr>\n",
       "    <tr>\n",
       "      <td>days_exposition</td>\n",
       "      <td>20518</td>\n",
       "      <td>NaN</td>\n",
       "      <td>NaN</td>\n",
       "      <td>NaN</td>\n",
       "      <td>180.889</td>\n",
       "      <td>219.728</td>\n",
       "      <td>1</td>\n",
       "      <td>45</td>\n",
       "      <td>95</td>\n",
       "      <td>232</td>\n",
       "      <td>1580</td>\n",
       "    </tr>\n",
       "  </tbody>\n",
       "</table>\n",
       "</div>"
      ],
      "text/plain": [
       "                      count unique                  top   freq         mean  \\\n",
       "last_price            23699    NaN                  NaN    NaN  6.54155e+06   \n",
       "total_area            23699    NaN                  NaN    NaN      60.3487   \n",
       "first_day_exposition  23699   1491  2018-02-01T00:00:00    368          NaN   \n",
       "rooms                 23699    NaN                  NaN    NaN      2.07064   \n",
       "ceiling_height        14504    NaN                  NaN    NaN       2.7715   \n",
       "floors_total          23613    NaN                  NaN    NaN      10.6738   \n",
       "living_area           21796    NaN                  NaN    NaN      34.4579   \n",
       "floor                 23699    NaN                  NaN    NaN      5.89236   \n",
       "kitchen_area          21421    NaN                  NaN    NaN      10.5698   \n",
       "locality_name         23650    364      Санкт-Петербург  15721          NaN   \n",
       "cityCenters_nearest   18180    NaN                  NaN    NaN      14191.3   \n",
       "days_exposition       20518    NaN                  NaN    NaN      180.889   \n",
       "\n",
       "                             std    min      25%       50%      75%       max  \n",
       "last_price            1.0887e+07  12190  3.4e+06  4.65e+06  6.8e+06  7.63e+08  \n",
       "total_area               35.6541     12       40        52     69.9       900  \n",
       "first_day_exposition         NaN    NaN      NaN       NaN      NaN       NaN  \n",
       "rooms                     1.0784      0        1         2        3        19  \n",
       "ceiling_height           1.26106      1     2.52      2.65      2.8       100  \n",
       "floors_total             6.59717      1        5         9       16        60  \n",
       "living_area              22.0304      2     18.6        30     42.3     409.7  \n",
       "floor                    4.88525      1        2         4        8        33  \n",
       "kitchen_area             5.90544    1.3        7       9.1       12       112  \n",
       "locality_name                NaN    NaN      NaN       NaN      NaN       NaN  \n",
       "cityCenters_nearest      8608.39    181     9238   13098.5    16293     65968  \n",
       "days_exposition          219.728      1       45        95      232      1580  "
      ]
     },
     "execution_count": 87,
     "metadata": {},
     "output_type": "execute_result"
    }
   ],
   "source": [
    "#Посмотрим на базовую статистику\n",
    "df.describe(include='all').T"
   ]
  },
  {
   "cell_type": "markdown",
   "metadata": {},
   "source": [
    "### Вывод"
   ]
  },
  {
   "cell_type": "markdown",
   "metadata": {},
   "source": [
    "Предварительное ознакомление с данными показывается, что в таблице 23699 строки и 22 столбца. Количество столбцов несколько ухудшает читабельность и выводить первые строки не так уж удобно. Для ответа на поставленные вопросы нет необходимости сохранять все столбцы, кроме того надо будет еще несколько добавить. Поэтому был сделан новый датафрейм с теми столбцами, с которыми мы будем работать:\n",
    "- last_price,\n",
    "- total_area,\n",
    "- first_day_exposition,\n",
    "- rooms,\n",
    "- ceiling_height,\n",
    "- floors_total,\n",
    "- living_area,\n",
    "- floor,\n",
    "- kitchen_area,\n",
    "- locality_name,\n",
    "- cityCenters_nearest,\n",
    "- days_exposition.\n",
    "\n",
    "В таблице достаточно много пропусков, они встречаются в следующих столбцах:\n",
    "- ceiling_height - вероятно не были предоставлены владельцами квартир; можно заполнить медианами, предварительно определив подходящую группировку;\n",
    "- floors_total - вероятно не были предоставлены владельцами квартир; можно заполнить медианами, предварительно сгруппировав по этажам;\n",
    "- living_area - вероятно не были предоставлены владельцами квартир; данные об общей площади есть везде, следовательно жилую площадь можно заполнить медианами, приняв во внимание соотношение жилой и общей;\n",
    "- kitchen_area - вероятно не были предоставлены владельцами квартир; так же заполнить медианами, приняв во внимание соотношение кухни и общей;\n",
    "- locality_name - вероятно не были предоставлены владельцами квартир; необходимо исследовать столбец на разные варианты написания одного и того же, а пропуски заполнить \"неизвестно\", чтобы затем преобразовать в категории;\n",
    "- cityCenters_nearest - вероятно, не были получены автоматически; можно заполнить медианами, сгруппировав по locality_name; \n",
    "- days_exposition - можно оставить без изменения.\n",
    "\n",
    "Надо будет произвести замену типа данны:\n",
    "- в int: last_price, floors_total, cityCenters_nearest;\n",
    "- в datetime: first_day_exposition;\n",
    "- в category: locality_name."
   ]
  },
  {
   "cell_type": "markdown",
   "metadata": {},
   "source": [
    "## Шаг 2. Предобработка данных"
   ]
  },
  {
   "cell_type": "markdown",
   "metadata": {},
   "source": [
    "### Обработка пропущенных значений"
   ]
  },
  {
   "cell_type": "code",
   "execution_count": 88,
   "metadata": {
    "scrolled": true
   },
   "outputs": [
    {
     "data": {
      "text/plain": [
       "last_price                 0\n",
       "total_area                 0\n",
       "first_day_exposition       0\n",
       "rooms                      0\n",
       "ceiling_height          9195\n",
       "floors_total              86\n",
       "living_area             1903\n",
       "floor                      0\n",
       "kitchen_area            2278\n",
       "locality_name             49\n",
       "cityCenters_nearest     5519\n",
       "days_exposition         3181\n",
       "dtype: int64"
      ]
     },
     "execution_count": 88,
     "metadata": {},
     "output_type": "execute_result"
    }
   ],
   "source": [
    "#Посмотрим, где и сколько есть пропусков\n",
    "df.isnull().sum()"
   ]
  },
  {
   "cell_type": "markdown",
   "metadata": {},
   "source": [
    "Пойдем от меньшего количества пропусков к большему."
   ]
  },
  {
   "cell_type": "markdown",
   "metadata": {},
   "source": [
    "#### Столбец locality_name"
   ]
  },
  {
   "cell_type": "code",
   "execution_count": 89,
   "metadata": {},
   "outputs": [
    {
     "data": {
      "text/plain": [
       "array(['Санкт-Петербург', 'посёлок Шушары', 'городской посёлок Янино-1',\n",
       "       'посёлок Парголово', 'посёлок Мурино', 'Ломоносов', 'Сертолово',\n",
       "       'Петергоф', 'Пушкин', 'деревня Кудрово', 'Коммунар', 'Колпино',\n",
       "       'поселок городского типа Красный Бор', 'Гатчина', 'поселок Мурино',\n",
       "       'деревня Фёдоровское', 'Выборг', 'Кронштадт', 'Кировск',\n",
       "       'деревня Новое Девяткино', 'посёлок Металлострой',\n",
       "       'посёлок городского типа Лебяжье',\n",
       "       'посёлок городского типа Сиверский', 'поселок Молодцово',\n",
       "       'поселок городского типа Кузьмоловский',\n",
       "       'садовое товарищество Новая Ропша', 'Павловск',\n",
       "       'деревня Пикколово', 'Всеволожск', 'Волхов'], dtype=object)"
      ]
     },
     "execution_count": 89,
     "metadata": {},
     "output_type": "execute_result"
    }
   ],
   "source": [
    "#Посмотрим несколько уникальных значений\n",
    "df.locality_name.unique()[:30]"
   ]
  },
  {
   "cell_type": "code",
   "execution_count": 90,
   "metadata": {
    "scrolled": true
   },
   "outputs": [
    {
     "name": "stdout",
     "output_type": "stream",
     "text": [
      "locality_name    364\n",
      "dtype: int64\n"
     ]
    },
    {
     "data": {
      "text/plain": [
       "locality_name    True\n",
       "dtype: bool"
      ]
     },
     "execution_count": 90,
     "metadata": {},
     "output_type": "execute_result"
    }
   ],
   "source": [
    "#Проверим, если ли дубликаты значений из-за разного регистра в столбце locality_name \n",
    "#Если нет, не будет приводить к нижнему регистру для сохранения читаемости\n",
    "df_location = df[['locality_name']]\n",
    "print(df_location.nunique())\n",
    "df_location.nunique() == df_location['locality_name'].str.lower().nunique()"
   ]
  },
  {
   "cell_type": "code",
   "execution_count": 91,
   "metadata": {
    "scrolled": true
   },
   "outputs": [
    {
     "data": {
      "text/plain": [
       "array(['городской поселок Большая Ижора', 'городской поселок Янино-1',\n",
       "       'городской посёлок Будогощь', 'городской посёлок Виллози',\n",
       "       'городской посёлок Лесогорский', 'городской посёлок Мга',\n",
       "       'городской посёлок Назия', 'городской посёлок Новоселье',\n",
       "       'городской посёлок Павлово', 'городской посёлок Рощино',\n",
       "       'городской посёлок Свирьстрой', 'городской посёлок Советский',\n",
       "       'городской посёлок Фёдоровское', 'городской посёлок Янино-1',\n",
       "       'коттеджный поселок Кивеннапа Север', 'коттеджный поселок Счастье',\n",
       "       'коттеджный посёлок Лесное', 'поселок Аннино', 'поселок Барышево',\n",
       "       'поселок Бугры', 'поселок Возрождение', 'поселок Войсковицы',\n",
       "       'поселок Володарское', 'поселок Гаврилово', 'поселок Гарболово',\n",
       "       'поселок Гладкое', 'поселок Глажево', 'поселок Глебычево',\n",
       "       'поселок Гончарово', 'поселок Громово'], dtype=object)"
      ]
     },
     "execution_count": 91,
     "metadata": {},
     "output_type": "execute_result"
    }
   ],
   "source": [
    "#Сделаем срез по посёлкам и посмотрим, есть ли повторяющиеся значения\n",
    "df[df.locality_name.str.contains(\"посёлок\") | df.locality_name.str.contains(\"поселок\")]['locality_name']\\\n",
    ".sort_values().unique()[:30]"
   ]
  },
  {
   "cell_type": "markdown",
   "metadata": {},
   "source": [
    "В значениях много посёлков, при этом есть два варианта написания - \"посёлок\" и \"поселок\", а место может быть одно и то же, например 'городской поселок Янино-1'. Необходимо привести к одному виду, чтобы избежать дублирования. "
   ]
  },
  {
   "cell_type": "code",
   "execution_count": 92,
   "metadata": {},
   "outputs": [
    {
     "data": {
      "text/plain": [
       "330"
      ]
     },
     "execution_count": 92,
     "metadata": {},
     "output_type": "execute_result"
    }
   ],
   "source": [
    "#Заменим на один вид написания - посёлок и посмотрим количество уникальных значений\n",
    "df['locality_name'] = df.locality_name.str.replace('поселок', 'посёлок')\n",
    "df.locality_name.nunique()"
   ]
  },
  {
   "cell_type": "markdown",
   "metadata": {},
   "source": [
    "Благодаря замене количество уникальных значений уменьшилось на 34."
   ]
  },
  {
   "cell_type": "code",
   "execution_count": 93,
   "metadata": {},
   "outputs": [
    {
     "data": {
      "text/plain": [
       "0"
      ]
     },
     "execution_count": 93,
     "metadata": {},
     "output_type": "execute_result"
    }
   ],
   "source": [
    "#Заменим пропуски\n",
    "df['locality_name'] = df['locality_name'].fillna('Неизвестно')\n",
    "df.locality_name.isnull().sum()"
   ]
  },
  {
   "cell_type": "markdown",
   "metadata": {},
   "source": [
    "#### Столбец floors_total"
   ]
  },
  {
   "cell_type": "code",
   "execution_count": 94,
   "metadata": {},
   "outputs": [
    {
     "data": {
      "text/html": [
       "<div>\n",
       "<style scoped>\n",
       "    .dataframe tbody tr th:only-of-type {\n",
       "        vertical-align: middle;\n",
       "    }\n",
       "\n",
       "    .dataframe tbody tr th {\n",
       "        vertical-align: top;\n",
       "    }\n",
       "\n",
       "    .dataframe thead th {\n",
       "        text-align: right;\n",
       "    }\n",
       "</style>\n",
       "<table border=\"1\" class=\"dataframe\">\n",
       "  <thead>\n",
       "    <tr style=\"text-align: right;\">\n",
       "      <th></th>\n",
       "      <th>mean</th>\n",
       "      <th>median</th>\n",
       "    </tr>\n",
       "    <tr>\n",
       "      <th>floor</th>\n",
       "      <th></th>\n",
       "      <th></th>\n",
       "    </tr>\n",
       "  </thead>\n",
       "  <tbody>\n",
       "    <tr>\n",
       "      <td>1</td>\n",
       "      <td>6.879547</td>\n",
       "      <td>5.0</td>\n",
       "    </tr>\n",
       "    <tr>\n",
       "      <td>2</td>\n",
       "      <td>7.476233</td>\n",
       "      <td>5.0</td>\n",
       "    </tr>\n",
       "    <tr>\n",
       "      <td>3</td>\n",
       "      <td>7.999674</td>\n",
       "      <td>5.0</td>\n",
       "    </tr>\n",
       "    <tr>\n",
       "      <td>4</td>\n",
       "      <td>7.994273</td>\n",
       "      <td>5.0</td>\n",
       "    </tr>\n",
       "    <tr>\n",
       "      <td>5</td>\n",
       "      <td>8.330531</td>\n",
       "      <td>6.0</td>\n",
       "    </tr>\n",
       "    <tr>\n",
       "      <td>6</td>\n",
       "      <td>11.607253</td>\n",
       "      <td>9.0</td>\n",
       "    </tr>\n",
       "    <tr>\n",
       "      <td>7</td>\n",
       "      <td>12.292422</td>\n",
       "      <td>10.0</td>\n",
       "    </tr>\n",
       "    <tr>\n",
       "      <td>8</td>\n",
       "      <td>12.669767</td>\n",
       "      <td>10.0</td>\n",
       "    </tr>\n",
       "    <tr>\n",
       "      <td>9</td>\n",
       "      <td>13.022945</td>\n",
       "      <td>10.0</td>\n",
       "    </tr>\n",
       "    <tr>\n",
       "      <td>10</td>\n",
       "      <td>15.779240</td>\n",
       "      <td>16.0</td>\n",
       "    </tr>\n",
       "    <tr>\n",
       "      <td>11</td>\n",
       "      <td>16.900000</td>\n",
       "      <td>16.0</td>\n",
       "    </tr>\n",
       "    <tr>\n",
       "      <td>12</td>\n",
       "      <td>17.165385</td>\n",
       "      <td>16.0</td>\n",
       "    </tr>\n",
       "    <tr>\n",
       "      <td>13</td>\n",
       "      <td>18.343085</td>\n",
       "      <td>17.0</td>\n",
       "    </tr>\n",
       "    <tr>\n",
       "      <td>14</td>\n",
       "      <td>18.534328</td>\n",
       "      <td>17.0</td>\n",
       "    </tr>\n",
       "    <tr>\n",
       "      <td>15</td>\n",
       "      <td>19.144118</td>\n",
       "      <td>17.0</td>\n",
       "    </tr>\n",
       "    <tr>\n",
       "      <td>16</td>\n",
       "      <td>19.888889</td>\n",
       "      <td>18.0</td>\n",
       "    </tr>\n",
       "    <tr>\n",
       "      <td>17</td>\n",
       "      <td>21.477876</td>\n",
       "      <td>22.0</td>\n",
       "    </tr>\n",
       "    <tr>\n",
       "      <td>18</td>\n",
       "      <td>22.051429</td>\n",
       "      <td>22.0</td>\n",
       "    </tr>\n",
       "    <tr>\n",
       "      <td>19</td>\n",
       "      <td>22.875000</td>\n",
       "      <td>24.0</td>\n",
       "    </tr>\n",
       "    <tr>\n",
       "      <td>20</td>\n",
       "      <td>23.648148</td>\n",
       "      <td>24.0</td>\n",
       "    </tr>\n",
       "    <tr>\n",
       "      <td>21</td>\n",
       "      <td>24.231405</td>\n",
       "      <td>25.0</td>\n",
       "    </tr>\n",
       "    <tr>\n",
       "      <td>22</td>\n",
       "      <td>24.366071</td>\n",
       "      <td>25.0</td>\n",
       "    </tr>\n",
       "    <tr>\n",
       "      <td>23</td>\n",
       "      <td>25.030303</td>\n",
       "      <td>25.0</td>\n",
       "    </tr>\n",
       "    <tr>\n",
       "      <td>24</td>\n",
       "      <td>25.032787</td>\n",
       "      <td>25.0</td>\n",
       "    </tr>\n",
       "    <tr>\n",
       "      <td>25</td>\n",
       "      <td>25.304348</td>\n",
       "      <td>25.0</td>\n",
       "    </tr>\n",
       "    <tr>\n",
       "      <td>26</td>\n",
       "      <td>27.416667</td>\n",
       "      <td>27.0</td>\n",
       "    </tr>\n",
       "    <tr>\n",
       "      <td>27</td>\n",
       "      <td>28.700000</td>\n",
       "      <td>27.0</td>\n",
       "    </tr>\n",
       "    <tr>\n",
       "      <td>28</td>\n",
       "      <td>36.000000</td>\n",
       "      <td>36.0</td>\n",
       "    </tr>\n",
       "    <tr>\n",
       "      <td>29</td>\n",
       "      <td>36.000000</td>\n",
       "      <td>36.0</td>\n",
       "    </tr>\n",
       "    <tr>\n",
       "      <td>30</td>\n",
       "      <td>35.000000</td>\n",
       "      <td>35.0</td>\n",
       "    </tr>\n",
       "    <tr>\n",
       "      <td>31</td>\n",
       "      <td>35.000000</td>\n",
       "      <td>35.0</td>\n",
       "    </tr>\n",
       "    <tr>\n",
       "      <td>32</td>\n",
       "      <td>33.000000</td>\n",
       "      <td>33.0</td>\n",
       "    </tr>\n",
       "    <tr>\n",
       "      <td>33</td>\n",
       "      <td>35.000000</td>\n",
       "      <td>35.0</td>\n",
       "    </tr>\n",
       "  </tbody>\n",
       "</table>\n",
       "</div>"
      ],
      "text/plain": [
       "            mean  median\n",
       "floor                   \n",
       "1       6.879547     5.0\n",
       "2       7.476233     5.0\n",
       "3       7.999674     5.0\n",
       "4       7.994273     5.0\n",
       "5       8.330531     6.0\n",
       "6      11.607253     9.0\n",
       "7      12.292422    10.0\n",
       "8      12.669767    10.0\n",
       "9      13.022945    10.0\n",
       "10     15.779240    16.0\n",
       "11     16.900000    16.0\n",
       "12     17.165385    16.0\n",
       "13     18.343085    17.0\n",
       "14     18.534328    17.0\n",
       "15     19.144118    17.0\n",
       "16     19.888889    18.0\n",
       "17     21.477876    22.0\n",
       "18     22.051429    22.0\n",
       "19     22.875000    24.0\n",
       "20     23.648148    24.0\n",
       "21     24.231405    25.0\n",
       "22     24.366071    25.0\n",
       "23     25.030303    25.0\n",
       "24     25.032787    25.0\n",
       "25     25.304348    25.0\n",
       "26     27.416667    27.0\n",
       "27     28.700000    27.0\n",
       "28     36.000000    36.0\n",
       "29     36.000000    36.0\n",
       "30     35.000000    35.0\n",
       "31     35.000000    35.0\n",
       "32     33.000000    33.0\n",
       "33     35.000000    35.0"
      ]
     },
     "execution_count": 94,
     "metadata": {},
     "output_type": "execute_result"
    }
   ],
   "source": [
    "#Сгруппируем по этажам и посмотрим среднее и медиану\n",
    "df.groupby('floor')['floors_total'].agg(['mean', 'median'])"
   ]
  },
  {
   "cell_type": "code",
   "execution_count": 95,
   "metadata": {},
   "outputs": [
    {
     "data": {
      "text/plain": [
       "0"
      ]
     },
     "execution_count": 95,
     "metadata": {},
     "output_type": "execute_result"
    }
   ],
   "source": [
    "#Заменим пропуски на медианы, чтобы не принимать во внимание выбросы, и проверим\n",
    "df['floors_total'] = df.groupby(['floor']).floors_total.apply(lambda x: x.fillna(x.median()))\n",
    "df.floors_total.isnull().sum()"
   ]
  },
  {
   "cell_type": "markdown",
   "metadata": {},
   "source": [
    "#### Столбец living_area"
   ]
  },
  {
   "cell_type": "code",
   "execution_count": 96,
   "metadata": {},
   "outputs": [
    {
     "data": {
      "text/plain": [
       "0"
      ]
     },
     "execution_count": 96,
     "metadata": {},
     "output_type": "execute_result"
    }
   ],
   "source": [
    "#Добавим столбец соотношения жилой площади к общей на основе имеющихся данных\n",
    "df['living_total_ratio'] = (df.living_area / df.total_area)\n",
    "\n",
    "#Заполним пропуски с помощью total_area*медиану по столбцу living_total_ratio\n",
    "df['living_area'] = df['living_area'].fillna(df['total_area']*df['living_total_ratio'].median())\n",
    "df['living_area'].isnull().sum()"
   ]
  },
  {
   "cell_type": "markdown",
   "metadata": {},
   "source": [
    "#### Столбец kitchen_area"
   ]
  },
  {
   "cell_type": "markdown",
   "metadata": {},
   "source": [
    "Заполним пропуски по той же логике, что и living_area."
   ]
  },
  {
   "cell_type": "code",
   "execution_count": 97,
   "metadata": {},
   "outputs": [
    {
     "data": {
      "text/plain": [
       "0"
      ]
     },
     "execution_count": 97,
     "metadata": {},
     "output_type": "execute_result"
    }
   ],
   "source": [
    "#Добавим столбец соотношения кухни к общей на основе имеющихся данных\n",
    "df['kitchen_total_ratio'] = (df.kitchen_area / df.total_area)\n",
    "\n",
    "#Заполним пропуски с помощью  total_area*медиану по столбцу kitchen_total_ratio\n",
    "df['kitchen_area'] = df['kitchen_area'].fillna(df['total_area']*df['kitchen_total_ratio'].median())\n",
    "df['kitchen_area'].isnull().sum()"
   ]
  },
  {
   "cell_type": "markdown",
   "metadata": {},
   "source": [
    "#### Столбец cityCenters_nearest"
   ]
  },
  {
   "cell_type": "code",
   "execution_count": 98,
   "metadata": {},
   "outputs": [
    {
     "data": {
      "text/plain": [
       "313"
      ]
     },
     "execution_count": 98,
     "metadata": {},
     "output_type": "execute_result"
    },
    {
     "data": {
      "text/plain": [
       "61"
      ]
     },
     "execution_count": 98,
     "metadata": {},
     "output_type": "execute_result"
    },
    {
     "data": {
      "text/plain": [
       "5458"
      ]
     },
     "execution_count": 98,
     "metadata": {},
     "output_type": "execute_result"
    }
   ],
   "source": [
    "#Посмотрим количество местоположений квартир с пропусками cityCenters_nearest\n",
    "df.query('cityCenters_nearest.isnull() == True')['locality_name'].nunique()\n",
    "\n",
    "#Из них по Петербургу\n",
    "len(df.query('locality_name == \"Санкт-Петербург\" & cityCenters_nearest.isnull() == True'))\n",
    "\n",
    "#И по остальным населенным пунктам\n",
    "len(df.query('locality_name != \"Санкт-Петербург\" & cityCenters_nearest.isnull() == True'))"
   ]
  },
  {
   "cell_type": "code",
   "execution_count": 99,
   "metadata": {},
   "outputs": [
    {
     "data": {
      "text/html": [
       "<div>\n",
       "<style scoped>\n",
       "    .dataframe tbody tr th:only-of-type {\n",
       "        vertical-align: middle;\n",
       "    }\n",
       "\n",
       "    .dataframe tbody tr th {\n",
       "        vertical-align: top;\n",
       "    }\n",
       "\n",
       "    .dataframe thead th {\n",
       "        text-align: right;\n",
       "    }\n",
       "</style>\n",
       "<table border=\"1\" class=\"dataframe\">\n",
       "  <thead>\n",
       "    <tr style=\"text-align: right;\">\n",
       "      <th></th>\n",
       "      <th>mean</th>\n",
       "      <th>median</th>\n",
       "      <th>first</th>\n",
       "      <th>last</th>\n",
       "    </tr>\n",
       "    <tr>\n",
       "      <th>locality_name</th>\n",
       "      <th></th>\n",
       "      <th></th>\n",
       "      <th></th>\n",
       "      <th></th>\n",
       "    </tr>\n",
       "  </thead>\n",
       "  <tbody>\n",
       "    <tr>\n",
       "      <td>Зеленогорск</td>\n",
       "      <td>54617.583333</td>\n",
       "      <td>53381.0</td>\n",
       "      <td>53104.0</td>\n",
       "      <td>54490.0</td>\n",
       "    </tr>\n",
       "    <tr>\n",
       "      <td>Колпино</td>\n",
       "      <td>32113.771513</td>\n",
       "      <td>32018.0</td>\n",
       "      <td>32321.0</td>\n",
       "      <td>30473.0</td>\n",
       "    </tr>\n",
       "    <tr>\n",
       "      <td>Красное Село</td>\n",
       "      <td>30020.284091</td>\n",
       "      <td>29140.5</td>\n",
       "      <td>29514.0</td>\n",
       "      <td>41718.0</td>\n",
       "    </tr>\n",
       "    <tr>\n",
       "      <td>Кронштадт</td>\n",
       "      <td>49195.726316</td>\n",
       "      <td>49575.0</td>\n",
       "      <td>49984.0</td>\n",
       "      <td>46979.0</td>\n",
       "    </tr>\n",
       "    <tr>\n",
       "      <td>Ломоносов</td>\n",
       "      <td>50739.969697</td>\n",
       "      <td>51677.0</td>\n",
       "      <td>51677.0</td>\n",
       "      <td>51818.0</td>\n",
       "    </tr>\n",
       "    <tr>\n",
       "      <td>Неизвестно</td>\n",
       "      <td>11278.902439</td>\n",
       "      <td>8943.0</td>\n",
       "      <td>4258.0</td>\n",
       "      <td>8943.0</td>\n",
       "    </tr>\n",
       "    <tr>\n",
       "      <td>Павловск</td>\n",
       "      <td>33206.921053</td>\n",
       "      <td>32683.0</td>\n",
       "      <td>32900.0</td>\n",
       "      <td>35053.0</td>\n",
       "    </tr>\n",
       "    <tr>\n",
       "      <td>Петергоф</td>\n",
       "      <td>35468.925373</td>\n",
       "      <td>33771.0</td>\n",
       "      <td>33058.0</td>\n",
       "      <td>34104.0</td>\n",
       "    </tr>\n",
       "    <tr>\n",
       "      <td>Пушкин</td>\n",
       "      <td>28745.375000</td>\n",
       "      <td>27930.5</td>\n",
       "      <td>30759.0</td>\n",
       "      <td>27977.0</td>\n",
       "    </tr>\n",
       "    <tr>\n",
       "      <td>Санкт-Петербург</td>\n",
       "      <td>11601.291571</td>\n",
       "      <td>12244.5</td>\n",
       "      <td>16028.0</td>\n",
       "      <td>10364.0</td>\n",
       "    </tr>\n",
       "  </tbody>\n",
       "</table>\n",
       "</div>"
      ],
      "text/plain": [
       "                         mean   median    first     last\n",
       "locality_name                                           \n",
       "Зеленогорск      54617.583333  53381.0  53104.0  54490.0\n",
       "Колпино          32113.771513  32018.0  32321.0  30473.0\n",
       "Красное Село     30020.284091  29140.5  29514.0  41718.0\n",
       "Кронштадт        49195.726316  49575.0  49984.0  46979.0\n",
       "Ломоносов        50739.969697  51677.0  51677.0  51818.0\n",
       "Неизвестно       11278.902439   8943.0   4258.0   8943.0\n",
       "Павловск         33206.921053  32683.0  32900.0  35053.0\n",
       "Петергоф         35468.925373  33771.0  33058.0  34104.0\n",
       "Пушкин           28745.375000  27930.5  30759.0  27977.0\n",
       "Санкт-Петербург  11601.291571  12244.5  16028.0  10364.0"
      ]
     },
     "execution_count": 99,
     "metadata": {},
     "output_type": "execute_result"
    }
   ],
   "source": [
    "#Агрегирует по нас.пунктам и посмотрим статистику cityCenters_nearest\n",
    "df.query('cityCenters_nearest.notnull() == True')\\\n",
    ".groupby('locality_name')['cityCenters_nearest'].agg(['mean', 'median', 'first', 'last']).head(10)"
   ]
  },
  {
   "cell_type": "markdown",
   "metadata": {},
   "source": [
    "Значения столбца указаны в метрах, что показывает достаточно высокую точность местоположения. Логично предположить, что в одном районе они будут примерно одинаковы. Поэтому сначала сгруппируем по locality_name и заполним медианами"
   ]
  },
  {
   "cell_type": "code",
   "execution_count": 100,
   "metadata": {
    "scrolled": true
   },
   "outputs": [
    {
     "name": "stderr",
     "output_type": "stream",
     "text": [
      "/opt/conda/lib/python3.7/site-packages/numpy/lib/nanfunctions.py:1113: RuntimeWarning: Mean of empty slice\n",
      "  return np.nanmean(a, axis, out=out, keepdims=keepdims)\n"
     ]
    },
    {
     "name": "stdout",
     "output_type": "stream",
     "text": [
      "Осталось всего: 4864\n",
      "по Петербургу: 0\n",
      "по остальным нас.пунктам: 4864\n"
     ]
    }
   ],
   "source": [
    "#Предварительно сгруппируем данные по locality_name и заполним медианами\n",
    "df['cityCenters_nearest'] = df.groupby('locality_name')['cityCenters_nearest']\\\n",
    "                              .apply(lambda x: x.fillna(x.median()))\n",
    "\n",
    "#Проверим, сколько осталось пропусков\n",
    "print('Осталось всего:', df['cityCenters_nearest'].isnull().sum())\n",
    "print('по Петербургу:', len(df.query('locality_name == \"Санкт-Петербург\" & cityCenters_nearest.isnull() == True')))\n",
    "print('по остальным нас.пунктам:', len(df.query('locality_name != \"Санкт-Петербург\" & cityCenters_nearest.isnull() == True')))"
   ]
  },
  {
   "cell_type": "markdown",
   "metadata": {},
   "source": [
    "Осталось достаточно много пропусков в небольших населенных пунктах, заполним их медианой"
   ]
  },
  {
   "cell_type": "code",
   "execution_count": 101,
   "metadata": {},
   "outputs": [
    {
     "data": {
      "text/plain": [
       "0"
      ]
     },
     "execution_count": 101,
     "metadata": {},
     "output_type": "execute_result"
    }
   ],
   "source": [
    "#Сохраним медиану отдельно и потом заполним\n",
    "suburbs_median = df.query('locality_name != \"Санкт-Петербург\"')['cityCenters_nearest'].median()\n",
    "df.loc[df['locality_name'] != 'Санкт-Петербург','cityCenters_nearest'] = \\\n",
    "(df.loc[df['locality_name'] != 'Санкт-Петербург','cityCenters_nearest'].fillna(suburbs_median))\n",
    "\n",
    "#Проверим количество пропусков\n",
    "df['cityCenters_nearest'].isnull().sum()"
   ]
  },
  {
   "cell_type": "markdown",
   "metadata": {},
   "source": [
    "#### Столбец ceiling_height"
   ]
  },
  {
   "cell_type": "code",
   "execution_count": 102,
   "metadata": {},
   "outputs": [
    {
     "data": {
      "text/plain": [
       "array([  2.7 ,    nan,   3.03,   2.5 ,   2.67,   2.56,   3.05,   2.75,\n",
       "         2.6 ,   2.9 ,   2.8 ,   2.55,   3.  ,   2.65,   3.2 ,   2.61,\n",
       "         3.25,   3.45,   2.77,   2.85,   2.64,   2.57,   4.15,   3.5 ,\n",
       "         3.3 ,   2.71,   4.  ,   2.47,   2.73,   2.84,   3.1 ,   2.34,\n",
       "         3.4 ,   3.06,   2.72,   2.54,   2.51,   2.78,   2.76,  25.  ,\n",
       "         2.58,   3.7 ,   2.52,   5.2 ,   2.87,   2.66,   2.59,   2.  ,\n",
       "         2.45,   3.6 ,   2.92,   3.11,   3.13,   3.8 ,   3.15,   3.55,\n",
       "         3.16,   3.62,   3.12,   2.53,   2.74,   2.96,   2.46,   5.3 ,\n",
       "         5.  ,   2.79,   2.95,   4.06,   2.94,   3.82,   3.54,   3.53,\n",
       "         2.83,   4.7 ,   2.4 ,   3.38,   3.01,   5.6 ,   3.65,   3.9 ,\n",
       "         3.18,   3.35,   2.3 ,   3.57,   2.48,   2.62,   2.82,   3.98,\n",
       "         2.63,   3.83,   3.52,   3.95,   3.75,   2.88,   3.67,   3.87,\n",
       "         3.66,   3.85,   3.86,   4.19,   3.24,   4.8 ,   4.5 ,   4.2 ,\n",
       "         3.36,  32.  ,   3.08,   3.68,   3.07,   3.37,   3.09,   8.  ,\n",
       "         3.26,   3.34,   2.81,   3.44,   2.97,   3.14,   4.37,   2.68,\n",
       "         3.22,   3.27,  27.  ,   4.1 ,   2.93,   3.46,  24.  ,   3.47,\n",
       "         3.33,   3.63,   3.32,  26.  ,   1.2 ,   8.3 ,   2.98,   2.86,\n",
       "         3.17,   4.4 ,   3.28,   3.04,   4.45,   5.5 ,   3.84,   3.23,\n",
       "         3.02,   3.21,   3.43,   3.78,   4.3 ,   3.39,   2.69,   3.31,\n",
       "         4.65,   3.56,   2.2 ,   3.51,   3.93,   3.42,   2.99,   3.49,\n",
       "        14.  ,   4.14,   2.91,   3.88,   1.75,   4.25,   3.29,  20.  ,\n",
       "         2.25,   3.76,   3.69,   6.  ,  22.6 ,   2.89,   3.58,   5.8 ,\n",
       "        27.5 ,   2.49,   4.9 ,   3.48,  10.3 ,   1.  , 100.  ,   3.59])"
      ]
     },
     "execution_count": 102,
     "metadata": {},
     "output_type": "execute_result"
    }
   ],
   "source": [
    "#Посмотрим на уникальные значения\n",
    "df.ceiling_height.unique()"
   ]
  },
  {
   "cell_type": "markdown",
   "metadata": {},
   "source": [
    "Изучение уникальных значений показывает, что встречаются такие, как 26, 27, 34, и даже 100, что очень похоже на то, что была пропущена запятая, так как в противном случае сложно представить квартиры с такими потолками. Поделим такие значения на 10. Возьмем порог от 20 , так как 2 метра может быть потолок в мансардном этаже."
   ]
  },
  {
   "cell_type": "code",
   "execution_count": 103,
   "metadata": {},
   "outputs": [
    {
     "data": {
      "text/plain": [
       "array([ 1.  ,  1.2 ,  1.75,  2.  ,  2.2 ,  2.25,  2.26,  2.3 ,  2.34,\n",
       "        2.4 ,  2.45,  2.46,  2.47,  2.48,  2.49,  2.5 ,  2.51,  2.52,\n",
       "        2.53,  2.54,  2.55,  2.56,  2.57,  2.58,  2.59,  2.6 ,  2.61,\n",
       "        2.62,  2.63,  2.64,  2.65,  2.66,  2.67,  2.68,  2.69,  2.7 ,\n",
       "        2.71,  2.72,  2.73,  2.74,  2.75,  2.76,  2.77,  2.78,  2.79,\n",
       "        2.8 ,  2.81,  2.82,  2.83,  2.84,  2.85,  2.86,  2.87,  2.88,\n",
       "        2.89,  2.9 ,  2.91,  2.92,  2.93,  2.94,  2.95,  2.96,  2.97,\n",
       "        2.98,  2.99,  3.  ,  3.01,  3.02,  3.03,  3.04,  3.05,  3.06,\n",
       "        3.07,  3.08,  3.09,  3.1 ,  3.11,  3.12,  3.13,  3.14,  3.15,\n",
       "        3.16,  3.17,  3.18,  3.2 ,  3.21,  3.22,  3.23,  3.24,  3.25,\n",
       "        3.26,  3.27,  3.28,  3.29,  3.3 ,  3.31,  3.32,  3.33,  3.34,\n",
       "        3.35,  3.36,  3.37,  3.38,  3.39,  3.4 ,  3.42,  3.43,  3.44,\n",
       "        3.45,  3.46,  3.47,  3.48,  3.49,  3.5 ,  3.51,  3.52,  3.53,\n",
       "        3.54,  3.55,  3.56,  3.57,  3.58,  3.59,  3.6 ,  3.62,  3.63,\n",
       "        3.65,  3.66,  3.67,  3.68,  3.69,  3.7 ,  3.75,  3.76,  3.78,\n",
       "        3.8 ,  3.82,  3.83,  3.84,  3.85,  3.86,  3.87,  3.88,  3.9 ,\n",
       "        3.93,  3.95,  3.98,  4.  ,  4.06,  4.1 ,  4.14,  4.15,  4.19,\n",
       "        4.2 ,  4.25,  4.3 ,  4.37,  4.4 ,  4.45,  4.5 ,  4.65,  4.7 ,\n",
       "        4.8 ,  4.9 ,  5.  ,  5.2 ,  5.3 ,  5.5 ,  5.6 ,  5.8 ,  6.  ,\n",
       "        8.  ,  8.3 , 10.  , 10.3 , 14.  ,   nan])"
      ]
     },
     "execution_count": 103,
     "metadata": {},
     "output_type": "execute_result"
    }
   ],
   "source": [
    "#Выберем значения столбца больше или равно 20 и поделим на 10 и проверим, что получилось\n",
    "df.loc[(df['ceiling_height'] >= 20), 'ceiling_height'] = df['ceiling_height']/10\n",
    "df['ceiling_height'].sort_values().unique()"
   ]
  },
  {
   "cell_type": "code",
   "execution_count": 104,
   "metadata": {},
   "outputs": [
    {
     "data": {
      "text/html": [
       "<div>\n",
       "<style scoped>\n",
       "    .dataframe tbody tr th:only-of-type {\n",
       "        vertical-align: middle;\n",
       "    }\n",
       "\n",
       "    .dataframe tbody tr th {\n",
       "        vertical-align: top;\n",
       "    }\n",
       "\n",
       "    .dataframe thead th {\n",
       "        text-align: right;\n",
       "    }\n",
       "</style>\n",
       "<table border=\"1\" class=\"dataframe\">\n",
       "  <thead>\n",
       "    <tr style=\"text-align: right;\">\n",
       "      <th></th>\n",
       "      <th>last_price</th>\n",
       "      <th>total_area</th>\n",
       "      <th>first_day_exposition</th>\n",
       "      <th>rooms</th>\n",
       "      <th>ceiling_height</th>\n",
       "      <th>floors_total</th>\n",
       "      <th>living_area</th>\n",
       "      <th>floor</th>\n",
       "      <th>kitchen_area</th>\n",
       "      <th>locality_name</th>\n",
       "      <th>cityCenters_nearest</th>\n",
       "      <th>days_exposition</th>\n",
       "      <th>living_total_ratio</th>\n",
       "      <th>kitchen_total_ratio</th>\n",
       "    </tr>\n",
       "  </thead>\n",
       "  <tbody>\n",
       "    <tr>\n",
       "      <td>5712</td>\n",
       "      <td>1500000.0</td>\n",
       "      <td>42.8</td>\n",
       "      <td>2017-08-14T00:00:00</td>\n",
       "      <td>2</td>\n",
       "      <td>1.20</td>\n",
       "      <td>2.0</td>\n",
       "      <td>27.5</td>\n",
       "      <td>1</td>\n",
       "      <td>5.20</td>\n",
       "      <td>городской посёлок Мга</td>\n",
       "      <td>28796.0</td>\n",
       "      <td>248.0</td>\n",
       "      <td>0.642523</td>\n",
       "      <td>0.121495</td>\n",
       "    </tr>\n",
       "    <tr>\n",
       "      <td>16934</td>\n",
       "      <td>4100000.0</td>\n",
       "      <td>40.0</td>\n",
       "      <td>2017-10-17T00:00:00</td>\n",
       "      <td>1</td>\n",
       "      <td>1.75</td>\n",
       "      <td>37.0</td>\n",
       "      <td>17.4</td>\n",
       "      <td>5</td>\n",
       "      <td>8.34</td>\n",
       "      <td>Санкт-Петербург</td>\n",
       "      <td>20444.0</td>\n",
       "      <td>71.0</td>\n",
       "      <td>0.435000</td>\n",
       "      <td>0.208500</td>\n",
       "    </tr>\n",
       "    <tr>\n",
       "      <td>22590</td>\n",
       "      <td>6000000.0</td>\n",
       "      <td>55.0</td>\n",
       "      <td>2018-10-31T00:00:00</td>\n",
       "      <td>2</td>\n",
       "      <td>1.00</td>\n",
       "      <td>12.0</td>\n",
       "      <td>32.4</td>\n",
       "      <td>7</td>\n",
       "      <td>10.00</td>\n",
       "      <td>Санкт-Петербург</td>\n",
       "      <td>14217.0</td>\n",
       "      <td>13.0</td>\n",
       "      <td>0.589091</td>\n",
       "      <td>0.181818</td>\n",
       "    </tr>\n",
       "  </tbody>\n",
       "</table>\n",
       "</div>"
      ],
      "text/plain": [
       "       last_price  total_area first_day_exposition  rooms  ceiling_height  \\\n",
       "5712    1500000.0        42.8  2017-08-14T00:00:00      2            1.20   \n",
       "16934   4100000.0        40.0  2017-10-17T00:00:00      1            1.75   \n",
       "22590   6000000.0        55.0  2018-10-31T00:00:00      2            1.00   \n",
       "\n",
       "       floors_total  living_area  floor  kitchen_area          locality_name  \\\n",
       "5712            2.0         27.5      1          5.20  городской посёлок Мга   \n",
       "16934          37.0         17.4      5          8.34        Санкт-Петербург   \n",
       "22590          12.0         32.4      7         10.00        Санкт-Петербург   \n",
       "\n",
       "       cityCenters_nearest  days_exposition  living_total_ratio  \\\n",
       "5712               28796.0            248.0            0.642523   \n",
       "16934              20444.0             71.0            0.435000   \n",
       "22590              14217.0             13.0            0.589091   \n",
       "\n",
       "       kitchen_total_ratio  \n",
       "5712              0.121495  \n",
       "16934             0.208500  \n",
       "22590             0.181818  "
      ]
     },
     "execution_count": 104,
     "metadata": {},
     "output_type": "execute_result"
    }
   ],
   "source": [
    "#Посмотрим, какие есть очень маленькие значения\n",
    "df[df['ceiling_height'] < 2]"
   ]
  },
  {
   "cell_type": "markdown",
   "metadata": {},
   "source": [
    "Подобные маленькие значения выглядят неправдоподобно, возможно при вводе вместо 2 встала 1. Однако таких значений всего три, можно их оставить, как есть. "
   ]
  },
  {
   "cell_type": "code",
   "execution_count": 105,
   "metadata": {
    "scrolled": true
   },
   "outputs": [
    {
     "data": {
      "text/plain": [
       "0.38799105447487237"
      ]
     },
     "execution_count": 105,
     "metadata": {},
     "output_type": "execute_result"
    }
   ],
   "source": [
    "#Посчитаем количество пропущенных значений\n",
    "ceil_null = df['ceiling_height'].isnull().sum()\n",
    "ceil_null/len(df)"
   ]
  },
  {
   "cell_type": "markdown",
   "metadata": {},
   "source": [
    "Пропущенных значений достаточно много (ок. 39%). \n",
    "Предположим, что высота потолков может зависеть от местоположения. Более подробные данные находятся в столбце cityCenters_nearest. Сделаем по нему группировку и заполним медианами."
   ]
  },
  {
   "cell_type": "code",
   "execution_count": 106,
   "metadata": {},
   "outputs": [
    {
     "data": {
      "text/plain": [
       "<Figure size 720x360 with 0 Axes>"
      ]
     },
     "execution_count": 106,
     "metadata": {},
     "output_type": "execute_result"
    },
    {
     "data": {
      "image/png": "[encoded data removed]",
      "text/plain": [
       "<Figure size 720x360 with 1 Axes>"
      ]
     },
     "metadata": {
      "needs_background": "light"
     },
     "output_type": "display_data"
    },
    {
     "data": {
      "text/plain": [
       "0.10    2.5000\n",
       "0.20    2.5000\n",
       "0.30    2.5500\n",
       "0.40    2.6000\n",
       "0.50    2.6500\n",
       "0.60    2.7000\n",
       "0.70    2.7500\n",
       "0.80    2.8500\n",
       "0.90    3.0500\n",
       "0.95    3.2985\n",
       "0.99    3.7800\n",
       "Name: ceiling_height, dtype: float64"
      ]
     },
     "execution_count": 106,
     "metadata": {},
     "output_type": "execute_result"
    }
   ],
   "source": [
    "#Посмотрим распределение значений, построим boxplot и выведем персентили\n",
    "plt.figure(figsize=(10, 5))\n",
    "ax = sns.boxplot(x=df.ceiling_height, orient='h')\n",
    "plt.show()\n",
    "df['ceiling_height'].quantile([.1, .2, .3, .4, .5, .6, .7, .8, .9, .95, .99])"
   ]
  },
  {
   "cell_type": "markdown",
   "metadata": {},
   "source": [
    "99% квартир имеют потолки не выше 3.78, но дальше значения растут постепенно до 6 м, и только потом видны очевидные выбросы на 8, 10 и 14 метрах. Предположим, что высота потолков может зависеть от местоположения. "
   ]
  },
  {
   "cell_type": "code",
   "execution_count": 107,
   "metadata": {
    "scrolled": true
   },
   "outputs": [
    {
     "name": "stderr",
     "output_type": "stream",
     "text": [
      "/opt/conda/lib/python3.7/site-packages/numpy/lib/nanfunctions.py:1113: RuntimeWarning: Mean of empty slice\n",
      "  return np.nanmean(a, axis, out=out, keepdims=keepdims)\n"
     ]
    },
    {
     "data": {
      "text/plain": [
       "2171"
      ]
     },
     "execution_count": 107,
     "metadata": {},
     "output_type": "execute_result"
    }
   ],
   "source": [
    "#Мы видим, что среднее по местоположению различается, поэтому заполним пропуски, сгруппировав данные\n",
    "df['ceiling_height'] = df.groupby('cityCenters_nearest')['ceiling_height'].apply(lambda x: x.fillna(x.median()))\n",
    "\n",
    "#Проверим, остались ли пропуски\n",
    "df['ceiling_height'].isnull().sum()"
   ]
  },
  {
   "cell_type": "code",
   "execution_count": 108,
   "metadata": {},
   "outputs": [
    {
     "data": {
      "text/plain": [
       "0"
      ]
     },
     "execution_count": 108,
     "metadata": {},
     "output_type": "execute_result"
    }
   ],
   "source": [
    "#Мы видим, что еще осталось 2171 пропусков - это те, где вообще нет данных по высоте потолков\n",
    "#Заполним их медианой по всем значениям ceiling_height\n",
    "df['ceiling_height'] = df['ceiling_height'].fillna(df['ceiling_height'].median())\n",
    "\n",
    "#Проверим, остались ли теперь пропуски\n",
    "df['ceiling_height'].isnull().sum()"
   ]
  },
  {
   "cell_type": "markdown",
   "metadata": {},
   "source": [
    "#### Вывод"
   ]
  },
  {
   "cell_type": "code",
   "execution_count": 109,
   "metadata": {},
   "outputs": [
    {
     "data": {
      "text/plain": [
       "last_price                 0\n",
       "total_area                 0\n",
       "first_day_exposition       0\n",
       "rooms                      0\n",
       "ceiling_height             0\n",
       "floors_total               0\n",
       "living_area                0\n",
       "floor                      0\n",
       "kitchen_area               0\n",
       "locality_name              0\n",
       "cityCenters_nearest        0\n",
       "days_exposition         3181\n",
       "living_total_ratio      1903\n",
       "kitchen_total_ratio     2278\n",
       "dtype: int64"
      ]
     },
     "execution_count": 109,
     "metadata": {},
     "output_type": "execute_result"
    },
    {
     "data": {
      "text/plain": [
       "0"
      ]
     },
     "execution_count": 109,
     "metadata": {},
     "output_type": "execute_result"
    }
   ],
   "source": [
    "#Проверим наличие пропусков\n",
    "df.isnull().sum()\n",
    "\n",
    "#Проверим наличие дубликатов\n",
    "df.duplicated().sum()"
   ]
  },
  {
   "cell_type": "markdown",
   "metadata": {},
   "source": [
    "Мы заполнили все те пропуски, что хотели. Для заполнения были использованы различные группировки (по этажам, по нас.пункту, по удаленности от центра) и медианные значения. \n",
    "\n",
    "Появились пропуски в столбцах living_total_ratio и kitchen_total_ratio, потому что мы их создавали на неполных данных. Столбцы надо будет пересчитать.\n",
    "\n",
    "Дубликатов в данных не обнаружено."
   ]
  },
  {
   "cell_type": "markdown",
   "metadata": {},
   "source": [
    "### Замена типов данных"
   ]
  },
  {
   "cell_type": "code",
   "execution_count": 110,
   "metadata": {},
   "outputs": [
    {
     "data": {
      "text/plain": [
       "last_price              float64\n",
       "total_area              float64\n",
       "first_day_exposition     object\n",
       "rooms                     int64\n",
       "ceiling_height          float64\n",
       "floors_total            float64\n",
       "living_area             float64\n",
       "floor                     int64\n",
       "kitchen_area            float64\n",
       "locality_name            object\n",
       "cityCenters_nearest     float64\n",
       "days_exposition         float64\n",
       "living_total_ratio      float64\n",
       "kitchen_total_ratio     float64\n",
       "dtype: object"
      ]
     },
     "execution_count": 110,
     "metadata": {},
     "output_type": "execute_result"
    }
   ],
   "source": [
    "#Посмотрим еще раз на типы данных\n",
    "df.dtypes"
   ]
  },
  {
   "cell_type": "code",
   "execution_count": 111,
   "metadata": {},
   "outputs": [
    {
     "data": {
      "text/plain": [
       "last_price                       int64\n",
       "total_area                     float64\n",
       "first_day_exposition            object\n",
       "rooms                            int64\n",
       "ceiling_height                 float64\n",
       "floors_total                     int64\n",
       "living_area                    float64\n",
       "floor                            int64\n",
       "kitchen_area                   float64\n",
       "locality_name                 category\n",
       "cityCenters_nearest              int64\n",
       "days_exposition                float64\n",
       "living_total_ratio             float64\n",
       "kitchen_total_ratio            float64\n",
       "date                    datetime64[ns]\n",
       "dtype: object"
      ]
     },
     "execution_count": 111,
     "metadata": {},
     "output_type": "execute_result"
    }
   ],
   "source": [
    "#Заменим на целочисленные \n",
    "col_int = ['last_price','floors_total', 'cityCenters_nearest']\n",
    "\n",
    "for col in col_int:\n",
    "    df[col] = df[col].astype(int)\n",
    "    \n",
    "#Заменим на категории\n",
    "df['locality_name'] = df['locality_name'].astype('category')\n",
    "\n",
    "#На datetime\n",
    "df['date'] = pd.to_datetime(df['first_day_exposition'])\n",
    "\n",
    "#Проверим\n",
    "df.dtypes"
   ]
  },
  {
   "cell_type": "code",
   "execution_count": 112,
   "metadata": {},
   "outputs": [
    {
     "data": {
      "text/html": [
       "<div>\n",
       "<style scoped>\n",
       "    .dataframe tbody tr th:only-of-type {\n",
       "        vertical-align: middle;\n",
       "    }\n",
       "\n",
       "    .dataframe tbody tr th {\n",
       "        vertical-align: top;\n",
       "    }\n",
       "\n",
       "    .dataframe thead th {\n",
       "        text-align: right;\n",
       "    }\n",
       "</style>\n",
       "<table border=\"1\" class=\"dataframe\">\n",
       "  <thead>\n",
       "    <tr style=\"text-align: right;\">\n",
       "      <th></th>\n",
       "      <th>living_area</th>\n",
       "      <th>kitchen_area</th>\n",
       "    </tr>\n",
       "  </thead>\n",
       "  <tbody>\n",
       "    <tr>\n",
       "      <td>0</td>\n",
       "      <td>51.0</td>\n",
       "      <td>25.0</td>\n",
       "    </tr>\n",
       "    <tr>\n",
       "      <td>1</td>\n",
       "      <td>18.6</td>\n",
       "      <td>11.0</td>\n",
       "    </tr>\n",
       "    <tr>\n",
       "      <td>2</td>\n",
       "      <td>34.3</td>\n",
       "      <td>8.3</td>\n",
       "    </tr>\n",
       "    <tr>\n",
       "      <td>3</td>\n",
       "      <td>90.3</td>\n",
       "      <td>27.4</td>\n",
       "    </tr>\n",
       "    <tr>\n",
       "      <td>4</td>\n",
       "      <td>32.0</td>\n",
       "      <td>41.0</td>\n",
       "    </tr>\n",
       "  </tbody>\n",
       "</table>\n",
       "</div>"
      ],
      "text/plain": [
       "   living_area  kitchen_area\n",
       "0         51.0          25.0\n",
       "1         18.6          11.0\n",
       "2         34.3           8.3\n",
       "3         90.3          27.4\n",
       "4         32.0          41.0"
      ]
     },
     "execution_count": 112,
     "metadata": {},
     "output_type": "execute_result"
    }
   ],
   "source": [
    "#Округлим столбцы для экономии памяти\n",
    "\n",
    "df['living_area'] = df['living_area'].round(1)\n",
    "df['kitchen_area'] = df['kitchen_area'].round(1)\n",
    "\n",
    "#Проверим\n",
    "df[['living_area', 'kitchen_area']].head()"
   ]
  },
  {
   "cell_type": "markdown",
   "metadata": {},
   "source": [
    "Типы данных заменены и значения округлены для экономии памяти."
   ]
  },
  {
   "cell_type": "markdown",
   "metadata": {},
   "source": [
    "## Шаг 3. Добавление столбцов"
   ]
  },
  {
   "cell_type": "markdown",
   "metadata": {},
   "source": [
    "Посчитаем и добавим в таблицу: \n",
    "  - цену квадратного метра; \n",
    "  - день недели, месяц и год публикации объявления; \n",
    "  - этаж квартиры (первый, последний, другой); \n",
    "  - пересчитаем соотношение жилой и общей площади, а также отношение площади кухни к общей после заполнения всех пропусков."
   ]
  },
  {
   "cell_type": "code",
   "execution_count": 113,
   "metadata": {
    "scrolled": true
   },
   "outputs": [
    {
     "data": {
      "text/html": [
       "<div>\n",
       "<style scoped>\n",
       "    .dataframe tbody tr th:only-of-type {\n",
       "        vertical-align: middle;\n",
       "    }\n",
       "\n",
       "    .dataframe tbody tr th {\n",
       "        vertical-align: top;\n",
       "    }\n",
       "\n",
       "    .dataframe thead th {\n",
       "        text-align: right;\n",
       "    }\n",
       "</style>\n",
       "<table border=\"1\" class=\"dataframe\">\n",
       "  <thead>\n",
       "    <tr style=\"text-align: right;\">\n",
       "      <th></th>\n",
       "      <th>date</th>\n",
       "      <th>weekday</th>\n",
       "      <th>weekday_name</th>\n",
       "      <th>month</th>\n",
       "      <th>month_name</th>\n",
       "      <th>year</th>\n",
       "    </tr>\n",
       "  </thead>\n",
       "  <tbody>\n",
       "    <tr>\n",
       "      <td>0</td>\n",
       "      <td>2019-03-07</td>\n",
       "      <td>3</td>\n",
       "      <td>Thursday</td>\n",
       "      <td>3</td>\n",
       "      <td>March</td>\n",
       "      <td>2019</td>\n",
       "    </tr>\n",
       "    <tr>\n",
       "      <td>1</td>\n",
       "      <td>2018-12-04</td>\n",
       "      <td>1</td>\n",
       "      <td>Tuesday</td>\n",
       "      <td>12</td>\n",
       "      <td>December</td>\n",
       "      <td>2018</td>\n",
       "    </tr>\n",
       "    <tr>\n",
       "      <td>2</td>\n",
       "      <td>2015-08-20</td>\n",
       "      <td>3</td>\n",
       "      <td>Thursday</td>\n",
       "      <td>8</td>\n",
       "      <td>August</td>\n",
       "      <td>2015</td>\n",
       "    </tr>\n",
       "    <tr>\n",
       "      <td>3</td>\n",
       "      <td>2015-07-24</td>\n",
       "      <td>4</td>\n",
       "      <td>Friday</td>\n",
       "      <td>7</td>\n",
       "      <td>July</td>\n",
       "      <td>2015</td>\n",
       "    </tr>\n",
       "    <tr>\n",
       "      <td>4</td>\n",
       "      <td>2018-06-19</td>\n",
       "      <td>1</td>\n",
       "      <td>Tuesday</td>\n",
       "      <td>6</td>\n",
       "      <td>June</td>\n",
       "      <td>2018</td>\n",
       "    </tr>\n",
       "    <tr>\n",
       "      <td>5</td>\n",
       "      <td>2018-09-10</td>\n",
       "      <td>0</td>\n",
       "      <td>Monday</td>\n",
       "      <td>9</td>\n",
       "      <td>September</td>\n",
       "      <td>2018</td>\n",
       "    </tr>\n",
       "    <tr>\n",
       "      <td>6</td>\n",
       "      <td>2017-11-02</td>\n",
       "      <td>3</td>\n",
       "      <td>Thursday</td>\n",
       "      <td>11</td>\n",
       "      <td>November</td>\n",
       "      <td>2017</td>\n",
       "    </tr>\n",
       "    <tr>\n",
       "      <td>7</td>\n",
       "      <td>2019-04-18</td>\n",
       "      <td>3</td>\n",
       "      <td>Thursday</td>\n",
       "      <td>4</td>\n",
       "      <td>April</td>\n",
       "      <td>2019</td>\n",
       "    </tr>\n",
       "    <tr>\n",
       "      <td>8</td>\n",
       "      <td>2018-05-23</td>\n",
       "      <td>2</td>\n",
       "      <td>Wednesday</td>\n",
       "      <td>5</td>\n",
       "      <td>May</td>\n",
       "      <td>2018</td>\n",
       "    </tr>\n",
       "    <tr>\n",
       "      <td>9</td>\n",
       "      <td>2017-02-26</td>\n",
       "      <td>6</td>\n",
       "      <td>Sunday</td>\n",
       "      <td>2</td>\n",
       "      <td>February</td>\n",
       "      <td>2017</td>\n",
       "    </tr>\n",
       "    <tr>\n",
       "      <td>10</td>\n",
       "      <td>2017-11-16</td>\n",
       "      <td>3</td>\n",
       "      <td>Thursday</td>\n",
       "      <td>11</td>\n",
       "      <td>November</td>\n",
       "      <td>2017</td>\n",
       "    </tr>\n",
       "  </tbody>\n",
       "</table>\n",
       "</div>"
      ],
      "text/plain": [
       "         date weekday weekday_name month month_name  year\n",
       "0  2019-03-07       3     Thursday     3      March  2019\n",
       "1  2018-12-04       1      Tuesday    12   December  2018\n",
       "2  2015-08-20       3     Thursday     8     August  2015\n",
       "3  2015-07-24       4       Friday     7       July  2015\n",
       "4  2018-06-19       1      Tuesday     6       June  2018\n",
       "5  2018-09-10       0       Monday     9  September  2018\n",
       "6  2017-11-02       3     Thursday    11   November  2017\n",
       "7  2019-04-18       3     Thursday     4      April  2019\n",
       "8  2018-05-23       2    Wednesday     5        May  2018\n",
       "9  2017-02-26       6       Sunday     2   February  2017\n",
       "10 2017-11-16       3     Thursday    11   November  2017"
      ]
     },
     "execution_count": 113,
     "metadata": {},
     "output_type": "execute_result"
    }
   ],
   "source": [
    "#Добавим необходимые столбцы с временными данными. \n",
    "#Для дней и месяцев сделаем в двух вариантах - числовом (для группировок) и словом (для читаемости)\n",
    "df['weekday'] = df['date'].dt.weekday.astype('category')\n",
    "df['weekday_name'] = df['date'].dt.day_name().astype('category')\n",
    "df['month'] = df['date'].dt.month.astype('category')\n",
    "df['month_name'] = df['date'].dt.month_name().astype('category')\n",
    "df['year'] = df['date'].dt.year.astype('category')\n",
    "\n",
    "#Проверим\n",
    "df.loc[:10, 'date':]"
   ]
  },
  {
   "cell_type": "code",
   "execution_count": 114,
   "metadata": {
    "scrolled": true
   },
   "outputs": [
    {
     "data": {
      "text/html": [
       "<div>\n",
       "<style scoped>\n",
       "    .dataframe tbody tr th:only-of-type {\n",
       "        vertical-align: middle;\n",
       "    }\n",
       "\n",
       "    .dataframe tbody tr th {\n",
       "        vertical-align: top;\n",
       "    }\n",
       "\n",
       "    .dataframe thead th {\n",
       "        text-align: right;\n",
       "    }\n",
       "</style>\n",
       "<table border=\"1\" class=\"dataframe\">\n",
       "  <thead>\n",
       "    <tr style=\"text-align: right;\">\n",
       "      <th></th>\n",
       "      <th>cityCenters_nearest</th>\n",
       "      <th>days_exposition</th>\n",
       "      <th>living_total_ratio</th>\n",
       "      <th>kitchen_total_ratio</th>\n",
       "      <th>date</th>\n",
       "      <th>weekday</th>\n",
       "      <th>weekday_name</th>\n",
       "      <th>month</th>\n",
       "      <th>month_name</th>\n",
       "      <th>year</th>\n",
       "      <th>square_metre_price</th>\n",
       "    </tr>\n",
       "  </thead>\n",
       "  <tbody>\n",
       "    <tr>\n",
       "      <td>0</td>\n",
       "      <td>16028</td>\n",
       "      <td>NaN</td>\n",
       "      <td>0.47</td>\n",
       "      <td>0.23</td>\n",
       "      <td>2019-03-07</td>\n",
       "      <td>3</td>\n",
       "      <td>Thursday</td>\n",
       "      <td>3</td>\n",
       "      <td>March</td>\n",
       "      <td>2019</td>\n",
       "      <td>120370</td>\n",
       "    </tr>\n",
       "    <tr>\n",
       "      <td>1</td>\n",
       "      <td>18603</td>\n",
       "      <td>81.0</td>\n",
       "      <td>0.46</td>\n",
       "      <td>0.27</td>\n",
       "      <td>2018-12-04</td>\n",
       "      <td>1</td>\n",
       "      <td>Tuesday</td>\n",
       "      <td>12</td>\n",
       "      <td>December</td>\n",
       "      <td>2018</td>\n",
       "      <td>82920</td>\n",
       "    </tr>\n",
       "    <tr>\n",
       "      <td>2</td>\n",
       "      <td>13933</td>\n",
       "      <td>558.0</td>\n",
       "      <td>0.61</td>\n",
       "      <td>0.15</td>\n",
       "      <td>2015-08-20</td>\n",
       "      <td>3</td>\n",
       "      <td>Thursday</td>\n",
       "      <td>8</td>\n",
       "      <td>August</td>\n",
       "      <td>2015</td>\n",
       "      <td>92785</td>\n",
       "    </tr>\n",
       "    <tr>\n",
       "      <td>3</td>\n",
       "      <td>6800</td>\n",
       "      <td>424.0</td>\n",
       "      <td>0.57</td>\n",
       "      <td>0.17</td>\n",
       "      <td>2015-07-24</td>\n",
       "      <td>4</td>\n",
       "      <td>Friday</td>\n",
       "      <td>7</td>\n",
       "      <td>July</td>\n",
       "      <td>2015</td>\n",
       "      <td>408176</td>\n",
       "    </tr>\n",
       "    <tr>\n",
       "      <td>4</td>\n",
       "      <td>8098</td>\n",
       "      <td>121.0</td>\n",
       "      <td>0.32</td>\n",
       "      <td>0.41</td>\n",
       "      <td>2018-06-19</td>\n",
       "      <td>1</td>\n",
       "      <td>Tuesday</td>\n",
       "      <td>6</td>\n",
       "      <td>June</td>\n",
       "      <td>2018</td>\n",
       "      <td>100000</td>\n",
       "    </tr>\n",
       "  </tbody>\n",
       "</table>\n",
       "</div>"
      ],
      "text/plain": [
       "   cityCenters_nearest  days_exposition  living_total_ratio  \\\n",
       "0                16028              NaN                0.47   \n",
       "1                18603             81.0                0.46   \n",
       "2                13933            558.0                0.61   \n",
       "3                 6800            424.0                0.57   \n",
       "4                 8098            121.0                0.32   \n",
       "\n",
       "   kitchen_total_ratio       date weekday weekday_name month month_name  year  \\\n",
       "0                 0.23 2019-03-07       3     Thursday     3      March  2019   \n",
       "1                 0.27 2018-12-04       1      Tuesday    12   December  2018   \n",
       "2                 0.15 2015-08-20       3     Thursday     8     August  2015   \n",
       "3                 0.17 2015-07-24       4       Friday     7       July  2015   \n",
       "4                 0.41 2018-06-19       1      Tuesday     6       June  2018   \n",
       "\n",
       "   square_metre_price  \n",
       "0              120370  \n",
       "1               82920  \n",
       "2               92785  \n",
       "3              408176  \n",
       "4              100000  "
      ]
     },
     "execution_count": 114,
     "metadata": {},
     "output_type": "execute_result"
    }
   ],
   "source": [
    "#Добавим рассчеты стоимости квадратного метра \n",
    "df['square_metre_price'] = (df['last_price'] / df['total_area']).astype(int)\n",
    "\n",
    "#Пересчитаем соотношение жилой площади и кухни к общей площади и округлим \n",
    "df['living_total_ratio'] = (df.living_area / df.total_area)\n",
    "df['living_total_ratio'] = df['living_total_ratio'].round(2)\n",
    "\n",
    "df['kitchen_total_ratio'] = (df.kitchen_area / df.total_area)\n",
    "df['kitchen_total_ratio'] = df['kitchen_total_ratio'].round(2)\n",
    "\n",
    "#Проверим\n",
    "df.iloc[:5, 10:]"
   ]
  },
  {
   "cell_type": "code",
   "execution_count": 115,
   "metadata": {},
   "outputs": [
    {
     "data": {
      "text/plain": [
       "другое       17446\n",
       "последний     3336\n",
       "первый        2917\n",
       "Name: floor_category, dtype: int64"
      ]
     },
     "execution_count": 115,
     "metadata": {},
     "output_type": "execute_result"
    }
   ],
   "source": [
    "#Создадим столбец с категориями этажей\n",
    "def floor_cats(row):\n",
    "    last_floor = row[0]\n",
    "    current_floor = row[1]\n",
    "    if current_floor == 1:\n",
    "        return 'первый'\n",
    "    elif current_floor == last_floor:\n",
    "        return 'последний'\n",
    "    else:\n",
    "        return 'другое'\n",
    "    \n",
    "df['floor_category'] = df[['floors_total', 'floor']].apply(floor_cats, axis = 1).astype('category')\n",
    "\n",
    "#Проверим\n",
    "df.floor_category.value_counts()"
   ]
  },
  {
   "cell_type": "code",
   "execution_count": 116,
   "metadata": {},
   "outputs": [
    {
     "name": "stdout",
     "output_type": "stream",
     "text": [
      "<class 'pandas.core.frame.DataFrame'>\n",
      "RangeIndex: 23699 entries, 0 to 23698\n",
      "Data columns (total 22 columns):\n",
      "last_price              23699 non-null int64\n",
      "total_area              23699 non-null float64\n",
      "first_day_exposition    23699 non-null object\n",
      "rooms                   23699 non-null int64\n",
      "ceiling_height          23699 non-null float64\n",
      "floors_total            23699 non-null int64\n",
      "living_area             23699 non-null float64\n",
      "floor                   23699 non-null int64\n",
      "kitchen_area            23699 non-null float64\n",
      "locality_name           23699 non-null category\n",
      "cityCenters_nearest     23699 non-null int64\n",
      "days_exposition         20518 non-null float64\n",
      "living_total_ratio      23699 non-null float64\n",
      "kitchen_total_ratio     23699 non-null float64\n",
      "date                    23699 non-null datetime64[ns]\n",
      "weekday                 23699 non-null category\n",
      "weekday_name            23699 non-null category\n",
      "month                   23699 non-null category\n",
      "month_name              23699 non-null category\n",
      "year                    23699 non-null category\n",
      "square_metre_price      23699 non-null int64\n",
      "floor_category          23699 non-null category\n",
      "dtypes: category(7), datetime64[ns](1), float64(7), int64(6), object(1)\n",
      "memory usage: 2.9+ MB\n"
     ]
    },
    {
     "data": {
      "text/html": [
       "<div>\n",
       "<style scoped>\n",
       "    .dataframe tbody tr th:only-of-type {\n",
       "        vertical-align: middle;\n",
       "    }\n",
       "\n",
       "    .dataframe tbody tr th {\n",
       "        vertical-align: top;\n",
       "    }\n",
       "\n",
       "    .dataframe thead th {\n",
       "        text-align: right;\n",
       "    }\n",
       "</style>\n",
       "<table border=\"1\" class=\"dataframe\">\n",
       "  <thead>\n",
       "    <tr style=\"text-align: right;\">\n",
       "      <th></th>\n",
       "      <th>last_price</th>\n",
       "      <th>total_area</th>\n",
       "      <th>first_day_exposition</th>\n",
       "      <th>rooms</th>\n",
       "      <th>ceiling_height</th>\n",
       "      <th>floors_total</th>\n",
       "      <th>living_area</th>\n",
       "      <th>floor</th>\n",
       "      <th>kitchen_area</th>\n",
       "      <th>locality_name</th>\n",
       "      <th>...</th>\n",
       "      <th>living_total_ratio</th>\n",
       "      <th>kitchen_total_ratio</th>\n",
       "      <th>date</th>\n",
       "      <th>weekday</th>\n",
       "      <th>weekday_name</th>\n",
       "      <th>month</th>\n",
       "      <th>month_name</th>\n",
       "      <th>year</th>\n",
       "      <th>square_metre_price</th>\n",
       "      <th>floor_category</th>\n",
       "    </tr>\n",
       "  </thead>\n",
       "  <tbody>\n",
       "    <tr>\n",
       "      <td>0</td>\n",
       "      <td>13000000</td>\n",
       "      <td>108.0</td>\n",
       "      <td>2019-03-07T00:00:00</td>\n",
       "      <td>3</td>\n",
       "      <td>2.70</td>\n",
       "      <td>16</td>\n",
       "      <td>51.0</td>\n",
       "      <td>8</td>\n",
       "      <td>25.0</td>\n",
       "      <td>Санкт-Петербург</td>\n",
       "      <td>...</td>\n",
       "      <td>0.47</td>\n",
       "      <td>0.23</td>\n",
       "      <td>2019-03-07</td>\n",
       "      <td>3</td>\n",
       "      <td>Thursday</td>\n",
       "      <td>3</td>\n",
       "      <td>March</td>\n",
       "      <td>2019</td>\n",
       "      <td>120370</td>\n",
       "      <td>другое</td>\n",
       "    </tr>\n",
       "    <tr>\n",
       "      <td>1</td>\n",
       "      <td>3350000</td>\n",
       "      <td>40.4</td>\n",
       "      <td>2018-12-04T00:00:00</td>\n",
       "      <td>1</td>\n",
       "      <td>2.64</td>\n",
       "      <td>11</td>\n",
       "      <td>18.6</td>\n",
       "      <td>1</td>\n",
       "      <td>11.0</td>\n",
       "      <td>посёлок Шушары</td>\n",
       "      <td>...</td>\n",
       "      <td>0.46</td>\n",
       "      <td>0.27</td>\n",
       "      <td>2018-12-04</td>\n",
       "      <td>1</td>\n",
       "      <td>Tuesday</td>\n",
       "      <td>12</td>\n",
       "      <td>December</td>\n",
       "      <td>2018</td>\n",
       "      <td>82920</td>\n",
       "      <td>первый</td>\n",
       "    </tr>\n",
       "    <tr>\n",
       "      <td>2</td>\n",
       "      <td>5196000</td>\n",
       "      <td>56.0</td>\n",
       "      <td>2015-08-20T00:00:00</td>\n",
       "      <td>2</td>\n",
       "      <td>2.64</td>\n",
       "      <td>5</td>\n",
       "      <td>34.3</td>\n",
       "      <td>4</td>\n",
       "      <td>8.3</td>\n",
       "      <td>Санкт-Петербург</td>\n",
       "      <td>...</td>\n",
       "      <td>0.61</td>\n",
       "      <td>0.15</td>\n",
       "      <td>2015-08-20</td>\n",
       "      <td>3</td>\n",
       "      <td>Thursday</td>\n",
       "      <td>8</td>\n",
       "      <td>August</td>\n",
       "      <td>2015</td>\n",
       "      <td>92785</td>\n",
       "      <td>другое</td>\n",
       "    </tr>\n",
       "    <tr>\n",
       "      <td>3</td>\n",
       "      <td>64900000</td>\n",
       "      <td>159.0</td>\n",
       "      <td>2015-07-24T00:00:00</td>\n",
       "      <td>3</td>\n",
       "      <td>3.00</td>\n",
       "      <td>14</td>\n",
       "      <td>90.3</td>\n",
       "      <td>9</td>\n",
       "      <td>27.4</td>\n",
       "      <td>Санкт-Петербург</td>\n",
       "      <td>...</td>\n",
       "      <td>0.57</td>\n",
       "      <td>0.17</td>\n",
       "      <td>2015-07-24</td>\n",
       "      <td>4</td>\n",
       "      <td>Friday</td>\n",
       "      <td>7</td>\n",
       "      <td>July</td>\n",
       "      <td>2015</td>\n",
       "      <td>408176</td>\n",
       "      <td>другое</td>\n",
       "    </tr>\n",
       "    <tr>\n",
       "      <td>4</td>\n",
       "      <td>10000000</td>\n",
       "      <td>100.0</td>\n",
       "      <td>2018-06-19T00:00:00</td>\n",
       "      <td>2</td>\n",
       "      <td>3.03</td>\n",
       "      <td>14</td>\n",
       "      <td>32.0</td>\n",
       "      <td>13</td>\n",
       "      <td>41.0</td>\n",
       "      <td>Санкт-Петербург</td>\n",
       "      <td>...</td>\n",
       "      <td>0.32</td>\n",
       "      <td>0.41</td>\n",
       "      <td>2018-06-19</td>\n",
       "      <td>1</td>\n",
       "      <td>Tuesday</td>\n",
       "      <td>6</td>\n",
       "      <td>June</td>\n",
       "      <td>2018</td>\n",
       "      <td>100000</td>\n",
       "      <td>другое</td>\n",
       "    </tr>\n",
       "  </tbody>\n",
       "</table>\n",
       "<p>5 rows × 22 columns</p>\n",
       "</div>"
      ],
      "text/plain": [
       "   last_price  total_area first_day_exposition  rooms  ceiling_height  \\\n",
       "0    13000000       108.0  2019-03-07T00:00:00      3            2.70   \n",
       "1     3350000        40.4  2018-12-04T00:00:00      1            2.64   \n",
       "2     5196000        56.0  2015-08-20T00:00:00      2            2.64   \n",
       "3    64900000       159.0  2015-07-24T00:00:00      3            3.00   \n",
       "4    10000000       100.0  2018-06-19T00:00:00      2            3.03   \n",
       "\n",
       "   floors_total  living_area  floor  kitchen_area    locality_name  ...  \\\n",
       "0            16         51.0      8          25.0  Санкт-Петербург  ...   \n",
       "1            11         18.6      1          11.0   посёлок Шушары  ...   \n",
       "2             5         34.3      4           8.3  Санкт-Петербург  ...   \n",
       "3            14         90.3      9          27.4  Санкт-Петербург  ...   \n",
       "4            14         32.0     13          41.0  Санкт-Петербург  ...   \n",
       "\n",
       "   living_total_ratio  kitchen_total_ratio       date  weekday weekday_name  \\\n",
       "0                0.47                 0.23 2019-03-07        3     Thursday   \n",
       "1                0.46                 0.27 2018-12-04        1      Tuesday   \n",
       "2                0.61                 0.15 2015-08-20        3     Thursday   \n",
       "3                0.57                 0.17 2015-07-24        4       Friday   \n",
       "4                0.32                 0.41 2018-06-19        1      Tuesday   \n",
       "\n",
       "  month month_name  year square_metre_price floor_category  \n",
       "0     3      March  2019             120370         другое  \n",
       "1    12   December  2018              82920         первый  \n",
       "2     8     August  2015              92785         другое  \n",
       "3     7       July  2015             408176         другое  \n",
       "4     6       June  2018             100000         другое  \n",
       "\n",
       "[5 rows x 22 columns]"
      ]
     },
     "execution_count": 116,
     "metadata": {},
     "output_type": "execute_result"
    }
   ],
   "source": [
    "#Проверим все вместе\n",
    "df.info()\n",
    "df.head()"
   ]
  },
  {
   "cell_type": "markdown",
   "metadata": {},
   "source": [
    "Необходимые столбцы созданы, значения округлены."
   ]
  },
  {
   "cell_type": "markdown",
   "metadata": {},
   "source": [
    "## Шаг 4. Исследовательский анализ данных "
   ]
  },
  {
   "cell_type": "markdown",
   "metadata": {},
   "source": [
    "### 1. Изучение площади, цены, числа комнат, высоты потолков "
   ]
  },
  {
   "cell_type": "markdown",
   "metadata": {},
   "source": [
    "#### Предварительный взгляд"
   ]
  },
  {
   "cell_type": "code",
   "execution_count": 117,
   "metadata": {
    "scrolled": false
   },
   "outputs": [
    {
     "data": {
      "image/png": "[encoded data removed]",
      "text/plain": [
       "<Figure size 432x288 with 1 Axes>"
      ]
     },
     "metadata": {
      "needs_background": "light"
     },
     "output_type": "display_data"
    },
    {
     "data": {
      "text/plain": [
       "count    23699.000000\n",
       "mean        60.348651\n",
       "std         35.654083\n",
       "min         12.000000\n",
       "25%         40.000000\n",
       "50%         52.000000\n",
       "75%         69.900000\n",
       "max        900.000000\n",
       "Name: total_area, dtype: float64"
      ]
     },
     "execution_count": 117,
     "metadata": {},
     "output_type": "execute_result"
    },
    {
     "data": {
      "image/png": "[encoded data removed]",
      "text/plain": [
       "<Figure size 432x288 with 1 Axes>"
      ]
     },
     "metadata": {
      "needs_background": "light"
     },
     "output_type": "display_data"
    },
    {
     "data": {
      "text/plain": [
       "count    2.369900e+04\n",
       "mean     6.541549e+06\n",
       "std      1.088701e+07\n",
       "min      1.219000e+04\n",
       "25%      3.400000e+06\n",
       "50%      4.650000e+06\n",
       "75%      6.800000e+06\n",
       "max      7.630000e+08\n",
       "Name: last_price, dtype: float64"
      ]
     },
     "execution_count": 117,
     "metadata": {},
     "output_type": "execute_result"
    },
    {
     "data": {
      "image/png": "[encoded data removed]",
      "text/plain": [
       "<Figure size 432x288 with 1 Axes>"
      ]
     },
     "metadata": {
      "needs_background": "light"
     },
     "output_type": "display_data"
    },
    {
     "data": {
      "text/plain": [
       "count    23699.000000\n",
       "mean         2.070636\n",
       "std          1.078405\n",
       "min          0.000000\n",
       "25%          1.000000\n",
       "50%          2.000000\n",
       "75%          3.000000\n",
       "max         19.000000\n",
       "Name: rooms, dtype: float64"
      ]
     },
     "execution_count": 117,
     "metadata": {},
     "output_type": "execute_result"
    },
    {
     "data": {
      "image/png": "[encoded data removed]",
      "text/plain": [
       "<Figure size 432x288 with 1 Axes>"
      ]
     },
     "metadata": {
      "needs_background": "light"
     },
     "output_type": "display_data"
    },
    {
     "data": {
      "text/plain": [
       "count    23699.000000\n",
       "mean         2.708769\n",
       "std          0.283596\n",
       "min          1.000000\n",
       "25%          2.560000\n",
       "50%          2.640000\n",
       "75%          2.750000\n",
       "max         14.000000\n",
       "Name: ceiling_height, dtype: float64"
      ]
     },
     "execution_count": 117,
     "metadata": {},
     "output_type": "execute_result"
    }
   ],
   "source": [
    "# Выделим названия необходимых столбцов, выведем базовую статистику и гистограммы для каждого\n",
    "cols_hist = ['total_area', 'last_price', 'rooms', 'ceiling_height']\n",
    "\n",
    "\n",
    "for col in cols_hist:\n",
    "    ax = df[col].plot(kind='hist', bins=150, title=col, grid=True)\n",
    "    plt.show()\n",
    "    df[col].describe()"
   ]
  },
  {
   "cell_type": "markdown",
   "metadata": {},
   "source": [
    "Все гистограммы скошены вправо, что неудивительно, так как максимальные значения сильно отличаются от средних. Предварительно можно обозначить, что большинство квартир\n",
    "- имеют общую площать менее 100 кв.м;\n",
    "- стоят менее 6 млн;\n",
    "- имеют меньше 4 комнат;\n",
    "- имеют потолки высотой между 2.5 и 3х метров.\n",
    "\n",
    "Посмотрим на гистограммы для каждого столбца подробнее."
   ]
  },
  {
   "cell_type": "markdown",
   "metadata": {},
   "source": [
    "#### Исследование столбца total_area"
   ]
  },
  {
   "cell_type": "code",
   "execution_count": 118,
   "metadata": {},
   "outputs": [
    {
     "data": {
      "text/plain": [
       "0.70     64.800\n",
       "0.80     75.000\n",
       "0.90     93.520\n",
       "0.95    116.000\n",
       "0.99    197.214\n",
       "Name: total_area, dtype: float64"
      ]
     },
     "execution_count": 118,
     "metadata": {},
     "output_type": "execute_result"
    }
   ],
   "source": [
    "#Посмотрим на распределение данных\n",
    "df.total_area.quantile([.7, .8, .9, .95, .99])"
   ]
  },
  {
   "cell_type": "code",
   "execution_count": 119,
   "metadata": {},
   "outputs": [
    {
     "data": {
      "image/png": "[encoded data removed]",
      "text/plain": [
       "<Figure size 432x288 with 1 Axes>"
      ]
     },
     "metadata": {
      "needs_background": "light"
     },
     "output_type": "display_data"
    }
   ],
   "source": [
    "#Построим гистограмму на 99% данных\n",
    "ax = df.total_area.plot(kind='hist', bins=150, title='total_area', \n",
    "                   range=(df.total_area.min(), df.total_area.quantile(.99)), grid=True)"
   ]
  },
  {
   "cell_type": "code",
   "execution_count": 120,
   "metadata": {},
   "outputs": [
    {
     "data": {
      "image/png": "[encoded data removed]",
      "text/plain": [
       "<Figure size 432x288 with 1 Axes>"
      ]
     },
     "metadata": {
      "needs_background": "light"
     },
     "output_type": "display_data"
    }
   ],
   "source": [
    "#Построим гистограмму на \"хвосте\"\n",
    "ax = df.total_area.plot(kind='hist', bins=150, title='total_area', \n",
    "                   range=(df.total_area.quantile(.99), df.total_area.max()), grid=True)"
   ]
  },
  {
   "cell_type": "code",
   "execution_count": 121,
   "metadata": {},
   "outputs": [
    {
     "data": {
      "text/html": [
       "<div>\n",
       "<style scoped>\n",
       "    .dataframe tbody tr th:only-of-type {\n",
       "        vertical-align: middle;\n",
       "    }\n",
       "\n",
       "    .dataframe tbody tr th {\n",
       "        vertical-align: top;\n",
       "    }\n",
       "\n",
       "    .dataframe thead th {\n",
       "        text-align: right;\n",
       "    }\n",
       "</style>\n",
       "<table border=\"1\" class=\"dataframe\">\n",
       "  <thead>\n",
       "    <tr style=\"text-align: right;\">\n",
       "      <th></th>\n",
       "      <th>last_price</th>\n",
       "      <th>total_area</th>\n",
       "      <th>first_day_exposition</th>\n",
       "      <th>rooms</th>\n",
       "      <th>ceiling_height</th>\n",
       "      <th>floors_total</th>\n",
       "      <th>living_area</th>\n",
       "      <th>floor</th>\n",
       "      <th>kitchen_area</th>\n",
       "      <th>locality_name</th>\n",
       "      <th>...</th>\n",
       "      <th>living_total_ratio</th>\n",
       "      <th>kitchen_total_ratio</th>\n",
       "      <th>date</th>\n",
       "      <th>weekday</th>\n",
       "      <th>weekday_name</th>\n",
       "      <th>month</th>\n",
       "      <th>month_name</th>\n",
       "      <th>year</th>\n",
       "      <th>square_metre_price</th>\n",
       "      <th>floor_category</th>\n",
       "    </tr>\n",
       "  </thead>\n",
       "  <tbody>\n",
       "    <tr>\n",
       "      <td>3117</td>\n",
       "      <td>140000000</td>\n",
       "      <td>631.0</td>\n",
       "      <td>2019-03-30T00:00:00</td>\n",
       "      <td>7</td>\n",
       "      <td>3.9</td>\n",
       "      <td>5</td>\n",
       "      <td>358.3</td>\n",
       "      <td>5</td>\n",
       "      <td>60.0</td>\n",
       "      <td>Санкт-Петербург</td>\n",
       "      <td>...</td>\n",
       "      <td>0.57</td>\n",
       "      <td>0.10</td>\n",
       "      <td>2019-03-30</td>\n",
       "      <td>5</td>\n",
       "      <td>Saturday</td>\n",
       "      <td>3</td>\n",
       "      <td>March</td>\n",
       "      <td>2019</td>\n",
       "      <td>221870</td>\n",
       "      <td>последний</td>\n",
       "    </tr>\n",
       "    <tr>\n",
       "      <td>5358</td>\n",
       "      <td>65000000</td>\n",
       "      <td>590.0</td>\n",
       "      <td>2019-02-14T00:00:00</td>\n",
       "      <td>15</td>\n",
       "      <td>3.5</td>\n",
       "      <td>6</td>\n",
       "      <td>409.0</td>\n",
       "      <td>3</td>\n",
       "      <td>100.0</td>\n",
       "      <td>Санкт-Петербург</td>\n",
       "      <td>...</td>\n",
       "      <td>0.69</td>\n",
       "      <td>0.17</td>\n",
       "      <td>2019-02-14</td>\n",
       "      <td>3</td>\n",
       "      <td>Thursday</td>\n",
       "      <td>2</td>\n",
       "      <td>February</td>\n",
       "      <td>2019</td>\n",
       "      <td>110169</td>\n",
       "      <td>другое</td>\n",
       "    </tr>\n",
       "    <tr>\n",
       "      <td>12859</td>\n",
       "      <td>140000000</td>\n",
       "      <td>631.2</td>\n",
       "      <td>2019-04-09T00:00:00</td>\n",
       "      <td>7</td>\n",
       "      <td>3.9</td>\n",
       "      <td>4</td>\n",
       "      <td>322.3</td>\n",
       "      <td>4</td>\n",
       "      <td>19.5</td>\n",
       "      <td>Санкт-Петербург</td>\n",
       "      <td>...</td>\n",
       "      <td>0.51</td>\n",
       "      <td>0.03</td>\n",
       "      <td>2019-04-09</td>\n",
       "      <td>1</td>\n",
       "      <td>Tuesday</td>\n",
       "      <td>4</td>\n",
       "      <td>April</td>\n",
       "      <td>2019</td>\n",
       "      <td>221799</td>\n",
       "      <td>последний</td>\n",
       "    </tr>\n",
       "    <tr>\n",
       "      <td>15651</td>\n",
       "      <td>300000000</td>\n",
       "      <td>618.0</td>\n",
       "      <td>2017-12-18T00:00:00</td>\n",
       "      <td>7</td>\n",
       "      <td>3.4</td>\n",
       "      <td>7</td>\n",
       "      <td>258.0</td>\n",
       "      <td>5</td>\n",
       "      <td>70.0</td>\n",
       "      <td>Санкт-Петербург</td>\n",
       "      <td>...</td>\n",
       "      <td>0.42</td>\n",
       "      <td>0.11</td>\n",
       "      <td>2017-12-18</td>\n",
       "      <td>0</td>\n",
       "      <td>Monday</td>\n",
       "      <td>12</td>\n",
       "      <td>December</td>\n",
       "      <td>2017</td>\n",
       "      <td>485436</td>\n",
       "      <td>другое</td>\n",
       "    </tr>\n",
       "    <tr>\n",
       "      <td>19540</td>\n",
       "      <td>420000000</td>\n",
       "      <td>900.0</td>\n",
       "      <td>2017-12-06T00:00:00</td>\n",
       "      <td>12</td>\n",
       "      <td>2.8</td>\n",
       "      <td>25</td>\n",
       "      <td>409.7</td>\n",
       "      <td>25</td>\n",
       "      <td>112.0</td>\n",
       "      <td>Санкт-Петербург</td>\n",
       "      <td>...</td>\n",
       "      <td>0.46</td>\n",
       "      <td>0.12</td>\n",
       "      <td>2017-12-06</td>\n",
       "      <td>2</td>\n",
       "      <td>Wednesday</td>\n",
       "      <td>12</td>\n",
       "      <td>December</td>\n",
       "      <td>2017</td>\n",
       "      <td>466666</td>\n",
       "      <td>последний</td>\n",
       "    </tr>\n",
       "  </tbody>\n",
       "</table>\n",
       "<p>5 rows × 22 columns</p>\n",
       "</div>"
      ],
      "text/plain": [
       "       last_price  total_area first_day_exposition  rooms  ceiling_height  \\\n",
       "3117    140000000       631.0  2019-03-30T00:00:00      7             3.9   \n",
       "5358     65000000       590.0  2019-02-14T00:00:00     15             3.5   \n",
       "12859   140000000       631.2  2019-04-09T00:00:00      7             3.9   \n",
       "15651   300000000       618.0  2017-12-18T00:00:00      7             3.4   \n",
       "19540   420000000       900.0  2017-12-06T00:00:00     12             2.8   \n",
       "\n",
       "       floors_total  living_area  floor  kitchen_area    locality_name  ...  \\\n",
       "3117              5        358.3      5          60.0  Санкт-Петербург  ...   \n",
       "5358              6        409.0      3         100.0  Санкт-Петербург  ...   \n",
       "12859             4        322.3      4          19.5  Санкт-Петербург  ...   \n",
       "15651             7        258.0      5          70.0  Санкт-Петербург  ...   \n",
       "19540            25        409.7     25         112.0  Санкт-Петербург  ...   \n",
       "\n",
       "       living_total_ratio  kitchen_total_ratio       date  weekday  \\\n",
       "3117                 0.57                 0.10 2019-03-30        5   \n",
       "5358                 0.69                 0.17 2019-02-14        3   \n",
       "12859                0.51                 0.03 2019-04-09        1   \n",
       "15651                0.42                 0.11 2017-12-18        0   \n",
       "19540                0.46                 0.12 2017-12-06        2   \n",
       "\n",
       "      weekday_name month month_name  year square_metre_price floor_category  \n",
       "3117      Saturday     3      March  2019             221870      последний  \n",
       "5358      Thursday     2   February  2019             110169         другое  \n",
       "12859      Tuesday     4      April  2019             221799      последний  \n",
       "15651       Monday    12   December  2017             485436         другое  \n",
       "19540    Wednesday    12   December  2017             466666      последний  \n",
       "\n",
       "[5 rows x 22 columns]"
      ]
     },
     "execution_count": 121,
     "metadata": {},
     "output_type": "execute_result"
    }
   ],
   "source": [
    "df[df.total_area > 580]"
   ]
  },
  {
   "cell_type": "markdown",
   "metadata": {},
   "source": [
    "График по всем данным показывает, что в основном общая площадь квартир не превышает примерно 200 метров. Это подтвержается, если посмотреть на состав значений, использую quantile(), видно, что 99% данных лежит в пределах от 12 до 197 кв. метров, при этом малое количество квартир уже имеют площадь более 125 кв. метров (95% квартир имеют площадь не более 116 кв.м). На графике видно, что значения \"вытягиваются\" вправо и в основном обрываются после 520 кв.м - срез данных показывает, что это многокомнатные квартиры (от 7ми комнат). "
   ]
  },
  {
   "cell_type": "markdown",
   "metadata": {},
   "source": [
    "#### Исследование столбца last_price"
   ]
  },
  {
   "cell_type": "code",
   "execution_count": 122,
   "metadata": {},
   "outputs": [
    {
     "data": {
      "text/plain": [
       "0.70     6190000.0\n",
       "0.80     7585000.0\n",
       "0.90    10914231.2\n",
       "0.95    15300000.0\n",
       "0.97    20000000.0\n",
       "0.99    36000000.0\n",
       "Name: last_price, dtype: float64"
      ]
     },
     "execution_count": 122,
     "metadata": {},
     "output_type": "execute_result"
    }
   ],
   "source": [
    "#Посмотрим на распределение данных\n",
    "df.last_price.quantile([.7, .8, .9, .95, .97, .99])"
   ]
  },
  {
   "cell_type": "code",
   "execution_count": 123,
   "metadata": {},
   "outputs": [
    {
     "data": {
      "text/plain": [
       "0    13.000\n",
       "1     3.350\n",
       "2     5.196\n",
       "3    64.900\n",
       "4    10.000\n",
       "5     2.890\n",
       "6     3.700\n",
       "7     7.915\n",
       "8     2.900\n",
       "9     5.400\n",
       "Name: last_price, dtype: float64"
      ]
     },
     "execution_count": 123,
     "metadata": {},
     "output_type": "execute_result"
    }
   ],
   "source": [
    "#В столбце очень большие числа, выделим его отдельно и разделим на миллион для получение более читабельного графика\n",
    "price = df.last_price / 1000000\n",
    "\n",
    "price[:10]"
   ]
  },
  {
   "cell_type": "code",
   "execution_count": 124,
   "metadata": {},
   "outputs": [
    {
     "data": {
      "image/png": "[encoded data removed]",
      "text/plain": [
       "<Figure size 432x288 with 1 Axes>"
      ]
     },
     "metadata": {
      "needs_background": "light"
     },
     "output_type": "display_data"
    }
   ],
   "source": [
    "#Построим гистограмму на 99% данных\n",
    "ax = price.plot(kind='hist', bins=150, title='price',\n",
    "                   range=(price.min(), price.quantile(.99)), grid=True)"
   ]
  },
  {
   "cell_type": "code",
   "execution_count": 125,
   "metadata": {},
   "outputs": [
    {
     "data": {
      "image/png": "[encoded data removed]",
      "text/plain": [
       "<Figure size 432x288 with 1 Axes>"
      ]
     },
     "metadata": {
      "needs_background": "light"
     },
     "output_type": "display_data"
    }
   ],
   "source": [
    "#Построим гистограмму на \"хвосте\"\n",
    "ax = price.plot(kind='hist', bins=200, title='price', \n",
    "                   range=(price.quantile(.99), price.max()), grid=True)"
   ]
  },
  {
   "cell_type": "markdown",
   "metadata": {},
   "source": [
    "График по всем данным показывает, что в основном цена квартир не превышает примерно 11 млн. Это подтвержается, если посмотреть на состав значений, использую quantile(), видно, что 90% данных лежит в пределах до 10.9 млн.\n",
    "\n",
    "Далее можно приблизительно выделить сегменты:\n",
    "- 11-17 млн, \n",
    "- 17-70 млн, \n",
    "- 70-100 млн - вероятно, более престижные квартиры, так как есть новый пик на 70, \n",
    "- 110-160, \n",
    "- выбросы (160-180, 230-250, 290-300, 320, 400-420, 770)."
   ]
  },
  {
   "cell_type": "markdown",
   "metadata": {},
   "source": [
    "#### Исследование столбца rooms"
   ]
  },
  {
   "cell_type": "code",
   "execution_count": 126,
   "metadata": {},
   "outputs": [
    {
     "data": {
      "text/plain": [
       "0.50    2.0\n",
       "0.60    2.0\n",
       "0.70    3.0\n",
       "0.80    3.0\n",
       "0.90    3.0\n",
       "0.95    4.0\n",
       "0.99    5.0\n",
       "Name: rooms, dtype: float64"
      ]
     },
     "execution_count": 126,
     "metadata": {},
     "output_type": "execute_result"
    }
   ],
   "source": [
    "#Посмотрим на распределение данных\n",
    "df.rooms.quantile([.5, .6, .7, .8, .9, .95, .99])"
   ]
  },
  {
   "cell_type": "code",
   "execution_count": 127,
   "metadata": {},
   "outputs": [
    {
     "data": {
      "image/png": "[encoded data removed]",
      "text/plain": [
       "<Figure size 432x288 with 1 Axes>"
      ]
     },
     "metadata": {
      "needs_background": "light"
     },
     "output_type": "display_data"
    }
   ],
   "source": [
    "#Построим гистограмму на 99% данных\n",
    "ax = df.rooms.plot(kind='hist', title='rooms', bins=10, range=(df.rooms.min(), df.rooms.quantile(.99)), grid=True)"
   ]
  },
  {
   "cell_type": "code",
   "execution_count": 128,
   "metadata": {},
   "outputs": [
    {
     "data": {
      "image/png": "[encoded data removed]",
      "text/plain": [
       "<Figure size 432x288 with 1 Axes>"
      ]
     },
     "metadata": {
      "needs_background": "light"
     },
     "output_type": "display_data"
    }
   ],
   "source": [
    "#Построим гистограмму на \"хвосте\"\n",
    "ax = df.rooms.plot(kind='hist', title='rooms', bins=10, range=(df.rooms.quantile(.99), df.rooms.max()), grid=True)"
   ]
  },
  {
   "cell_type": "markdown",
   "metadata": {},
   "source": [
    "График по всем данным показывает, что в основном в квартирах не более 4х комнат, при это 90% квартир имеют не более 3х. Далее мы видим новый пик на 6 комнатах, что, вероятно показывает другой тип квартир или определенное местоположение. "
   ]
  },
  {
   "cell_type": "markdown",
   "metadata": {},
   "source": [
    "#### Исследование столбца ceiling_height"
   ]
  },
  {
   "cell_type": "code",
   "execution_count": 129,
   "metadata": {},
   "outputs": [
    {
     "data": {
      "text/plain": [
       "0.80    2.80\n",
       "0.90    3.00\n",
       "0.95    3.20\n",
       "0.99    3.63\n",
       "Name: ceiling_height, dtype: float64"
      ]
     },
     "execution_count": 129,
     "metadata": {},
     "output_type": "execute_result"
    }
   ],
   "source": [
    "#Посмотрим на распределение данных\n",
    "df.ceiling_height.quantile([.8, .9, .95, .99])"
   ]
  },
  {
   "cell_type": "code",
   "execution_count": 130,
   "metadata": {},
   "outputs": [
    {
     "data": {
      "image/png": "[encoded data removed]",
      "text/plain": [
       "<Figure size 432x288 with 1 Axes>"
      ]
     },
     "metadata": {
      "needs_background": "light"
     },
     "output_type": "display_data"
    }
   ],
   "source": [
    "#Построим гистограмму на 99% данных\n",
    "ax = df.ceiling_height.plot(kind='hist', title='ceiling_height', bins=150, \n",
    "                       range=(2, df.ceiling_height.quantile(.99)), grid=True)"
   ]
  },
  {
   "cell_type": "code",
   "execution_count": 131,
   "metadata": {},
   "outputs": [
    {
     "data": {
      "image/png": "[encoded data removed]",
      "text/plain": [
       "<Figure size 432x288 with 1 Axes>"
      ]
     },
     "metadata": {
      "needs_background": "light"
     },
     "output_type": "display_data"
    }
   ],
   "source": [
    "#Построим гистограмму на \"хвосте\"\n",
    "ax = df.ceiling_height.plot(kind='hist', title='ceiling_height', bins=150, \n",
    "                       range=(df.ceiling_height.quantile(.99), df.ceiling_height.max()), grid=True)"
   ]
  },
  {
   "cell_type": "markdown",
   "metadata": {},
   "source": [
    "График по всем данным показывает, что в основном высота потолков не превышает примерно 3 метров 90% данных). Далее идут квартиры с потолками до примерно до 4,3. Потом - до 6, и дальше находятся выбросы, природа которых не очень понятна. "
   ]
  },
  {
   "cell_type": "markdown",
   "metadata": {},
   "source": [
    "### 2. Время продажи квартир"
   ]
  },
  {
   "cell_type": "code",
   "execution_count": 132,
   "metadata": {},
   "outputs": [
    {
     "data": {
      "text/plain": [
       "count    20518.000000\n",
       "mean       180.888634\n",
       "std        219.727988\n",
       "min          1.000000\n",
       "25%         45.000000\n",
       "50%         95.000000\n",
       "75%        232.000000\n",
       "max       1580.000000\n",
       "Name: days_exposition, dtype: float64"
      ]
     },
     "execution_count": 132,
     "metadata": {},
     "output_type": "execute_result"
    },
    {
     "data": {
      "text/plain": [
       "0.005       3.00\n",
       "0.010       4.00\n",
       "0.050       9.00\n",
       "0.100      17.00\n",
       "0.150      26.00\n",
       "0.850     364.00\n",
       "0.900     460.00\n",
       "0.950     647.00\n",
       "0.990    1068.66\n",
       "Name: days_exposition, dtype: float64"
      ]
     },
     "execution_count": 132,
     "metadata": {},
     "output_type": "execute_result"
    },
    {
     "name": "stdout",
     "output_type": "stream",
     "text": [
      "Среднее: 180.88863436982163\n",
      "Медиана: 95.0\n"
     ]
    }
   ],
   "source": [
    "#Посмотрим на базовую статистику и персентили\n",
    "df.days_exposition.describe()\n",
    "df.days_exposition.quantile([0.005, .01, .05, .1, .15, .85, .90, .95, .99])\n",
    "\n",
    "#Выведем для наглядности медиану и среднее\n",
    "print('Среднее:', df.days_exposition.mean())\n",
    "print('Медиана:', df.days_exposition.median())"
   ]
  },
  {
   "cell_type": "code",
   "execution_count": 133,
   "metadata": {},
   "outputs": [
    {
     "data": {
      "text/plain": [
       "<matplotlib.axes._subplots.AxesSubplot at 0x7f76376d9f90>"
      ]
     },
     "execution_count": 133,
     "metadata": {},
     "output_type": "execute_result"
    },
    {
     "data": {
      "image/png": "[encoded data removed]",
      "text/plain": [
       "<Figure size 1224x432 with 1 Axes>"
      ]
     },
     "metadata": {
      "needs_background": "light"
     },
     "output_type": "display_data"
    }
   ],
   "source": [
    "#Построим гистограмму \n",
    "df.days_exposition.plot(kind='hist', histtype='step', bins=150, linewidth=2, alpha=0.7, \n",
    "                        title='days_exposition', figsize=(17, 6))"
   ]
  },
  {
   "cell_type": "code",
   "execution_count": 134,
   "metadata": {},
   "outputs": [
    {
     "data": {
      "text/plain": [
       "<Figure size 720x360 with 0 Axes>"
      ]
     },
     "execution_count": 134,
     "metadata": {},
     "output_type": "execute_result"
    },
    {
     "data": {
      "image/png": "[encoded data removed]",
      "text/plain": [
       "<Figure size 720x360 with 1 Axes>"
      ]
     },
     "metadata": {
      "needs_background": "light"
     },
     "output_type": "display_data"
    }
   ],
   "source": [
    "#Построим диаграмму размаха, чтобы определить выбросы и посмотреть распределение данных по квартилям\n",
    "plt.figure(figsize=(10, 5))\n",
    "ax = sns.boxplot(x=df.days_exposition, orient='h')\n",
    "plt.show()"
   ]
  },
  {
   "cell_type": "markdown",
   "metadata": {},
   "source": [
    "В среднем квартира продается 180 дней, при этом медиана сильно ниже - 95 дней, 99% квартир продаются не дольше 1068 дней.\n",
    "Минимальный срок - всего один день, а максимальный - 1580 дней (больше четырех лет). Диаграмма размаха показывает, что медиана смещена к началу, что означает - большее количество продаж происходит за более короткий срок. Основная часть продаж происходит примерно за 50-220 дней (площадь \"ящика\"). \n",
    "Таким образом, можно посчитать, что время продаж, которое находится выше верхнего \"уса\" диграммы является сверх длинным.\n",
    "Внизу выбросов нет, так как нет отрицательных значений. Следовательно, для поиска сверхкороткого времени надо будет тщательнее исследовать гистограмму на данных до медианы.\n"
   ]
  },
  {
   "cell_type": "code",
   "execution_count": 135,
   "metadata": {},
   "outputs": [
    {
     "name": "stdout",
     "output_type": "stream",
     "text": [
      "Сверхдлинные продажи длятся более 512.5\n"
     ]
    }
   ],
   "source": [
    "#Найдем сверхдолгие значения\n",
    "iqr = df.days_exposition.quantile(.75) - df.days_exposition.quantile(.25)\n",
    "too_long = df.days_exposition.quantile(.75) + 1.5*iqr\n",
    "print('Сверхдлинные продажи длятся более', too_long)\n"
   ]
  },
  {
   "cell_type": "code",
   "execution_count": 136,
   "metadata": {
    "scrolled": false
   },
   "outputs": [
    {
     "data": {
      "text/plain": [
       "<matplotlib.axes._subplots.AxesSubplot at 0x7f76352817d0>"
      ]
     },
     "execution_count": 136,
     "metadata": {},
     "output_type": "execute_result"
    },
    {
     "data": {
      "image/png": "[encoded data removed]",
      "text/plain": [
       "<Figure size 1224x432 with 1 Axes>"
      ]
     },
     "metadata": {
      "needs_background": "light"
     },
     "output_type": "display_data"
    }
   ],
   "source": [
    "#Построим гистограмму данные до медианы\n",
    "df.days_exposition.plot(kind='hist', histtype='step', bins=150, \n",
    "                        range=(df.days_exposition.min(), df.days_exposition.median()), \n",
    "                        linewidth=2, alpha=0.7, label='without outliers',\n",
    "                        grid=True, legend=True, figsize=(17, 6))"
   ]
  },
  {
   "cell_type": "code",
   "execution_count": 137,
   "metadata": {},
   "outputs": [
    {
     "data": {
      "text/plain": [
       "<matplotlib.axes._subplots.AxesSubplot at 0x7f763740f750>"
      ]
     },
     "execution_count": 137,
     "metadata": {},
     "output_type": "execute_result"
    },
    {
     "data": {
      "image/png": "[encoded data removed]",
      "text/plain": [
       "<Figure size 1224x432 with 1 Axes>"
      ]
     },
     "metadata": {
      "needs_background": "light"
     },
     "output_type": "display_data"
    }
   ],
   "source": [
    "#И еще более подробную до 35 персентиля\n",
    "df.days_exposition.plot(kind='hist', histtype='step', bins=150, \n",
    "                        range=(df.days_exposition.min(), df.days_exposition.quantile(.35)), \n",
    "                        linewidth=2, alpha=0.7, label='without outliers',\n",
    "                        grid=True, legend=True, figsize=(17, 6))"
   ]
  },
  {
   "cell_type": "markdown",
   "metadata": {},
   "source": [
    "Гистограммы показывают два существенных пика на 45 и 60 днях продажи, что может быть связано с какими-то официальными сроками (например, по договору через агентство). Кроме этих пиков, распределение похоже на распределение Пуассона. \n",
    "Очевидный \"провал\" в длительности продаж - на 2х днях. Примем это значение за сверхкороткие продажи.\n",
    "\n",
    "Такие образом, **сверхдлинные продажи - более 512 дней**, **сверхкороткие - меньше 3х** (это 0.005 персентиль)."
   ]
  },
  {
   "cell_type": "markdown",
   "metadata": {},
   "source": [
    "#### Уберем редкие и выбивающиеся значения и сравним с исходными данными"
   ]
  },
  {
   "cell_type": "code",
   "execution_count": 138,
   "metadata": {
    "scrolled": false
   },
   "outputs": [
    {
     "data": {
      "text/plain": [
       "<matplotlib.axes._subplots.AxesSubplot at 0x7f7637921490>"
      ]
     },
     "execution_count": 138,
     "metadata": {},
     "output_type": "execute_result"
    },
    {
     "data": {
      "image/png": "[encoded data removed]",
      "text/plain": [
       "<Figure size 1224x432 with 1 Axes>"
      ]
     },
     "metadata": {
      "needs_background": "light"
     },
     "output_type": "display_data"
    }
   ],
   "source": [
    "#Сделаем срез данных, где срок продажи не равен 45 или 60 дням, больше или равен 3 и меньше 512. \n",
    "#Для этого переведем сначала уберем NaN и переведем значения в int\n",
    "days = df[df['days_exposition'].notnull() == True]['days_exposition'] \n",
    "days = days.astype(int)\n",
    "no_outliers=days[(days>=3) & (days!=45) & (days!=60) & (days<=512)]\n",
    "\n",
    "#Сравним две гистограммы - по всем данным и исключив сверхдлинные, сверхкороткие и выбивающиеся значения \n",
    "ax = df.days_exposition.plot(kind='hist', histtype='step', bins=150, \n",
    "                             linewidth=2, alpha=0.7, label='raw', legend=True)\n",
    "no_outliers.plot(kind='hist', histtype='step', bins=150, \n",
    "                 title='Сравнение исходных данных и без редких и выбивающихся значений', \n",
    "                 linewidth=2, alpha=0.7, label='without outliers', ax=ax, \n",
    "                 grid=True, legend=True, figsize=(17, 6))"
   ]
  },
  {
   "cell_type": "code",
   "execution_count": 139,
   "metadata": {},
   "outputs": [
    {
     "data": {
      "text/plain": [
       "count    20518.000000\n",
       "mean       180.888634\n",
       "std        219.727988\n",
       "min          1.000000\n",
       "25%         45.000000\n",
       "50%         95.000000\n",
       "75%        232.000000\n",
       "max       1580.000000\n",
       "Name: days_exposition, dtype: float64"
      ]
     },
     "execution_count": 139,
     "metadata": {},
     "output_type": "execute_result"
    },
    {
     "data": {
      "text/plain": [
       "count    17427.000000\n",
       "mean       135.134848\n",
       "std        124.219486\n",
       "min          3.000000\n",
       "25%         37.000000\n",
       "50%         93.000000\n",
       "75%        195.000000\n",
       "max        512.000000\n",
       "Name: days_exposition, dtype: float64"
      ]
     },
     "execution_count": 139,
     "metadata": {},
     "output_type": "execute_result"
    }
   ],
   "source": [
    "#Еще раз посмотрим статистику\n",
    "df.days_exposition.describe()\n",
    "no_outliers.describe()"
   ]
  },
  {
   "cell_type": "markdown",
   "metadata": {},
   "source": [
    "**Вывод**\n",
    "\n",
    "Мы видим, что гистограммы существенно различаются, что вполне соответствует тому, что размах \"очищенных данных\" сократился. Статистика показала, что среднее время продажи уменьшилось с 180 до 135 дней, а медианное - только с 95 на 93, что вероятно показывает, что мы не выкинули лишнего. "
   ]
  },
  {
   "cell_type": "markdown",
   "metadata": {},
   "source": [
    "### 3. Что влияет на стоимость квартиры?"
   ]
  },
  {
   "cell_type": "markdown",
   "metadata": {},
   "source": [
    "Проанализируем, какие факторы больше всего влияют на стоимость квартиры. Изучим зависимость цены от:\n",
    "   - квадратного метра, \n",
    "   - числа комнат, \n",
    "   - удалённости от центра, \n",
    "   - от того, на каком этаже расположена квартира (первом, последнем или другом); \n",
    "   - от даты размещения: дня недели, месяца и года;"
   ]
  },
  {
   "cell_type": "markdown",
   "metadata": {},
   "source": [
    "#### Числовые данные - квадратный метр, количество комнат, расстояние до центра"
   ]
  },
  {
   "cell_type": "code",
   "execution_count": 140,
   "metadata": {},
   "outputs": [
    {
     "data": {
      "text/html": [
       "<div>\n",
       "<style scoped>\n",
       "    .dataframe tbody tr th:only-of-type {\n",
       "        vertical-align: middle;\n",
       "    }\n",
       "\n",
       "    .dataframe tbody tr th {\n",
       "        vertical-align: top;\n",
       "    }\n",
       "\n",
       "    .dataframe thead th {\n",
       "        text-align: right;\n",
       "    }\n",
       "</style>\n",
       "<table border=\"1\" class=\"dataframe\">\n",
       "  <thead>\n",
       "    <tr style=\"text-align: right;\">\n",
       "      <th></th>\n",
       "      <th>last_price</th>\n",
       "      <th>square_metre_price</th>\n",
       "      <th>rooms</th>\n",
       "      <th>cityCenters_nearest</th>\n",
       "    </tr>\n",
       "  </thead>\n",
       "  <tbody>\n",
       "    <tr>\n",
       "      <td>last_price</td>\n",
       "      <td>1.000000</td>\n",
       "      <td>0.736499</td>\n",
       "      <td>0.363343</td>\n",
       "      <td>-0.268233</td>\n",
       "    </tr>\n",
       "    <tr>\n",
       "      <td>square_metre_price</td>\n",
       "      <td>0.736499</td>\n",
       "      <td>1.000000</td>\n",
       "      <td>0.055419</td>\n",
       "      <td>-0.478493</td>\n",
       "    </tr>\n",
       "    <tr>\n",
       "      <td>rooms</td>\n",
       "      <td>0.363343</td>\n",
       "      <td>0.055419</td>\n",
       "      <td>1.000000</td>\n",
       "      <td>-0.197280</td>\n",
       "    </tr>\n",
       "    <tr>\n",
       "      <td>cityCenters_nearest</td>\n",
       "      <td>-0.268233</td>\n",
       "      <td>-0.478493</td>\n",
       "      <td>-0.197280</td>\n",
       "      <td>1.000000</td>\n",
       "    </tr>\n",
       "  </tbody>\n",
       "</table>\n",
       "</div>"
      ],
      "text/plain": [
       "                     last_price  square_metre_price     rooms  \\\n",
       "last_price             1.000000            0.736499  0.363343   \n",
       "square_metre_price     0.736499            1.000000  0.055419   \n",
       "rooms                  0.363343            0.055419  1.000000   \n",
       "cityCenters_nearest   -0.268233           -0.478493 -0.197280   \n",
       "\n",
       "                     cityCenters_nearest  \n",
       "last_price                     -0.268233  \n",
       "square_metre_price             -0.478493  \n",
       "rooms                          -0.197280  \n",
       "cityCenters_nearest             1.000000  "
      ]
     },
     "execution_count": 140,
     "metadata": {},
     "output_type": "execute_result"
    }
   ],
   "source": [
    "#Выделим названия столбцов для создания матрицы корреляций и построим её\n",
    "col_corr_features = ['last_price', 'square_metre_price', 'rooms', 'cityCenters_nearest']\n",
    "df[col_corr_features].corr()"
   ]
  },
  {
   "cell_type": "code",
   "execution_count": 141,
   "metadata": {},
   "outputs": [
    {
     "data": {
      "image/png": "[encoded data removed]",
      "text/plain": [
       "<Figure size 921.6x921.6 with 20 Axes>"
      ]
     },
     "metadata": {
      "needs_background": "light"
     },
     "output_type": "display_data"
    }
   ],
   "source": [
    "#Построим график отношений\n",
    "ax = sns.pairplot(df[col_corr_features], height=3.2)"
   ]
  },
  {
   "cell_type": "markdown",
   "metadata": {},
   "source": [
    "Коэффициенты корреляции и графики показывают, что \n",
    "- есть положительная корреляция выше средней между ценой квартиры и ценой на квадратный метр (0.74);\n",
    "- есть слабая положительная корреляции между ценой и количеством комнат (0.36);\n",
    "- есть слабая отрицательная корреляция между ценой и местоположением - чем дальше от центра, тем ниже цена (-0.27)."
   ]
  },
  {
   "cell_type": "markdown",
   "metadata": {},
   "source": [
    "#### Категориальные данные"
   ]
  },
  {
   "cell_type": "markdown",
   "metadata": {},
   "source": [
    "#### Год"
   ]
  },
  {
   "cell_type": "code",
   "execution_count": 142,
   "metadata": {
    "scrolled": false
   },
   "outputs": [
    {
     "data": {
      "text/plain": [
       "<Figure size 936x360 with 0 Axes>"
      ]
     },
     "execution_count": 142,
     "metadata": {},
     "output_type": "execute_result"
    },
    {
     "data": {
      "text/plain": [
       "[(0, 36000000)]"
      ]
     },
     "execution_count": 142,
     "metadata": {},
     "output_type": "execute_result"
    },
    {
     "data": {
      "image/png": "[encoded data removed]",
      "text/plain": [
       "<Figure size 936x360 with 1 Axes>"
      ]
     },
     "metadata": {
      "needs_background": "light"
     },
     "output_type": "display_data"
    }
   ],
   "source": [
    "#Построим boxplot для сравнения цен относительно года\n",
    "plt.figure(figsize=(13, 5))\n",
    "g = sns.boxplot(x='last_price', y='year', data=df, fliersize=3, palette='rainbow')\n",
    "g.set(xlim=(0, 36000000))"
   ]
  },
  {
   "cell_type": "markdown",
   "metadata": {},
   "source": [
    "График показывает, что в 2014 году были наиболее высокие цены на квартиры, затем они снижались, в 2016-2018 были примерно на одном уровне и с 2019 года начали расти. Возможно данные за 2014 имеют какую-то особенность или были собраны неравномерно, так как они сильно выбиваются из общей картины. Вопрос можно исследовать дальше. "
   ]
  },
  {
   "cell_type": "markdown",
   "metadata": {},
   "source": [
    "#### Месяц"
   ]
  },
  {
   "cell_type": "code",
   "execution_count": 143,
   "metadata": {},
   "outputs": [
    {
     "data": {
      "text/plain": [
       "['January',\n",
       " 'February',\n",
       " 'March',\n",
       " 'April',\n",
       " 'May',\n",
       " 'June',\n",
       " 'July',\n",
       " 'August',\n",
       " 'September',\n",
       " 'October',\n",
       " 'November',\n",
       " 'December']"
      ]
     },
     "execution_count": 143,
     "metadata": {},
     "output_type": "execute_result"
    }
   ],
   "source": [
    "months = list(df.sort_values(by='month').month_name.unique())\n",
    "months"
   ]
  },
  {
   "cell_type": "code",
   "execution_count": 144,
   "metadata": {},
   "outputs": [
    {
     "data": {
      "text/plain": [
       "<Figure size 936x504 with 0 Axes>"
      ]
     },
     "execution_count": 144,
     "metadata": {},
     "output_type": "execute_result"
    },
    {
     "data": {
      "text/plain": [
       "[(0, 36000000)]"
      ]
     },
     "execution_count": 144,
     "metadata": {},
     "output_type": "execute_result"
    },
    {
     "data": {
      "image/png": "[encoded data removed]",
      "text/plain": [
       "<Figure size 936x504 with 1 Axes>"
      ]
     },
     "metadata": {
      "needs_background": "light"
     },
     "output_type": "display_data"
    }
   ],
   "source": [
    "#Сделаем список месяцев в нужном порядке\n",
    "months = list(df.sort_values(by='month').month_name.unique())\n",
    "\n",
    "#Построим boxplot\n",
    "plt.figure(figsize=(13, 7))\n",
    "g = sns.boxplot(x='last_price', y='month_name', data=df, fliersize=3, palette='rainbow', order=months)\n",
    "g.set(xlim=(0, 36000000))"
   ]
  },
  {
   "cell_type": "markdown",
   "metadata": {},
   "source": [
    "В целом **зависимости цены от месяца не видно**, медианы расположены близко относительно друг друга."
   ]
  },
  {
   "cell_type": "markdown",
   "metadata": {},
   "source": [
    "#### День недели"
   ]
  },
  {
   "cell_type": "code",
   "execution_count": 145,
   "metadata": {},
   "outputs": [
    {
     "data": {
      "text/plain": [
       "<Figure size 936x360 with 0 Axes>"
      ]
     },
     "execution_count": 145,
     "metadata": {},
     "output_type": "execute_result"
    },
    {
     "data": {
      "text/plain": [
       "[(0, 36000000)]"
      ]
     },
     "execution_count": 145,
     "metadata": {},
     "output_type": "execute_result"
    },
    {
     "data": {
      "image/png": "[encoded data removed]",
      "text/plain": [
       "<Figure size 936x360 with 1 Axes>"
      ]
     },
     "metadata": {
      "needs_background": "light"
     },
     "output_type": "display_data"
    }
   ],
   "source": [
    "#Сделаем список дней недели в нужном порядке\n",
    "weekdays = list(df.sort_values(by='weekday').weekday_name.unique())\n",
    "\n",
    "#Построим boxplot\n",
    "plt.figure(figsize=(13, 5))\n",
    "g = sns.boxplot(x='last_price', y='weekday_name', data=df, fliersize=3, palette='rainbow', order=weekdays)\n",
    "g.set(xlim=(0, 36000000))"
   ]
  },
  {
   "cell_type": "markdown",
   "metadata": {},
   "source": [
    "В целом также **зависимости цены от дня недели не видно**, медианы расположены близко относительно друг друга."
   ]
  },
  {
   "cell_type": "markdown",
   "metadata": {},
   "source": [
    "#### Этаж "
   ]
  },
  {
   "cell_type": "code",
   "execution_count": 146,
   "metadata": {
    "scrolled": false
   },
   "outputs": [
    {
     "data": {
      "text/plain": [
       "<Figure size 936x216 with 0 Axes>"
      ]
     },
     "execution_count": 146,
     "metadata": {},
     "output_type": "execute_result"
    },
    {
     "data": {
      "text/plain": [
       "[(0, 36000000)]"
      ]
     },
     "execution_count": 146,
     "metadata": {},
     "output_type": "execute_result"
    },
    {
     "data": {
      "image/png": "[encoded data removed]",
      "text/plain": [
       "<Figure size 936x216 with 1 Axes>"
      ]
     },
     "metadata": {
      "needs_background": "light"
     },
     "output_type": "display_data"
    }
   ],
   "source": [
    "#Построим boxplot\n",
    "plt.figure(figsize=(13, 3))\n",
    "g = sns.boxplot(x='last_price', y='floor_category', data=df, fliersize=3, palette='rainbow')\n",
    "g.set(xlim=(0, 36000000))"
   ]
  },
  {
   "cell_type": "markdown",
   "metadata": {},
   "source": [
    "График показывает, что квартиры на первом этаже стоят дешевле, на последнем - дороже, чем на первом, но дешевле, чем на остальных этажах.\n",
    "График подтверждает, что в целом **квартиры на первом и последнем этаже стоят дешевле**."
   ]
  },
  {
   "cell_type": "markdown",
   "metadata": {},
   "source": [
    "### 4. 10 населённых пунктов с наибольшим числом объявлений"
   ]
  },
  {
   "cell_type": "code",
   "execution_count": 147,
   "metadata": {},
   "outputs": [
    {
     "data": {
      "text/html": [
       "<div>\n",
       "<style scoped>\n",
       "    .dataframe tbody tr th:only-of-type {\n",
       "        vertical-align: middle;\n",
       "    }\n",
       "\n",
       "    .dataframe tbody tr th {\n",
       "        vertical-align: top;\n",
       "    }\n",
       "\n",
       "    .dataframe thead th {\n",
       "        text-align: right;\n",
       "    }\n",
       "</style>\n",
       "<table border=\"1\" class=\"dataframe\">\n",
       "  <thead>\n",
       "    <tr style=\"text-align: right;\">\n",
       "      <th></th>\n",
       "      <th>number_of_ads</th>\n",
       "      <th>square_metre_price_mean</th>\n",
       "    </tr>\n",
       "    <tr>\n",
       "      <th>locality_name</th>\n",
       "      <th></th>\n",
       "      <th></th>\n",
       "    </tr>\n",
       "  </thead>\n",
       "  <tbody>\n",
       "    <tr>\n",
       "      <td>Санкт-Петербург</td>\n",
       "      <td>15721</td>\n",
       "      <td>114848.565231</td>\n",
       "    </tr>\n",
       "    <tr>\n",
       "      <td>посёлок Мурино</td>\n",
       "      <td>556</td>\n",
       "      <td>85681.305755</td>\n",
       "    </tr>\n",
       "    <tr>\n",
       "      <td>посёлок Шушары</td>\n",
       "      <td>440</td>\n",
       "      <td>78676.904545</td>\n",
       "    </tr>\n",
       "    <tr>\n",
       "      <td>Всеволожск</td>\n",
       "      <td>398</td>\n",
       "      <td>68654.007538</td>\n",
       "    </tr>\n",
       "    <tr>\n",
       "      <td>Пушкин</td>\n",
       "      <td>369</td>\n",
       "      <td>103125.373984</td>\n",
       "    </tr>\n",
       "    <tr>\n",
       "      <td>Колпино</td>\n",
       "      <td>338</td>\n",
       "      <td>75424.150888</td>\n",
       "    </tr>\n",
       "    <tr>\n",
       "      <td>посёлок Парголово</td>\n",
       "      <td>327</td>\n",
       "      <td>90175.489297</td>\n",
       "    </tr>\n",
       "    <tr>\n",
       "      <td>Гатчина</td>\n",
       "      <td>307</td>\n",
       "      <td>68745.693811</td>\n",
       "    </tr>\n",
       "    <tr>\n",
       "      <td>деревня Кудрово</td>\n",
       "      <td>299</td>\n",
       "      <td>92473.086957</td>\n",
       "    </tr>\n",
       "    <tr>\n",
       "      <td>Выборг</td>\n",
       "      <td>237</td>\n",
       "      <td>58141.489451</td>\n",
       "    </tr>\n",
       "  </tbody>\n",
       "</table>\n",
       "</div>"
      ],
      "text/plain": [
       "                   number_of_ads  square_metre_price_mean\n",
       "locality_name                                            \n",
       "Санкт-Петербург            15721            114848.565231\n",
       "посёлок Мурино               556             85681.305755\n",
       "посёлок Шушары               440             78676.904545\n",
       "Всеволожск                   398             68654.007538\n",
       "Пушкин                       369            103125.373984\n",
       "Колпино                      338             75424.150888\n",
       "посёлок Парголово            327             90175.489297\n",
       "Гатчина                      307             68745.693811\n",
       "деревня Кудрово              299             92473.086957\n",
       "Выборг                       237             58141.489451"
      ]
     },
     "execution_count": 147,
     "metadata": {},
     "output_type": "execute_result"
    }
   ],
   "source": [
    "#Выберем 10 населённых пунктов с наибольшим числом объявлений и посчитаем среднюю цену квадратного метра в них\n",
    "top_10 = df.pivot_table(index='locality_name', values='square_metre_price', aggfunc=['count','mean'])\n",
    "top_10.columns = ['number_of_ads', 'square_metre_price_mean']\n",
    "top_10.sort_values(by='number_of_ads', ascending=False).head(10)"
   ]
  },
  {
   "cell_type": "code",
   "execution_count": 148,
   "metadata": {},
   "outputs": [
    {
     "name": "stdout",
     "output_type": "stream",
     "text": [
      "Самая высокая цена\n"
     ]
    },
    {
     "data": {
      "text/html": [
       "<div>\n",
       "<style scoped>\n",
       "    .dataframe tbody tr th:only-of-type {\n",
       "        vertical-align: middle;\n",
       "    }\n",
       "\n",
       "    .dataframe tbody tr th {\n",
       "        vertical-align: top;\n",
       "    }\n",
       "\n",
       "    .dataframe thead th {\n",
       "        text-align: right;\n",
       "    }\n",
       "</style>\n",
       "<table border=\"1\" class=\"dataframe\">\n",
       "  <thead>\n",
       "    <tr style=\"text-align: right;\">\n",
       "      <th></th>\n",
       "      <th>number_of_ads</th>\n",
       "      <th>square_metre_price_mean</th>\n",
       "    </tr>\n",
       "    <tr>\n",
       "      <th>locality_name</th>\n",
       "      <th></th>\n",
       "      <th></th>\n",
       "    </tr>\n",
       "  </thead>\n",
       "  <tbody>\n",
       "    <tr>\n",
       "      <td>Зеленогорск</td>\n",
       "      <td>24</td>\n",
       "      <td>115122.500000</td>\n",
       "    </tr>\n",
       "    <tr>\n",
       "      <td>Санкт-Петербург</td>\n",
       "      <td>15721</td>\n",
       "      <td>114848.565231</td>\n",
       "    </tr>\n",
       "    <tr>\n",
       "      <td>посёлок Репино</td>\n",
       "      <td>4</td>\n",
       "      <td>104238.500000</td>\n",
       "    </tr>\n",
       "    <tr>\n",
       "      <td>Пушкин</td>\n",
       "      <td>369</td>\n",
       "      <td>103125.373984</td>\n",
       "    </tr>\n",
       "    <tr>\n",
       "      <td>Сестрорецк</td>\n",
       "      <td>183</td>\n",
       "      <td>101757.163934</td>\n",
       "    </tr>\n",
       "  </tbody>\n",
       "</table>\n",
       "</div>"
      ],
      "text/plain": [
       "                 number_of_ads  square_metre_price_mean\n",
       "locality_name                                          \n",
       "Зеленогорск                 24            115122.500000\n",
       "Санкт-Петербург          15721            114848.565231\n",
       "посёлок Репино               4            104238.500000\n",
       "Пушкин                     369            103125.373984\n",
       "Сестрорецк                 183            101757.163934"
      ]
     },
     "execution_count": 148,
     "metadata": {},
     "output_type": "execute_result"
    },
    {
     "name": "stdout",
     "output_type": "stream",
     "text": [
      "\n",
      "\n",
      "Самая низкая цена\n"
     ]
    },
    {
     "data": {
      "text/html": [
       "<div>\n",
       "<style scoped>\n",
       "    .dataframe tbody tr th:only-of-type {\n",
       "        vertical-align: middle;\n",
       "    }\n",
       "\n",
       "    .dataframe tbody tr th {\n",
       "        vertical-align: top;\n",
       "    }\n",
       "\n",
       "    .dataframe thead th {\n",
       "        text-align: right;\n",
       "    }\n",
       "</style>\n",
       "<table border=\"1\" class=\"dataframe\">\n",
       "  <thead>\n",
       "    <tr style=\"text-align: right;\">\n",
       "      <th></th>\n",
       "      <th>number_of_ads</th>\n",
       "      <th>square_metre_price_mean</th>\n",
       "    </tr>\n",
       "    <tr>\n",
       "      <th>locality_name</th>\n",
       "      <th></th>\n",
       "      <th></th>\n",
       "    </tr>\n",
       "  </thead>\n",
       "  <tbody>\n",
       "    <tr>\n",
       "      <td>посёлок Совхозный</td>\n",
       "      <td>2</td>\n",
       "      <td>12628.5</td>\n",
       "    </tr>\n",
       "    <tr>\n",
       "      <td>деревня Выскатка</td>\n",
       "      <td>2</td>\n",
       "      <td>12335.0</td>\n",
       "    </tr>\n",
       "    <tr>\n",
       "      <td>деревня Вахнова Кара</td>\n",
       "      <td>1</td>\n",
       "      <td>11688.0</td>\n",
       "    </tr>\n",
       "    <tr>\n",
       "      <td>посёлок станции Свирь</td>\n",
       "      <td>2</td>\n",
       "      <td>11481.0</td>\n",
       "    </tr>\n",
       "    <tr>\n",
       "      <td>деревня Старополье</td>\n",
       "      <td>3</td>\n",
       "      <td>11206.0</td>\n",
       "    </tr>\n",
       "  </tbody>\n",
       "</table>\n",
       "</div>"
      ],
      "text/plain": [
       "                       number_of_ads  square_metre_price_mean\n",
       "locality_name                                                \n",
       "посёлок Совхозный                  2                  12628.5\n",
       "деревня Выскатка                   2                  12335.0\n",
       "деревня Вахнова Кара               1                  11688.0\n",
       "посёлок станции Свирь              2                  11481.0\n",
       "деревня Старополье                 3                  11206.0"
      ]
     },
     "execution_count": 148,
     "metadata": {},
     "output_type": "execute_result"
    }
   ],
   "source": [
    "#Населённые пункты с самой высокой и низкой стоимостью жилья;\n",
    "print('Самая высокая цена')\n",
    "top_10.sort_values(by=('square_metre_price_mean'), ascending = False).head()\n",
    "print()\n",
    "print()\n",
    "print('Самая низкая цена')\n",
    "top_10.sort_values(by=('square_metre_price_mean'), ascending = False).tail()"
   ]
  },
  {
   "cell_type": "markdown",
   "metadata": {},
   "source": [
    "10 нас.пунктов с **наибольшим числом объявлений**:\n",
    "- Санкт-Петербург (15721)\n",
    "- посёлок Мурино\t(556)\n",
    "- посёлок Шушары\t(440)\n",
    "- Всеволожск\t(398)\n",
    "- Пушкин\t(369)\n",
    "- Колпино\t(338)\n",
    "- посёлок Парголово (327)\n",
    "- Гатчина\t(307)\n",
    "- деревня Кудрово\t(299)\n",
    "- Выборг (237)\n",
    "\n",
    "Цена квадратного метра в них варьируется от 114848 (в Санкт-Петербурге) до 58141 (Выборг).\n",
    "\n",
    "Самая **высокая цена** в **Зеленогорске** (115122), **Санкт-Петербурге** (114848) и **посёлке Репино** (104238).\n",
    "\n",
    "Самая **низкая** - в **деревне Вахнова Кара** (11688), **посёлке-станции Свирь** (11481) и **деревне Старополье** (11206)."
   ]
  },
  {
   "cell_type": "markdown",
   "metadata": {},
   "source": [
    "### 5. Квартиры в Санкт-Петербурге vs квартиры в центре Санкт-Петербурга"
   ]
  },
  {
   "cell_type": "code",
   "execution_count": 149,
   "metadata": {},
   "outputs": [
    {
     "name": "stdout",
     "output_type": "stream",
     "text": [
      "<class 'pandas.core.frame.DataFrame'>\n",
      "Int64Index: 15721 entries, 0 to 23697\n",
      "Data columns (total 22 columns):\n",
      "last_price              15721 non-null int64\n",
      "total_area              15721 non-null float64\n",
      "first_day_exposition    15721 non-null object\n",
      "rooms                   15721 non-null int64\n",
      "ceiling_height          15721 non-null float64\n",
      "floors_total            15721 non-null int64\n",
      "living_area             15721 non-null float64\n",
      "floor                   15721 non-null int64\n",
      "kitchen_area            15721 non-null float64\n",
      "locality_name           15721 non-null category\n",
      "cityCenters_nearest     15721 non-null int64\n",
      "days_exposition         13638 non-null float64\n",
      "living_total_ratio      15721 non-null float64\n",
      "kitchen_total_ratio     15721 non-null float64\n",
      "date                    15721 non-null datetime64[ns]\n",
      "weekday                 15721 non-null category\n",
      "weekday_name            15721 non-null category\n",
      "month                   15721 non-null category\n",
      "month_name              15721 non-null category\n",
      "year                    15721 non-null category\n",
      "square_metre_price      15721 non-null int64\n",
      "floor_category          15721 non-null category\n",
      "dtypes: category(7), datetime64[ns](1), float64(7), int64(6), object(1)\n",
      "memory usage: 2.1+ MB\n"
     ]
    }
   ],
   "source": [
    "#Выделим квартиры в Санкт-Петербурге\n",
    "spb_flats = df[df.locality_name =='Санкт-Петербург'].copy()\n",
    "spb_flats.info()"
   ]
  },
  {
   "cell_type": "markdown",
   "metadata": {},
   "source": [
    "#### Какая область входит в центр?"
   ]
  },
  {
   "cell_type": "code",
   "execution_count": 150,
   "metadata": {},
   "outputs": [
    {
     "data": {
      "text/plain": [
       "array([16, 13,  6,  8, 11, 15, 14, 10, 12,  9,  2,  3,  4,  7,  5, 21, 17,\n",
       "        1, 24, 25, 23, 20,  0, 22, 18, 27, 28, 19, 26, 29])"
      ]
     },
     "execution_count": 150,
     "metadata": {},
     "output_type": "execute_result"
    },
    {
     "data": {
      "text/plain": [
       "to_centre_km\n",
       "0     23442315.44\n",
       "1     18850851.66\n",
       "2     16163313.62\n",
       "3     13436830.55\n",
       "4     13632024.64\n",
       "5     15306121.12\n",
       "6     14389106.19\n",
       "7     12797673.74\n",
       "8      8445272.00\n",
       "9      6426054.86\n",
       "10     6376091.67\n",
       "11     5977038.98\n",
       "12     6349055.96\n",
       "13     6022926.61\n",
       "14     5769469.04\n",
       "15     5545776.11\n",
       "16     5527927.70\n",
       "17     4865574.00\n",
       "18     5334928.79\n",
       "19     4678755.67\n",
       "20     6365864.20\n",
       "21     5183239.25\n",
       "22     5425513.32\n",
       "23     4126866.67\n",
       "24     3862235.00\n",
       "25     4014913.35\n",
       "26     3575000.00\n",
       "27     8300000.00\n",
       "28     4910500.00\n",
       "29     3833333.33\n",
       "Name: last_price, dtype: float64"
      ]
     },
     "execution_count": 150,
     "metadata": {},
     "output_type": "execute_result"
    }
   ],
   "source": [
    "#Создадим столбец с расстоянием до центра в километрах и округлим до целых значений. \n",
    "spb_flats['to_centre_km'] = (spb_flats.cityCenters_nearest / 1000).astype(int)\n",
    "spb_flats.to_centre_km.unique()\n",
    "\n",
    "#Посчитаем среднюю цену для каждого километра\n",
    "price_over_distance = spb_flats.groupby('to_centre_km')['last_price'].mean()\n",
    "price_over_distance = price_over_distance.round(2)\n",
    "price_over_distance"
   ]
  },
  {
   "cell_type": "code",
   "execution_count": 151,
   "metadata": {},
   "outputs": [
    {
     "data": {
      "text/plain": [
       "<matplotlib.axes._subplots.AxesSubplot at 0x7f7636ea9b10>"
      ]
     },
     "execution_count": 151,
     "metadata": {},
     "output_type": "execute_result"
    },
    {
     "data": {
      "image/png": "[encoded data removed]",
      "text/plain": [
       "<Figure size 1080x360 with 1 Axes>"
      ]
     },
     "metadata": {
      "needs_background": "light"
     },
     "output_type": "display_data"
    }
   ],
   "source": [
    "#Постройте график: как цена зависит от удалённости от центра (где график сильно меняется — это и будет центральная зона.) \n",
    "#Выделите сегмент квартир в центре. \n",
    "ticks = list(range(30))\n",
    "price_over_distance.plot(figsize=(15,5), title='price_over_distance', grid=True, xticks=ticks)"
   ]
  },
  {
   "cell_type": "markdown",
   "metadata": {},
   "source": [
    "График показывает, что рост цен начинает активно увеличиваться на **8м км**, возьмем его за границу центра."
   ]
  },
  {
   "cell_type": "markdown",
   "metadata": {},
   "source": [
    "#### Сравнение квартир в центре и по остальной части города"
   ]
  },
  {
   "cell_type": "code",
   "execution_count": 152,
   "metadata": {},
   "outputs": [],
   "source": [
    "#Сделаем срезы для центра города и остального города\n",
    "spb_centre = spb_flats.query('to_centre_km <= 8')\n",
    "spb_not_centre = spb_flats.query('to_centre_km > 8')"
   ]
  },
  {
   "cell_type": "markdown",
   "metadata": {},
   "source": [
    "#### Площадь, цена, число комнат, высота потолков"
   ]
  },
  {
   "cell_type": "code",
   "execution_count": 153,
   "metadata": {
    "scrolled": false
   },
   "outputs": [
    {
     "data": {
      "text/plain": [
       "<matplotlib.axes._subplots.AxesSubplot at 0x7f7636debd10>"
      ]
     },
     "execution_count": 153,
     "metadata": {},
     "output_type": "execute_result"
    },
    {
     "data": {
      "image/png": "[encoded data removed]",
      "text/plain": [
       "<Figure size 1080x432 with 1 Axes>"
      ]
     },
     "metadata": {
      "needs_background": "light"
     },
     "output_type": "display_data"
    },
    {
     "name": "stdout",
     "output_type": "stream",
     "text": [
      "Статистика по центру\n"
     ]
    },
    {
     "data": {
      "text/plain": [
       "count    4382.000000\n",
       "mean       88.570032\n",
       "std        57.929565\n",
       "min        12.000000\n",
       "25%        53.225000\n",
       "50%        75.000000\n",
       "75%       104.840000\n",
       "max       900.000000\n",
       "Name: total_area, dtype: float64"
      ]
     },
     "execution_count": 153,
     "metadata": {},
     "output_type": "execute_result"
    },
    {
     "name": "stdout",
     "output_type": "stream",
     "text": [
      "Статистика по остальной части\n"
     ]
    },
    {
     "data": {
      "text/plain": [
       "count    11339.000000\n",
       "mean        55.546721\n",
       "std         25.771950\n",
       "min         13.000000\n",
       "25%         39.300000\n",
       "50%         49.900000\n",
       "75%         64.700000\n",
       "max        470.300000\n",
       "Name: total_area, dtype: float64"
      ]
     },
     "execution_count": 153,
     "metadata": {},
     "output_type": "execute_result"
    },
    {
     "data": {
      "text/plain": [
       "<matplotlib.axes._subplots.AxesSubplot at 0x7f7636d9d510>"
      ]
     },
     "execution_count": 153,
     "metadata": {},
     "output_type": "execute_result"
    },
    {
     "data": {
      "image/png": "[encoded data removed]",
      "text/plain": [
       "<Figure size 1080x432 with 1 Axes>"
      ]
     },
     "metadata": {
      "needs_background": "light"
     },
     "output_type": "display_data"
    },
    {
     "name": "stdout",
     "output_type": "stream",
     "text": [
      "Статистика по центру\n"
     ]
    },
    {
     "data": {
      "text/plain": [
       "count    4.382000e+03\n",
       "mean     1.376875e+07\n",
       "std      2.296136e+07\n",
       "min      1.600000e+06\n",
       "25%      6.207104e+06\n",
       "50%      8.707500e+06\n",
       "75%      1.350000e+07\n",
       "max      7.630000e+08\n",
       "Name: last_price, dtype: float64"
      ]
     },
     "execution_count": 153,
     "metadata": {},
     "output_type": "execute_result"
    },
    {
     "name": "stdout",
     "output_type": "stream",
     "text": [
      "Статистика по остальной части\n"
     ]
    },
    {
     "data": {
      "text/plain": [
       "count    1.133900e+04\n",
       "mean     5.857307e+06\n",
       "std      3.690932e+06\n",
       "min      1.219000e+04\n",
       "25%      3.950000e+06\n",
       "50%      4.900000e+06\n",
       "75%      6.500000e+06\n",
       "max      1.300000e+08\n",
       "Name: last_price, dtype: float64"
      ]
     },
     "execution_count": 153,
     "metadata": {},
     "output_type": "execute_result"
    },
    {
     "data": {
      "text/plain": [
       "<matplotlib.axes._subplots.AxesSubplot at 0x7f7636d68150>"
      ]
     },
     "execution_count": 153,
     "metadata": {},
     "output_type": "execute_result"
    },
    {
     "data": {
      "image/png": "[encoded data removed]",
      "text/plain": [
       "<Figure size 1080x432 with 1 Axes>"
      ]
     },
     "metadata": {
      "needs_background": "light"
     },
     "output_type": "display_data"
    },
    {
     "name": "stdout",
     "output_type": "stream",
     "text": [
      "Статистика по центру\n"
     ]
    },
    {
     "data": {
      "text/plain": [
       "count    4382.000000\n",
       "mean        2.720904\n",
       "std         1.410307\n",
       "min         0.000000\n",
       "25%         2.000000\n",
       "50%         3.000000\n",
       "75%         3.000000\n",
       "max        19.000000\n",
       "Name: rooms, dtype: float64"
      ]
     },
     "execution_count": 153,
     "metadata": {},
     "output_type": "execute_result"
    },
    {
     "name": "stdout",
     "output_type": "stream",
     "text": [
      "Статистика по остальной части\n"
     ]
    },
    {
     "data": {
      "text/plain": [
       "count    11339.000000\n",
       "mean         1.959344\n",
       "std          0.947290\n",
       "min          0.000000\n",
       "25%          1.000000\n",
       "50%          2.000000\n",
       "75%          3.000000\n",
       "max         10.000000\n",
       "Name: rooms, dtype: float64"
      ]
     },
     "execution_count": 153,
     "metadata": {},
     "output_type": "execute_result"
    },
    {
     "data": {
      "text/plain": [
       "<matplotlib.axes._subplots.AxesSubplot at 0x7f7636c64050>"
      ]
     },
     "execution_count": 153,
     "metadata": {},
     "output_type": "execute_result"
    },
    {
     "data": {
      "image/png": "[encoded data removed]",
      "text/plain": [
       "<Figure size 1080x432 with 1 Axes>"
      ]
     },
     "metadata": {
      "needs_background": "light"
     },
     "output_type": "display_data"
    },
    {
     "name": "stdout",
     "output_type": "stream",
     "text": [
      "Статистика по центру\n"
     ]
    },
    {
     "data": {
      "text/plain": [
       "count    4382.000000\n",
       "mean        2.971074\n",
       "std         0.381277\n",
       "min         2.000000\n",
       "25%         2.650000\n",
       "50%         3.000000\n",
       "75%         3.160000\n",
       "max        10.000000\n",
       "Name: ceiling_height, dtype: float64"
      ]
     },
     "execution_count": 153,
     "metadata": {},
     "output_type": "execute_result"
    },
    {
     "name": "stdout",
     "output_type": "stream",
     "text": [
      "Статистика по остальной части\n"
     ]
    },
    {
     "data": {
      "text/plain": [
       "count    11339.000000\n",
       "mean         2.659800\n",
       "std          0.240916\n",
       "min          1.000000\n",
       "25%          2.550000\n",
       "50%          2.640000\n",
       "75%          2.730000\n",
       "max         14.000000\n",
       "Name: ceiling_height, dtype: float64"
      ]
     },
     "execution_count": 153,
     "metadata": {},
     "output_type": "execute_result"
    }
   ],
   "source": [
    "#Название необходимых столбцов у нам уже сохранено в переменно cols_hist\n",
    "#Воспользуеся ей для цикла, с помощью которого построим гистограммы обеих территорий и выведем статистику\n",
    "for col in cols_hist:\n",
    "    ax = spb_centre[col].plot(kind='hist', histtype='step', bins=150,\n",
    "                              linewidth=2, alpha=0.7,  title=col, label='centre', legend=True)\n",
    "    spb_not_centre[col].plot(kind='hist', histtype='step', bins=150, title=col,\n",
    "                              linewidth=2, alpha=0.7, label='no centre', ax=ax, \n",
    "                              grid=True, legend=True, figsize=(15, 6))\n",
    "    plt.show()\n",
    "    print('Статистика по центру')\n",
    "    spb_centre[col].describe()\n",
    "    print('Статистика по остальной части')\n",
    "    spb_not_centre[col].describe()\n"
   ]
  },
  {
   "cell_type": "markdown",
   "metadata": {},
   "source": [
    "#### Вывод"
   ]
  },
  {
   "cell_type": "markdown",
   "metadata": {},
   "source": [
    "**Площадь**: _площадь квартир в центре больше_ (75 кв.м медиана), чем не в центре (49). Также разброс данных площади в центре больше (стан.отклонение 57 - в два раза больше, чем не в центре). В центре же находится самая большая квартира в 900 кв.м.\n",
    "\n",
    "**Стоимость**: стоимость квартир в центре колеблется от 1.6 млн до 763 млн (самая дорогая квартира датасета), не в центре - от 1.2 млн до 130. Медиана стоимости квартир в центре - 8 млн, а в другой части города - 4.9, соответственно, _в среднем квартира в центре почти в два раза дороже_. Тут же находятся много дорогих квартир, о чем говорит повышенное среднее 13.7 млн.\n",
    "\n",
    "**Число комнат**: _в центре_ в основном квартиры с 3мя комнатами (медиана), вне центра - с 2мя, соответственно _комнат больше_. Максимальное количество комнат в центре - 19, вне центра - 10. \n",
    "\n",
    "**Высота потолков**: в центре медианное значение потолков - 3м, вне центра - 2.64, соответственно, _в центре потолки выше_. Однако квартиры с самыми высокими потолками (14 м) находятся не в центре."
   ]
  },
  {
   "cell_type": "markdown",
   "metadata": {},
   "source": [
    "#### Влияние числа комнат, этажа, удалённости от центра на стоимость"
   ]
  },
  {
   "cell_type": "code",
   "execution_count": 154,
   "metadata": {},
   "outputs": [
    {
     "name": "stdout",
     "output_type": "stream",
     "text": [
      "Для центра\n"
     ]
    },
    {
     "data": {
      "text/html": [
       "<div>\n",
       "<style scoped>\n",
       "    .dataframe tbody tr th:only-of-type {\n",
       "        vertical-align: middle;\n",
       "    }\n",
       "\n",
       "    .dataframe tbody tr th {\n",
       "        vertical-align: top;\n",
       "    }\n",
       "\n",
       "    .dataframe thead th {\n",
       "        text-align: right;\n",
       "    }\n",
       "</style>\n",
       "<table border=\"1\" class=\"dataframe\">\n",
       "  <thead>\n",
       "    <tr style=\"text-align: right;\">\n",
       "      <th></th>\n",
       "      <th>last_price</th>\n",
       "      <th>rooms</th>\n",
       "      <th>floor</th>\n",
       "      <th>cityCenters_nearest</th>\n",
       "    </tr>\n",
       "  </thead>\n",
       "  <tbody>\n",
       "    <tr>\n",
       "      <td>last_price</td>\n",
       "      <td>1.000000</td>\n",
       "      <td>0.345090</td>\n",
       "      <td>0.106710</td>\n",
       "      <td>-0.100291</td>\n",
       "    </tr>\n",
       "    <tr>\n",
       "      <td>rooms</td>\n",
       "      <td>0.345090</td>\n",
       "      <td>1.000000</td>\n",
       "      <td>-0.054891</td>\n",
       "      <td>-0.227548</td>\n",
       "    </tr>\n",
       "    <tr>\n",
       "      <td>floor</td>\n",
       "      <td>0.106710</td>\n",
       "      <td>-0.054891</td>\n",
       "      <td>1.000000</td>\n",
       "      <td>0.254567</td>\n",
       "    </tr>\n",
       "    <tr>\n",
       "      <td>cityCenters_nearest</td>\n",
       "      <td>-0.100291</td>\n",
       "      <td>-0.227548</td>\n",
       "      <td>0.254567</td>\n",
       "      <td>1.000000</td>\n",
       "    </tr>\n",
       "  </tbody>\n",
       "</table>\n",
       "</div>"
      ],
      "text/plain": [
       "                     last_price     rooms     floor  cityCenters_nearest\n",
       "last_price             1.000000  0.345090  0.106710            -0.100291\n",
       "rooms                  0.345090  1.000000 -0.054891            -0.227548\n",
       "floor                  0.106710 -0.054891  1.000000             0.254567\n",
       "cityCenters_nearest   -0.100291 -0.227548  0.254567             1.000000"
      ]
     },
     "execution_count": 154,
     "metadata": {},
     "output_type": "execute_result"
    },
    {
     "name": "stdout",
     "output_type": "stream",
     "text": [
      "\n",
      "Для нецентра\n"
     ]
    },
    {
     "data": {
      "text/html": [
       "<div>\n",
       "<style scoped>\n",
       "    .dataframe tbody tr th:only-of-type {\n",
       "        vertical-align: middle;\n",
       "    }\n",
       "\n",
       "    .dataframe tbody tr th {\n",
       "        vertical-align: top;\n",
       "    }\n",
       "\n",
       "    .dataframe thead th {\n",
       "        text-align: right;\n",
       "    }\n",
       "</style>\n",
       "<table border=\"1\" class=\"dataframe\">\n",
       "  <thead>\n",
       "    <tr style=\"text-align: right;\">\n",
       "      <th></th>\n",
       "      <th>last_price</th>\n",
       "      <th>rooms</th>\n",
       "      <th>floor</th>\n",
       "      <th>cityCenters_nearest</th>\n",
       "    </tr>\n",
       "  </thead>\n",
       "  <tbody>\n",
       "    <tr>\n",
       "      <td>last_price</td>\n",
       "      <td>1.000000</td>\n",
       "      <td>0.490818</td>\n",
       "      <td>0.113934</td>\n",
       "      <td>-0.109881</td>\n",
       "    </tr>\n",
       "    <tr>\n",
       "      <td>rooms</td>\n",
       "      <td>0.490818</td>\n",
       "      <td>1.000000</td>\n",
       "      <td>-0.127543</td>\n",
       "      <td>-0.044115</td>\n",
       "    </tr>\n",
       "    <tr>\n",
       "      <td>floor</td>\n",
       "      <td>0.113934</td>\n",
       "      <td>-0.127543</td>\n",
       "      <td>1.000000</td>\n",
       "      <td>0.052162</td>\n",
       "    </tr>\n",
       "    <tr>\n",
       "      <td>cityCenters_nearest</td>\n",
       "      <td>-0.109881</td>\n",
       "      <td>-0.044115</td>\n",
       "      <td>0.052162</td>\n",
       "      <td>1.000000</td>\n",
       "    </tr>\n",
       "  </tbody>\n",
       "</table>\n",
       "</div>"
      ],
      "text/plain": [
       "                     last_price     rooms     floor  cityCenters_nearest\n",
       "last_price             1.000000  0.490818  0.113934            -0.109881\n",
       "rooms                  0.490818  1.000000 -0.127543            -0.044115\n",
       "floor                  0.113934 -0.127543  1.000000             0.052162\n",
       "cityCenters_nearest   -0.109881 -0.044115  0.052162             1.000000"
      ]
     },
     "execution_count": 154,
     "metadata": {},
     "output_type": "execute_result"
    }
   ],
   "source": [
    "#Выделим названия столбцов для создания матрицы корреляций и построим её\n",
    "centre_features = ['last_price', 'rooms', 'floor', 'cityCenters_nearest']\n",
    "\n",
    "print('Для центра')\n",
    "spb_centre[centre_features].corr()\n",
    "print()\n",
    "print('Для нецентра')\n",
    "spb_not_centre[centre_features].corr()"
   ]
  },
  {
   "cell_type": "markdown",
   "metadata": {},
   "source": [
    "#### Вывод"
   ]
  },
  {
   "cell_type": "markdown",
   "metadata": {},
   "source": [
    "В целом коэффициенты корреляции почти не отличаются. Корреляции между ценой и этажом и удаленностью слабые. *Положительная корреляция между стоимостью квартиры и количеством комнат (0.49) для нецентра выражена сильнее, чем в центре (0.34)*. "
   ]
  },
  {
   "cell_type": "markdown",
   "metadata": {},
   "source": [
    "#### Влияние даты размещения объявления на стоимость"
   ]
  },
  {
   "cell_type": "code",
   "execution_count": 155,
   "metadata": {},
   "outputs": [
    {
     "data": {
      "text/html": [
       "<div>\n",
       "<style scoped>\n",
       "    .dataframe tbody tr th:only-of-type {\n",
       "        vertical-align: middle;\n",
       "    }\n",
       "\n",
       "    .dataframe tbody tr th {\n",
       "        vertical-align: top;\n",
       "    }\n",
       "\n",
       "    .dataframe thead th {\n",
       "        text-align: right;\n",
       "    }\n",
       "</style>\n",
       "<table border=\"1\" class=\"dataframe\">\n",
       "  <thead>\n",
       "    <tr style=\"text-align: right;\">\n",
       "      <th></th>\n",
       "      <th>date</th>\n",
       "      <th>month_name</th>\n",
       "      <th>weekday_name</th>\n",
       "      <th>year</th>\n",
       "      <th>last_price</th>\n",
       "      <th>to_centre_km</th>\n",
       "      <th>centre_category</th>\n",
       "    </tr>\n",
       "  </thead>\n",
       "  <tbody>\n",
       "    <tr>\n",
       "      <td>0</td>\n",
       "      <td>2019-03-07</td>\n",
       "      <td>March</td>\n",
       "      <td>Thursday</td>\n",
       "      <td>2019</td>\n",
       "      <td>13000000</td>\n",
       "      <td>16</td>\n",
       "      <td>не центр</td>\n",
       "    </tr>\n",
       "    <tr>\n",
       "      <td>2</td>\n",
       "      <td>2015-08-20</td>\n",
       "      <td>August</td>\n",
       "      <td>Thursday</td>\n",
       "      <td>2015</td>\n",
       "      <td>5196000</td>\n",
       "      <td>13</td>\n",
       "      <td>не центр</td>\n",
       "    </tr>\n",
       "    <tr>\n",
       "      <td>3</td>\n",
       "      <td>2015-07-24</td>\n",
       "      <td>July</td>\n",
       "      <td>Friday</td>\n",
       "      <td>2015</td>\n",
       "      <td>64900000</td>\n",
       "      <td>6</td>\n",
       "      <td>центр</td>\n",
       "    </tr>\n",
       "    <tr>\n",
       "      <td>4</td>\n",
       "      <td>2018-06-19</td>\n",
       "      <td>June</td>\n",
       "      <td>Tuesday</td>\n",
       "      <td>2018</td>\n",
       "      <td>10000000</td>\n",
       "      <td>8</td>\n",
       "      <td>центр</td>\n",
       "    </tr>\n",
       "    <tr>\n",
       "      <td>7</td>\n",
       "      <td>2019-04-18</td>\n",
       "      <td>April</td>\n",
       "      <td>Thursday</td>\n",
       "      <td>2019</td>\n",
       "      <td>7915000</td>\n",
       "      <td>11</td>\n",
       "      <td>не центр</td>\n",
       "    </tr>\n",
       "  </tbody>\n",
       "</table>\n",
       "</div>"
      ],
      "text/plain": [
       "        date month_name weekday_name  year  last_price  to_centre_km  \\\n",
       "0 2019-03-07      March     Thursday  2019    13000000            16   \n",
       "2 2015-08-20     August     Thursday  2015     5196000            13   \n",
       "3 2015-07-24       July       Friday  2015    64900000             6   \n",
       "4 2018-06-19       June      Tuesday  2018    10000000             8   \n",
       "7 2019-04-18      April     Thursday  2019     7915000            11   \n",
       "\n",
       "  centre_category  \n",
       "0        не центр  \n",
       "2        не центр  \n",
       "3           центр  \n",
       "4           центр  \n",
       "7        не центр  "
      ]
     },
     "execution_count": 155,
     "metadata": {},
     "output_type": "execute_result"
    }
   ],
   "source": [
    "#Создадим отдельный датафрей, добавим столбец категории центр/не центр\n",
    "spb_flats_date = spb_flats[['date', 'month_name', 'weekday_name', 'year', 'last_price', 'to_centre_km']].copy()\n",
    "\n",
    "def cent_dist(col):\n",
    "    '''\n",
    "    Функция принимает значение столбца и сравнивает его с определенными рамками значений\n",
    "    '''\n",
    "    if col <= 8:\n",
    "        return 'центр'\n",
    "    else:\n",
    "        return 'не центр'\n",
    "\n",
    "spb_flats_date['centre_category'] = spb_flats_date.to_centre_km.apply(cent_dist).astype('category')    \n",
    "\n",
    "#Посмотрим\n",
    "spb_flats_date.head()"
   ]
  },
  {
   "cell_type": "markdown",
   "metadata": {},
   "source": [
    "#### Год"
   ]
  },
  {
   "cell_type": "code",
   "execution_count": 156,
   "metadata": {},
   "outputs": [
    {
     "data": {
      "text/plain": [
       "<Figure size 936x504 with 0 Axes>"
      ]
     },
     "execution_count": 156,
     "metadata": {},
     "output_type": "execute_result"
    },
    {
     "data": {
      "text/plain": [
       "[(0, 36000000)]"
      ]
     },
     "execution_count": 156,
     "metadata": {},
     "output_type": "execute_result"
    },
    {
     "data": {
      "image/png": "[encoded data removed]",
      "text/plain": [
       "<Figure size 936x504 with 1 Axes>"
      ]
     },
     "metadata": {
      "needs_background": "light"
     },
     "output_type": "display_data"
    }
   ],
   "source": [
    "#Построим boxplot для сравнения цен относительно года\n",
    "plt.figure(figsize=(13, 7))\n",
    "g = sns.boxplot(x='last_price', y='year', data=spb_flats_date, fliersize=3, hue='centre_category')\n",
    "g.set(xlim=(0, 36000000))"
   ]
  },
  {
   "cell_type": "markdown",
   "metadata": {},
   "source": [
    "В целом разницы не видно, а зависимости те же, что на всех данных - высокие цены в 2014 году, затем спад и небольшой рост в 2019. "
   ]
  },
  {
   "cell_type": "markdown",
   "metadata": {},
   "source": [
    "#### Месяц"
   ]
  },
  {
   "cell_type": "code",
   "execution_count": 157,
   "metadata": {},
   "outputs": [
    {
     "data": {
      "text/plain": [
       "<Figure size 936x720 with 0 Axes>"
      ]
     },
     "execution_count": 157,
     "metadata": {},
     "output_type": "execute_result"
    },
    {
     "data": {
      "text/plain": [
       "[(0, 36000000)]"
      ]
     },
     "execution_count": 157,
     "metadata": {},
     "output_type": "execute_result"
    },
    {
     "data": {
      "image/png": "[encoded data removed]",
      "text/plain": [
       "<Figure size 936x720 with 1 Axes>"
      ]
     },
     "metadata": {
      "needs_background": "light"
     },
     "output_type": "display_data"
    }
   ],
   "source": [
    "#Построим boxplot\n",
    "plt.figure(figsize=(13, 10))\n",
    "g = sns.boxplot(x='last_price', y='month_name', data=spb_flats_date, fliersize=3, \n",
    "                hue='centre_category', order=months)\n",
    "g.set(xlim=(0, 36000000))"
   ]
  },
  {
   "cell_type": "markdown",
   "metadata": {},
   "source": [
    "Видна небольшая разница в варьировании медианных значений в зависимости от месяца - в центре они варьируются больше, и в апреле, июне, октябре и декабре медианная стоимость несколько ниже, чем в остальных месяцах."
   ]
  },
  {
   "cell_type": "markdown",
   "metadata": {},
   "source": [
    "#### День недели"
   ]
  },
  {
   "cell_type": "code",
   "execution_count": 158,
   "metadata": {},
   "outputs": [
    {
     "data": {
      "text/plain": [
       "<Figure size 936x504 with 0 Axes>"
      ]
     },
     "execution_count": 158,
     "metadata": {},
     "output_type": "execute_result"
    },
    {
     "data": {
      "text/plain": [
       "[(0, 36000000)]"
      ]
     },
     "execution_count": 158,
     "metadata": {},
     "output_type": "execute_result"
    },
    {
     "data": {
      "image/png": "[encoded data removed]",
      "text/plain": [
       "<Figure size 936x504 with 1 Axes>"
      ]
     },
     "metadata": {
      "needs_background": "light"
     },
     "output_type": "display_data"
    }
   ],
   "source": [
    "#Построим boxplot\n",
    "plt.figure(figsize=(13, 7))\n",
    "g = sns.boxplot(x='last_price', y='weekday_name', data=spb_flats_date, fliersize=3, \n",
    "                hue='centre_category', order=weekdays)\n",
    "g.set(xlim=(0, 36000000))"
   ]
  },
  {
   "cell_type": "markdown",
   "metadata": {},
   "source": [
    "Зависимости цены от дня недели не видно, медианы расположены близко относительно друг друга, хотя в центре они варьируются немного больше, чем не в центре. Во вторник и в субботу медианная стоимость в центре чуть ниже."
   ]
  },
  {
   "cell_type": "markdown",
   "metadata": {},
   "source": [
    "### Шаг 5. Общий вывод"
   ]
  },
  {
   "cell_type": "markdown",
   "metadata": {},
   "source": [
    "Был проанализирован архив объявлений о продаже квартир в Санкт-Петербурге и соседних населённых пунктов за несколько лет с целью научиться определять рыночную стоимость объектов недвижимости и определить параметры для построения автоматизированной системы, которая отследит аномалии и мошенническую деятельность.\n",
    "\n",
    "После предварительного осмотра данных были:\n",
    "- выделены необходимые столбцы и сохранены в отдельный датафрейм;\n",
    "- определены столбцы с отсутствующими значениями и заполнены пропуски (медианами с применением группировок данных);\n",
    "- добавлены необходимые столбцы (date, weekday, month, year, floor_category, square_metre_price, price_per_km, living_total_ratio, kitchen_total_ratio)\n",
    "- произведены замены типов данных (locality_name, weekday, month, year, floor_category - на тип category; first_day_exposition - в datetime; last_price, floors_total, cityCenters_nearest - на int);\n",
    "- построены гистограммы и изучены следующие параметры: площадь, цена, число комнат, высота потолков;\n",
    "- изучено время продажи квартиры и определены очень быстрые и долгие продажи;\n",
    "- определены, какие факторы больше всего влияют на стоимость квартиры;\n",
    "- определены 10 населённых пунктов с наибольшим числом объявлений, с самой высокой и низкой стоимостью жилья;\n",
    "- определена центральная область Санкт-Петербурга и изучен сегмент квартир в ней;\n",
    "- прозведено сравнение факторов, которые влияют на стоимость квартиры в центре и вне центра города.\n",
    "\n",
    "\n",
    "**Вывод**\n",
    "\n",
    "1. По всем данным\n",
    "   - площадь: 99% данных лежит в пределах от 12 до 197 кв. метров, при этом малое количество квартир уже имеют площадь более 125 кв. метров (95% квартир имеют площадь не более 116 кв.м). На графике видно, что значения \"вытягиваются\" вправо и в основном обрываются после 520 кв.м - срез данных показывает, что это многокомнатные квартиры (от 7ми комнат).\n",
    "   - цена: 90% данных лежит в пределах до 10.9 млн, далее идут сегменты: 11-17 млн, 17-70 млн, 70-100 млн, 110-160, и выбросы (160-180, 230-250, 290-300, 320, 400-420, 770).\n",
    "   - число комнат: 90% квартир имеют потолки не более 3х комнат. Далее идет пик на 6 комнатах, что, вероятно показывает другой тип квартир или определенное местоположение.\n",
    "   - высота потолков: 90% данных не превышает примерно 3 метров. Далее идут квартиры с потолками до примерно до 4,3. Потом - до 6, и дальше находятся выбросы, природа которых не очень понятна.\n",
    "\n",
    "\n",
    "2. Время продажи:\n",
    "   - среднее - 180 дней,  \n",
    "   - медиана - 95 дней, \n",
    "   - очень быстрые - меньше 3х дней\n",
    "   - долгие продажи- более 512 дней\n",
    "   - Особенности после удаления выбросов и пиков: гистограммы времени продажи существенно различаются, что соответствует тому, что размах \"очищенных данных\" сократился. Среднее время продажи уменьшилось с 180 до 135 дней, а медианное - только с 95 на 93.\n",
    "\n",
    "\n",
    "3. Больше всего влияют на стоимость квартиры: цена на квадратный метр (0.74 - корреляция выше средней), количество комнат (0.36 - слабая корреляция), местоположение (-0.27 - слабая отрицательная). \n",
    "Дата размещения: в 2014 году были наиболее высокие цены на квартиры, затем они снижались, в 2016-2018 были примерно на одном уровне и с 2019 года начали расти. Возможно данные за 2014 имеют какую-то особенность и требуют дальнейшего исследования. Зависимости цены от месяца или дня недели не выявлено, медианы расположены близко относительно друг друга.\n",
    "Этаж: квартиры на первом этаже стоят дешевле, на последнем - дороже, чем на первом, но дешевле, чем на остальных этажах. В целом квартиры на первом и последнем этаже стоят дешевле.\n",
    "\n",
    "\n",
    "4. По населенным пунктам:\n",
    "   - 10 населённых пунктов с наибольшим числом объявлений (цена кв. метра варьируется от 114848 (в Санкт-Петербурге) до 58141 (Выборге), \n",
    "      -  Санкт-Петербург (15721)\n",
    "      -  посёлок Мурино (556)\n",
    "      -  посёлок Шушары (440)\n",
    "      -  Всеволожск (398)\n",
    "      -  Пушкин (369)\n",
    "      -  Колпино (338)\n",
    "      -  посёлок Парголово (327)\n",
    "      - Гатчина (307)\n",
    "      -  деревня Кудрово (299)\n",
    "      -  Выборг (237)\n",
    "   - самая высокая цена в Зеленогорске (115122), Санкт-Петербурге (114848) и посёлке Репино (104238)  \n",
    "   - низкой стоимостью жилья - в деревне Вахнова Кара (11688), посёлке-станции Свирь (11481) и деревне Старополье (11206);\n",
    "\n",
    "\n",
    "5. Квартиры в центре Санкт-Петербурга: \n",
    "   - была определена граница на 8ми км;\n",
    "   - По сравнению с остальными квартирами в городе:\n",
    "       - *Площадь*: площадь квартир в центре больше (75 кв.м медиана), чем не в центре (49). Также разброс данных площади в центре больше (стан.отклонение 57 - в два раза больше, чем не в центре). В центре же находится самая большая квартира в 900 кв.м.\n",
    "\n",
    "       - *Стоимость*: стоимость квартир в центре колеблется от 1.6 млн до 763 млн (самая дорогая квартира датасета), не в центре - от 1.2 млн до 130. Медиана стоимости квартир в центре - 8 млн, а в другой части города - 4.9, соответственно, в среднем квартира в центре почти в два раза дороже. Тут же находятся много дорогих квартир, о чем говорит повышенное среднее 13.7 млн.\n",
    "\n",
    "       - *Число комнат*: в центре в основном квартиры с 3мя комнатами (медиана), вне центра - с 2мя, соответственно комнат больше. Максимальное количество комнат в центре - 19, вне центра - 10.\n",
    "\n",
    "       - *Высота потолков*: в центре медианное значение потолков - 3м, вне центра - 2.64, соответственно, в центре потолки выше. Однако квартиры с самыми высокими потолками (14 м) находятся не в центре.\n",
    "\n",
    "       - *Дата размещения*: зависимости от года те же, что на всех данных - высокие цены в 2014 году, затем спад и небольшой рост в 2019. Видна небольшая разница в варьировании медианных значений в зависимости от месяца - в центре они варьируются больше, и в апреле, июне, октябре и декабре медианная стоимость несколько ниже, чем в остальных месяцах. Зависимости цены от дня недели не видно, медианы расположены близко относительно друг друга, хотя в центре они варьируются немного больше, чем не в центре. Во вторник и в субботу медианная стоимость в центре чуть ниже."
   ]
  }
 ],
 "metadata": {
  "kernelspec": {
   "display_name": "Python 3",
   "language": "python",
   "name": "python3"
  },
  "language_info": {
   "codemirror_mode": {
    "name": "ipython",
    "version": 3
   },
   "file_extension": ".py",
   "mimetype": "text/x-python",
   "name": "python",
   "nbconvert_exporter": "python",
   "pygments_lexer": "ipython3",
   "version": "3.7.6"
  }
 },
 "nbformat": 4,
 "nbformat_minor": 2
}
