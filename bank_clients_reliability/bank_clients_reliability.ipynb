{
 "cells": [
  {
   "cell_type": "markdown",
   "metadata": {},
   "source": [
    "# Исследование надёжности заёмщиков "
   ]
  },
  {
   "cell_type": "markdown",
   "metadata": {},
   "source": [
    "**Заказчик** — кредитный отдел банка. Нужно разобраться, влияет ли семейное положение, количество детей клиента, уровень дохода и цель кредита на факт погашения кредита в срок. Входные данные от банка — статистика о платёжеспособности клиентов.\n",
    "\n",
    "Результаты исследования будут учтены при построении модели **кредитного скоринга** — специальной системы, которая оценивает способность потенциального заёмщика вернуть кредит банку."
   ]
  },
  {
   "cell_type": "markdown",
   "metadata": {},
   "source": [
    "## План работы\n",
    "- открыть файл и изучить общую информацию;\n",
    "- обработать пропуски;\n",
    "- заменить типы данных, где необходимо;\n",
    "- обработать дубликаты;\n",
    "- сделать лемматизацию данных;\n",
    "- сделать категоризацию данных;\n",
    "- провести анализ данных, ответить на поставленные вопросы;\n",
    "- сделать общий вывод."
   ]
  },
  {
   "cell_type": "markdown",
   "metadata": {},
   "source": [
    "### Шаг 1. Откройте файл с данными и изучите общую информацию. "
   ]
  },
  {
   "cell_type": "code",
   "execution_count": 1,
   "metadata": {},
   "outputs": [],
   "source": [
    "#Загрузим библиотеки\n",
    "import pandas as pd\n",
    "from pymystem3 import Mystem"
   ]
  },
  {
   "cell_type": "code",
   "execution_count": 2,
   "metadata": {},
   "outputs": [
    {
     "name": "stdout",
     "output_type": "stream",
     "text": [
      "<class 'pandas.core.frame.DataFrame'>\n",
      "RangeIndex: 21525 entries, 0 to 21524\n",
      "Data columns (total 12 columns):\n",
      "children            21525 non-null int64\n",
      "days_employed       19351 non-null float64\n",
      "dob_years           21525 non-null int64\n",
      "education           21525 non-null object\n",
      "education_id        21525 non-null int64\n",
      "family_status       21525 non-null object\n",
      "family_status_id    21525 non-null int64\n",
      "gender              21525 non-null object\n",
      "income_type         21525 non-null object\n",
      "debt                21525 non-null int64\n",
      "total_income        19351 non-null float64\n",
      "purpose             21525 non-null object\n",
      "dtypes: float64(2), int64(5), object(5)\n",
      "memory usage: 2.0+ MB\n"
     ]
    },
    {
     "data": {
      "text/html": [
       "<div>\n",
       "<style scoped>\n",
       "    .dataframe tbody tr th:only-of-type {\n",
       "        vertical-align: middle;\n",
       "    }\n",
       "\n",
       "    .dataframe tbody tr th {\n",
       "        vertical-align: top;\n",
       "    }\n",
       "\n",
       "    .dataframe thead th {\n",
       "        text-align: right;\n",
       "    }\n",
       "</style>\n",
       "<table border=\"1\" class=\"dataframe\">\n",
       "  <thead>\n",
       "    <tr style=\"text-align: right;\">\n",
       "      <th></th>\n",
       "      <th>children</th>\n",
       "      <th>days_employed</th>\n",
       "      <th>dob_years</th>\n",
       "      <th>education</th>\n",
       "      <th>education_id</th>\n",
       "      <th>family_status</th>\n",
       "      <th>family_status_id</th>\n",
       "      <th>gender</th>\n",
       "      <th>income_type</th>\n",
       "      <th>debt</th>\n",
       "      <th>total_income</th>\n",
       "      <th>purpose</th>\n",
       "    </tr>\n",
       "  </thead>\n",
       "  <tbody>\n",
       "    <tr>\n",
       "      <td>0</td>\n",
       "      <td>1</td>\n",
       "      <td>-8437.673028</td>\n",
       "      <td>42</td>\n",
       "      <td>высшее</td>\n",
       "      <td>0</td>\n",
       "      <td>женат / замужем</td>\n",
       "      <td>0</td>\n",
       "      <td>F</td>\n",
       "      <td>сотрудник</td>\n",
       "      <td>0</td>\n",
       "      <td>253875.639453</td>\n",
       "      <td>покупка жилья</td>\n",
       "    </tr>\n",
       "    <tr>\n",
       "      <td>1</td>\n",
       "      <td>1</td>\n",
       "      <td>-4024.803754</td>\n",
       "      <td>36</td>\n",
       "      <td>среднее</td>\n",
       "      <td>1</td>\n",
       "      <td>женат / замужем</td>\n",
       "      <td>0</td>\n",
       "      <td>F</td>\n",
       "      <td>сотрудник</td>\n",
       "      <td>0</td>\n",
       "      <td>112080.014102</td>\n",
       "      <td>приобретение автомобиля</td>\n",
       "    </tr>\n",
       "    <tr>\n",
       "      <td>2</td>\n",
       "      <td>0</td>\n",
       "      <td>-5623.422610</td>\n",
       "      <td>33</td>\n",
       "      <td>Среднее</td>\n",
       "      <td>1</td>\n",
       "      <td>женат / замужем</td>\n",
       "      <td>0</td>\n",
       "      <td>M</td>\n",
       "      <td>сотрудник</td>\n",
       "      <td>0</td>\n",
       "      <td>145885.952297</td>\n",
       "      <td>покупка жилья</td>\n",
       "    </tr>\n",
       "    <tr>\n",
       "      <td>3</td>\n",
       "      <td>3</td>\n",
       "      <td>-4124.747207</td>\n",
       "      <td>32</td>\n",
       "      <td>среднее</td>\n",
       "      <td>1</td>\n",
       "      <td>женат / замужем</td>\n",
       "      <td>0</td>\n",
       "      <td>M</td>\n",
       "      <td>сотрудник</td>\n",
       "      <td>0</td>\n",
       "      <td>267628.550329</td>\n",
       "      <td>дополнительное образование</td>\n",
       "    </tr>\n",
       "    <tr>\n",
       "      <td>4</td>\n",
       "      <td>0</td>\n",
       "      <td>340266.072047</td>\n",
       "      <td>53</td>\n",
       "      <td>среднее</td>\n",
       "      <td>1</td>\n",
       "      <td>гражданский брак</td>\n",
       "      <td>1</td>\n",
       "      <td>F</td>\n",
       "      <td>пенсионер</td>\n",
       "      <td>0</td>\n",
       "      <td>158616.077870</td>\n",
       "      <td>сыграть свадьбу</td>\n",
       "    </tr>\n",
       "    <tr>\n",
       "      <td>5</td>\n",
       "      <td>0</td>\n",
       "      <td>-926.185831</td>\n",
       "      <td>27</td>\n",
       "      <td>высшее</td>\n",
       "      <td>0</td>\n",
       "      <td>гражданский брак</td>\n",
       "      <td>1</td>\n",
       "      <td>M</td>\n",
       "      <td>компаньон</td>\n",
       "      <td>0</td>\n",
       "      <td>255763.565419</td>\n",
       "      <td>покупка жилья</td>\n",
       "    </tr>\n",
       "    <tr>\n",
       "      <td>6</td>\n",
       "      <td>0</td>\n",
       "      <td>-2879.202052</td>\n",
       "      <td>43</td>\n",
       "      <td>высшее</td>\n",
       "      <td>0</td>\n",
       "      <td>женат / замужем</td>\n",
       "      <td>0</td>\n",
       "      <td>F</td>\n",
       "      <td>компаньон</td>\n",
       "      <td>0</td>\n",
       "      <td>240525.971920</td>\n",
       "      <td>операции с жильем</td>\n",
       "    </tr>\n",
       "    <tr>\n",
       "      <td>7</td>\n",
       "      <td>0</td>\n",
       "      <td>-152.779569</td>\n",
       "      <td>50</td>\n",
       "      <td>СРЕДНЕЕ</td>\n",
       "      <td>1</td>\n",
       "      <td>женат / замужем</td>\n",
       "      <td>0</td>\n",
       "      <td>M</td>\n",
       "      <td>сотрудник</td>\n",
       "      <td>0</td>\n",
       "      <td>135823.934197</td>\n",
       "      <td>образование</td>\n",
       "    </tr>\n",
       "    <tr>\n",
       "      <td>8</td>\n",
       "      <td>2</td>\n",
       "      <td>-6929.865299</td>\n",
       "      <td>35</td>\n",
       "      <td>ВЫСШЕЕ</td>\n",
       "      <td>0</td>\n",
       "      <td>гражданский брак</td>\n",
       "      <td>1</td>\n",
       "      <td>F</td>\n",
       "      <td>сотрудник</td>\n",
       "      <td>0</td>\n",
       "      <td>95856.832424</td>\n",
       "      <td>на проведение свадьбы</td>\n",
       "    </tr>\n",
       "    <tr>\n",
       "      <td>9</td>\n",
       "      <td>0</td>\n",
       "      <td>-2188.756445</td>\n",
       "      <td>41</td>\n",
       "      <td>среднее</td>\n",
       "      <td>1</td>\n",
       "      <td>женат / замужем</td>\n",
       "      <td>0</td>\n",
       "      <td>M</td>\n",
       "      <td>сотрудник</td>\n",
       "      <td>0</td>\n",
       "      <td>144425.938277</td>\n",
       "      <td>покупка жилья для семьи</td>\n",
       "    </tr>\n",
       "  </tbody>\n",
       "</table>\n",
       "</div>"
      ],
      "text/plain": [
       "   children  days_employed  dob_years education  education_id  \\\n",
       "0         1   -8437.673028         42    высшее             0   \n",
       "1         1   -4024.803754         36   среднее             1   \n",
       "2         0   -5623.422610         33   Среднее             1   \n",
       "3         3   -4124.747207         32   среднее             1   \n",
       "4         0  340266.072047         53   среднее             1   \n",
       "5         0    -926.185831         27    высшее             0   \n",
       "6         0   -2879.202052         43    высшее             0   \n",
       "7         0    -152.779569         50   СРЕДНЕЕ             1   \n",
       "8         2   -6929.865299         35    ВЫСШЕЕ             0   \n",
       "9         0   -2188.756445         41   среднее             1   \n",
       "\n",
       "      family_status  family_status_id gender income_type  debt   total_income  \\\n",
       "0   женат / замужем                 0      F   сотрудник     0  253875.639453   \n",
       "1   женат / замужем                 0      F   сотрудник     0  112080.014102   \n",
       "2   женат / замужем                 0      M   сотрудник     0  145885.952297   \n",
       "3   женат / замужем                 0      M   сотрудник     0  267628.550329   \n",
       "4  гражданский брак                 1      F   пенсионер     0  158616.077870   \n",
       "5  гражданский брак                 1      M   компаньон     0  255763.565419   \n",
       "6   женат / замужем                 0      F   компаньон     0  240525.971920   \n",
       "7   женат / замужем                 0      M   сотрудник     0  135823.934197   \n",
       "8  гражданский брак                 1      F   сотрудник     0   95856.832424   \n",
       "9   женат / замужем                 0      M   сотрудник     0  144425.938277   \n",
       "\n",
       "                      purpose  \n",
       "0               покупка жилья  \n",
       "1     приобретение автомобиля  \n",
       "2               покупка жилья  \n",
       "3  дополнительное образование  \n",
       "4             сыграть свадьбу  \n",
       "5               покупка жилья  \n",
       "6           операции с жильем  \n",
       "7                 образование  \n",
       "8       на проведение свадьбы  \n",
       "9     покупка жилья для семьи  "
      ]
     },
     "execution_count": 2,
     "metadata": {},
     "output_type": "execute_result"
    }
   ],
   "source": [
    "#Загрузим данные в датафрейм, посмотрим на первые строки и общую информацию\n",
    "clients = pd.read_csv('/datasets/data.csv')\n",
    "clients.info()\n",
    "clients.head(10)"
   ]
  },
  {
   "cell_type": "code",
   "execution_count": 3,
   "metadata": {
    "scrolled": true
   },
   "outputs": [
    {
     "name": "stdout",
     "output_type": "stream",
     "text": [
      "children\n",
      "[ 1  0  3  2 -1  4 20  5]\n",
      "\n",
      "days_employed\n",
      "[-8437.67302776 -4024.80375385 -5623.42261023 ... -2113.3468877\n",
      " -3112.4817052  -1984.50758853]\n",
      "\n",
      "dob_years\n",
      "[42 36 33 32 53 27 43 50 35 41 40 65 54 56 26 48 24 21 57 67 28 63 62 47\n",
      " 34 68 25 31 30 20 49 37 45 61 64 44 52 46 23 38 39 51  0 59 29 60 55 58\n",
      " 71 22 73 66 69 19 72 70 74 75]\n",
      "\n",
      "education\n",
      "['высшее' 'среднее' 'Среднее' 'СРЕДНЕЕ' 'ВЫСШЕЕ' 'неоконченное высшее'\n",
      " 'начальное' 'Высшее' 'НЕОКОНЧЕННОЕ ВЫСШЕЕ' 'Неоконченное высшее'\n",
      " 'НАЧАЛЬНОЕ' 'Начальное' 'Ученая степень' 'УЧЕНАЯ СТЕПЕНЬ'\n",
      " 'ученая степень']\n",
      "\n",
      "education_id\n",
      "[0 1 2 3 4]\n",
      "\n",
      "family_status\n",
      "['женат / замужем' 'гражданский брак' 'вдовец / вдова' 'в разводе'\n",
      " 'Не женат / не замужем']\n",
      "\n",
      "family_status_id\n",
      "[0 1 2 3 4]\n",
      "\n",
      "gender\n",
      "['F' 'M' 'XNA']\n",
      "\n",
      "income_type\n",
      "['сотрудник' 'пенсионер' 'компаньон' 'госслужащий' 'безработный'\n",
      " 'предприниматель' 'студент' 'в декрете']\n",
      "\n",
      "debt\n",
      "[0 1]\n",
      "\n",
      "total_income\n",
      "[253875.6394526  112080.01410244 145885.95229686 ...  89672.56115303\n",
      " 244093.05050043  82047.41889948]\n",
      "\n",
      "purpose\n",
      "['покупка жилья' 'приобретение автомобиля' 'дополнительное образование'\n",
      " 'сыграть свадьбу' 'операции с жильем' 'образование'\n",
      " 'на проведение свадьбы' 'покупка жилья для семьи' 'покупка недвижимости'\n",
      " 'покупка коммерческой недвижимости' 'покупка жилой недвижимости'\n",
      " 'строительство собственной недвижимости' 'недвижимость'\n",
      " 'строительство недвижимости' 'на покупку подержанного автомобиля'\n",
      " 'на покупку своего автомобиля' 'операции с коммерческой недвижимостью'\n",
      " 'строительство жилой недвижимости' 'жилье'\n",
      " 'операции со своей недвижимостью' 'автомобили' 'заняться образованием'\n",
      " 'сделка с подержанным автомобилем' 'получение образования' 'автомобиль'\n",
      " 'свадьба' 'получение дополнительного образования' 'покупка своего жилья'\n",
      " 'операции с недвижимостью' 'получение высшего образования'\n",
      " 'свой автомобиль' 'сделка с автомобилем' 'профильное образование'\n",
      " 'высшее образование' 'покупка жилья для сдачи' 'на покупку автомобиля'\n",
      " 'ремонт жилью' 'заняться высшим образованием']\n",
      "\n"
     ]
    }
   ],
   "source": [
    "#Учитывая небольшой объем данных, исследуем уникальные значения внутри столбцов для лучшего их понимания\n",
    "for col in clients.columns:\n",
    "    col_name = col\n",
    "    values = clients[col].unique()\n",
    "    print(col)\n",
    "    print(values)\n",
    "    print()"
   ]
  },
  {
   "cell_type": "code",
   "execution_count": 4,
   "metadata": {},
   "outputs": [
    {
     "name": "stdout",
     "output_type": "stream",
     "text": [
      "Категории уровня образования клиента\n",
      "0 ['высшее' 'ВЫСШЕЕ' 'Высшее']\n",
      "1 ['среднее' 'Среднее' 'СРЕДНЕЕ']\n",
      "2 ['неоконченное высшее' 'НЕОКОНЧЕННОЕ ВЫСШЕЕ' 'Неоконченное высшее']\n",
      "3 ['начальное' 'НАЧАЛЬНОЕ' 'Начальное']\n",
      "4 ['Ученая степень' 'УЧЕНАЯ СТЕПЕНЬ' 'ученая степень']\n",
      "\n",
      "Категории семейного статуса клиента\n",
      "0 ['женат / замужем']\n",
      "1 ['гражданский брак']\n",
      "2 ['вдовец / вдова']\n",
      "3 ['в разводе']\n",
      "4 ['Не женат / не замужем']\n"
     ]
    }
   ],
   "source": [
    "#Посмотрим, как соотносятся столбцы education и family_status с их id, чтобы понять, как разделить значения на категории\n",
    "print('Категории уровня образования клиента')\n",
    "for i in range(5):\n",
    "    print(i, clients[clients['education_id']==i]['education'].unique())\n",
    "\n",
    "print() \n",
    "\n",
    "print('Категории семейного статуса клиента')\n",
    "for i in range(5):\n",
    "    print(i, clients[clients['family_status_id']==i]['family_status'].unique())"
   ]
  },
  {
   "cell_type": "code",
   "execution_count": 5,
   "metadata": {},
   "outputs": [
    {
     "name": "stdout",
     "output_type": "stream",
     "text": [
      "<class 'pandas.core.frame.DataFrame'>\n",
      "RangeIndex: 21525 entries, 0 to 21524\n",
      "Data columns (total 10 columns):\n",
      "children         21525 non-null int64\n",
      "days_employed    19351 non-null float64\n",
      "client_age       21525 non-null int64\n",
      "education        21525 non-null object\n",
      "family_status    21525 non-null object\n",
      "gender           21525 non-null object\n",
      "income_type      21525 non-null object\n",
      "debt             21525 non-null int64\n",
      "total_income     19351 non-null float64\n",
      "purpose          21525 non-null object\n",
      "dtypes: float64(2), int64(3), object(5)\n",
      "memory usage: 1.6+ MB\n"
     ]
    }
   ],
   "source": [
    "#Уберем ненужные столбцы и переименуем столбец с возрастом клиента\n",
    "clients = clients.drop(['education_id', 'family_status_id'], axis=1)\n",
    "clients.rename(columns={'dob_years':'client_age'}, inplace=True)\n",
    "\n",
    "#Проверим\n",
    "clients.info()"
   ]
  },
  {
   "cell_type": "markdown",
   "metadata": {},
   "source": [
    "### Вывод"
   ]
  },
  {
   "cell_type": "markdown",
   "metadata": {},
   "source": [
    "Предварительный взгляд на данные показывает следующее:\n",
    "- **отсутствующие данные** находятся в столбцах **days_employed** и **total_income** и составляют примерно 10% от общего количества строк. То, что данные пропущены одновременно в обоих столбцах, позволяет думать, что клиент не предоставил документ с места работы, соответственно не были введены стаж и ежемесячный доход;\n",
    "- в столбце **children** встречается отрицательное значение, которое можно посчитать технической ошибкой и взять значение по модулю. Также маловероятно, что у кого-то 20 детей (учитывая, что остальные значения находятся в пределах 0-5), поэтому можно посчитать это ошибкой ввода \"2\";           \n",
    "- в столбце **days_employed** встречается много отрицательных значений, кроме того, некоторые значения очень большие и, будучи переведенными в количество лет, неочевидно соотносятся с возрастом человека. Например, трудовой стаж может превышать возраст человека. У нас не стоит задачи анализировать связь между продолжительностью трудоустройства и погашением кредита в срок, следовательно можно заполнить отсутствующие значения медианой по типам дохода для сохранения общей картины. Если бы этот столбец был нужен для анализа, необходимо было бы обращаться к человеку, собиравшему данные для разъяснения значений столбца; \n",
    "- название столбца **dob_years** недостаточно ясно отображает его содержание (возраст клиента) - его надо переименовать в client_age. Кроме того, надо будет заменить нулевые значения данного столбца на среднее;\n",
    "- столбцы **education, education_id** связаны между собой, мы видим, что всего 5 уровней образования клиента. Данные в столбце **education** надо привести к одному виду (нижний регистр) и поменять их тип на category, **education_id** можно удалить, он больше не нужен;\n",
    "- столбцы **family_status, family_status_id** также связаны между собой, мы видим, что всего 5 уровней семейного положения клиента. Данные в столбце **family_status** надо поменять на тип category, **family_status_id** можно удалить, он больше не нужен;\n",
    "- в столбце **gender** встречаются пропущенные значения под видом 'XNA', их надо заменить и поменять тип на category;  \n",
    "- в столбце **income_type** надо поменять тип на category;\n",
    "- тип данных столбца **debt** надо поменять на bool, так как это позволит сэкономить место, но в то же время даст возможность проводить математические операции со значениями;\n",
    "- в **столбце total_income** необходимо заполнить пропуски средними значениями, например, медианой по типу дохода. Значения самого столбца можно перевести в тип int, чтобы зрительно было проще с ними работать; \n",
    "- в столбце **purpose** надо сделать лемматизацию и выделить основные группы назначения кредита, чтобы потом использовать их для группировки данных.  \n",
    "\n",
    "Также для дальнейшего анализа надо будет добавить столбцы, позволяющие объединять клиентов в группы по определенному признаку:\n",
    "- наличие/ отсутствие детей - **children_status**\n",
    "- уровень дохода - **income_status**\n",
    "- главная цель кредита - **purpose_category**"
   ]
  },
  {
   "cell_type": "markdown",
   "metadata": {},
   "source": [
    "### Шаг 2. Предобработка данных"
   ]
  },
  {
   "cell_type": "markdown",
   "metadata": {},
   "source": [
    "### Обработка пропусков"
   ]
  },
  {
   "cell_type": "markdown",
   "metadata": {},
   "source": [
    "#### Столбец days_employed"
   ]
  },
  {
   "cell_type": "code",
   "execution_count": 6,
   "metadata": {},
   "outputs": [
    {
     "data": {
      "text/plain": [
       "2174"
      ]
     },
     "execution_count": 6,
     "metadata": {},
     "output_type": "execute_result"
    }
   ],
   "source": [
    "#Посмотрим количество отсутствующих значений в столбце \n",
    "clients['days_employed'].isnull().sum()"
   ]
  },
  {
   "cell_type": "code",
   "execution_count": 7,
   "metadata": {},
   "outputs": [
    {
     "data": {
      "text/plain": [
       "0"
      ]
     },
     "execution_count": 7,
     "metadata": {},
     "output_type": "execute_result"
    }
   ],
   "source": [
    "#Сгруппируем данные и заполним отсутствующие данные медианой по группам\n",
    "clients['days_employed'] = clients.groupby(['income_type']).days_employed.apply(lambda x: x.fillna(x.median()))\n",
    "\n",
    "#Проверим, есть ли отсутствующие значения\n",
    "clients['days_employed'].isnull().sum()"
   ]
  },
  {
   "cell_type": "markdown",
   "metadata": {},
   "source": [
    "#### Столбец total_income"
   ]
  },
  {
   "cell_type": "code",
   "execution_count": 8,
   "metadata": {},
   "outputs": [
    {
     "data": {
      "text/plain": [
       "2174"
      ]
     },
     "execution_count": 8,
     "metadata": {},
     "output_type": "execute_result"
    }
   ],
   "source": [
    "#Посмотрим количество отсутствующих значений в столбце \n",
    "clients['total_income'].isnull().sum()"
   ]
  },
  {
   "cell_type": "code",
   "execution_count": 9,
   "metadata": {},
   "outputs": [
    {
     "data": {
      "text/plain": [
       "Int64Index([   12,    26,    29,    41,    55,    65,    67,    72,    82,\n",
       "               83,\n",
       "            ...\n",
       "            21415, 21423, 21426, 21432, 21463, 21489, 21495, 21497, 21502,\n",
       "            21510],\n",
       "           dtype='int64', length=2174)"
      ]
     },
     "execution_count": 9,
     "metadata": {},
     "output_type": "execute_result"
    }
   ],
   "source": [
    "#Выделим и сохраним индексы тех строк, где встречаются пропущенные значения, чтобы потом проверить, что они заполнились\n",
    "nan_index = clients.index[clients['total_income'].isnull()]\n",
    "nan_index"
   ]
  },
  {
   "cell_type": "code",
   "execution_count": 10,
   "metadata": {},
   "outputs": [
    {
     "data": {
      "text/html": [
       "<div>\n",
       "<style scoped>\n",
       "    .dataframe tbody tr th:only-of-type {\n",
       "        vertical-align: middle;\n",
       "    }\n",
       "\n",
       "    .dataframe tbody tr th {\n",
       "        vertical-align: top;\n",
       "    }\n",
       "\n",
       "    .dataframe thead th {\n",
       "        text-align: right;\n",
       "    }\n",
       "</style>\n",
       "<table border=\"1\" class=\"dataframe\">\n",
       "  <thead>\n",
       "    <tr style=\"text-align: right;\">\n",
       "      <th></th>\n",
       "      <th>children</th>\n",
       "      <th>days_employed</th>\n",
       "      <th>client_age</th>\n",
       "      <th>education</th>\n",
       "      <th>family_status</th>\n",
       "      <th>gender</th>\n",
       "      <th>income_type</th>\n",
       "      <th>debt</th>\n",
       "      <th>total_income</th>\n",
       "      <th>purpose</th>\n",
       "    </tr>\n",
       "  </thead>\n",
       "  <tbody>\n",
       "    <tr>\n",
       "      <td>12</td>\n",
       "      <td>0</td>\n",
       "      <td>365213.306266</td>\n",
       "      <td>65</td>\n",
       "      <td>среднее</td>\n",
       "      <td>гражданский брак</td>\n",
       "      <td>M</td>\n",
       "      <td>пенсионер</td>\n",
       "      <td>0</td>\n",
       "      <td>NaN</td>\n",
       "      <td>сыграть свадьбу</td>\n",
       "    </tr>\n",
       "    <tr>\n",
       "      <td>26</td>\n",
       "      <td>0</td>\n",
       "      <td>-2689.368353</td>\n",
       "      <td>41</td>\n",
       "      <td>среднее</td>\n",
       "      <td>женат / замужем</td>\n",
       "      <td>M</td>\n",
       "      <td>госслужащий</td>\n",
       "      <td>0</td>\n",
       "      <td>NaN</td>\n",
       "      <td>образование</td>\n",
       "    </tr>\n",
       "    <tr>\n",
       "      <td>29</td>\n",
       "      <td>0</td>\n",
       "      <td>365213.306266</td>\n",
       "      <td>63</td>\n",
       "      <td>среднее</td>\n",
       "      <td>Не женат / не замужем</td>\n",
       "      <td>F</td>\n",
       "      <td>пенсионер</td>\n",
       "      <td>0</td>\n",
       "      <td>NaN</td>\n",
       "      <td>строительство жилой недвижимости</td>\n",
       "    </tr>\n",
       "    <tr>\n",
       "      <td>41</td>\n",
       "      <td>0</td>\n",
       "      <td>-2689.368353</td>\n",
       "      <td>50</td>\n",
       "      <td>среднее</td>\n",
       "      <td>женат / замужем</td>\n",
       "      <td>F</td>\n",
       "      <td>госслужащий</td>\n",
       "      <td>0</td>\n",
       "      <td>NaN</td>\n",
       "      <td>сделка с подержанным автомобилем</td>\n",
       "    </tr>\n",
       "    <tr>\n",
       "      <td>55</td>\n",
       "      <td>0</td>\n",
       "      <td>365213.306266</td>\n",
       "      <td>54</td>\n",
       "      <td>среднее</td>\n",
       "      <td>гражданский брак</td>\n",
       "      <td>F</td>\n",
       "      <td>пенсионер</td>\n",
       "      <td>1</td>\n",
       "      <td>NaN</td>\n",
       "      <td>сыграть свадьбу</td>\n",
       "    </tr>\n",
       "    <tr>\n",
       "      <td>65</td>\n",
       "      <td>0</td>\n",
       "      <td>-1547.382223</td>\n",
       "      <td>21</td>\n",
       "      <td>среднее</td>\n",
       "      <td>Не женат / не замужем</td>\n",
       "      <td>M</td>\n",
       "      <td>компаньон</td>\n",
       "      <td>0</td>\n",
       "      <td>NaN</td>\n",
       "      <td>операции с коммерческой недвижимостью</td>\n",
       "    </tr>\n",
       "    <tr>\n",
       "      <td>67</td>\n",
       "      <td>0</td>\n",
       "      <td>365213.306266</td>\n",
       "      <td>52</td>\n",
       "      <td>высшее</td>\n",
       "      <td>женат / замужем</td>\n",
       "      <td>F</td>\n",
       "      <td>пенсионер</td>\n",
       "      <td>0</td>\n",
       "      <td>NaN</td>\n",
       "      <td>покупка жилья для семьи</td>\n",
       "    </tr>\n",
       "    <tr>\n",
       "      <td>72</td>\n",
       "      <td>1</td>\n",
       "      <td>-2689.368353</td>\n",
       "      <td>32</td>\n",
       "      <td>высшее</td>\n",
       "      <td>женат / замужем</td>\n",
       "      <td>M</td>\n",
       "      <td>госслужащий</td>\n",
       "      <td>0</td>\n",
       "      <td>NaN</td>\n",
       "      <td>операции с коммерческой недвижимостью</td>\n",
       "    </tr>\n",
       "    <tr>\n",
       "      <td>82</td>\n",
       "      <td>2</td>\n",
       "      <td>-1574.202821</td>\n",
       "      <td>50</td>\n",
       "      <td>высшее</td>\n",
       "      <td>женат / замужем</td>\n",
       "      <td>F</td>\n",
       "      <td>сотрудник</td>\n",
       "      <td>0</td>\n",
       "      <td>NaN</td>\n",
       "      <td>жилье</td>\n",
       "    </tr>\n",
       "    <tr>\n",
       "      <td>83</td>\n",
       "      <td>0</td>\n",
       "      <td>-1574.202821</td>\n",
       "      <td>52</td>\n",
       "      <td>среднее</td>\n",
       "      <td>женат / замужем</td>\n",
       "      <td>M</td>\n",
       "      <td>сотрудник</td>\n",
       "      <td>0</td>\n",
       "      <td>NaN</td>\n",
       "      <td>жилье</td>\n",
       "    </tr>\n",
       "  </tbody>\n",
       "</table>\n",
       "</div>"
      ],
      "text/plain": [
       "    children  days_employed  client_age education          family_status  \\\n",
       "12         0  365213.306266          65   среднее       гражданский брак   \n",
       "26         0   -2689.368353          41   среднее        женат / замужем   \n",
       "29         0  365213.306266          63   среднее  Не женат / не замужем   \n",
       "41         0   -2689.368353          50   среднее        женат / замужем   \n",
       "55         0  365213.306266          54   среднее       гражданский брак   \n",
       "65         0   -1547.382223          21   среднее  Не женат / не замужем   \n",
       "67         0  365213.306266          52    высшее        женат / замужем   \n",
       "72         1   -2689.368353          32    высшее        женат / замужем   \n",
       "82         2   -1574.202821          50    высшее        женат / замужем   \n",
       "83         0   -1574.202821          52   среднее        женат / замужем   \n",
       "\n",
       "   gender  income_type  debt  total_income  \\\n",
       "12      M    пенсионер     0           NaN   \n",
       "26      M  госслужащий     0           NaN   \n",
       "29      F    пенсионер     0           NaN   \n",
       "41      F  госслужащий     0           NaN   \n",
       "55      F    пенсионер     1           NaN   \n",
       "65      M    компаньон     0           NaN   \n",
       "67      F    пенсионер     0           NaN   \n",
       "72      M  госслужащий     0           NaN   \n",
       "82      F    сотрудник     0           NaN   \n",
       "83      M    сотрудник     0           NaN   \n",
       "\n",
       "                                  purpose  \n",
       "12                        сыграть свадьбу  \n",
       "26                            образование  \n",
       "29       строительство жилой недвижимости  \n",
       "41       сделка с подержанным автомобилем  \n",
       "55                        сыграть свадьбу  \n",
       "65  операции с коммерческой недвижимостью  \n",
       "67                покупка жилья для семьи  \n",
       "72  операции с коммерческой недвижимостью  \n",
       "82                                  жилье  \n",
       "83                                  жилье  "
      ]
     },
     "execution_count": 10,
     "metadata": {},
     "output_type": "execute_result"
    }
   ],
   "source": [
    "#Проверим, что работает\n",
    "clients.iloc[nan_index].head(10)"
   ]
  },
  {
   "cell_type": "code",
   "execution_count": 11,
   "metadata": {},
   "outputs": [
    {
     "data": {
      "text/plain": [
       "dict_keys(['госслужащий', 'компаньон', 'пенсионер', 'предприниматель', 'сотрудник'])"
      ]
     },
     "execution_count": 11,
     "metadata": {},
     "output_type": "execute_result"
    }
   ],
   "source": [
    "#Определим, в каких группах дохода есть отсутствующие значения\n",
    "income_type_with_nan = clients.iloc[nan_index].groupby('income_type').groups.keys()\n",
    "income_type_with_nan"
   ]
  },
  {
   "cell_type": "code",
   "execution_count": 12,
   "metadata": {},
   "outputs": [
    {
     "data": {
      "text/html": [
       "<div>\n",
       "<style scoped>\n",
       "    .dataframe tbody tr th:only-of-type {\n",
       "        vertical-align: middle;\n",
       "    }\n",
       "\n",
       "    .dataframe tbody tr th {\n",
       "        vertical-align: top;\n",
       "    }\n",
       "\n",
       "    .dataframe thead th {\n",
       "        text-align: right;\n",
       "    }\n",
       "</style>\n",
       "<table border=\"1\" class=\"dataframe\">\n",
       "  <thead>\n",
       "    <tr style=\"text-align: right;\">\n",
       "      <th></th>\n",
       "      <th>count</th>\n",
       "      <th>mean</th>\n",
       "      <th>std</th>\n",
       "      <th>min</th>\n",
       "      <th>25%</th>\n",
       "      <th>50%</th>\n",
       "      <th>75%</th>\n",
       "      <th>max</th>\n",
       "    </tr>\n",
       "    <tr>\n",
       "      <th>income_type</th>\n",
       "      <th></th>\n",
       "      <th></th>\n",
       "      <th></th>\n",
       "      <th></th>\n",
       "      <th></th>\n",
       "      <th></th>\n",
       "      <th></th>\n",
       "      <th></th>\n",
       "    </tr>\n",
       "  </thead>\n",
       "  <tbody>\n",
       "    <tr>\n",
       "      <td>госслужащий</td>\n",
       "      <td>1312.0</td>\n",
       "      <td>170898.309923</td>\n",
       "      <td>96878.763554</td>\n",
       "      <td>29200.077193</td>\n",
       "      <td>105294.668418</td>\n",
       "      <td>150447.935283</td>\n",
       "      <td>209173.052434</td>\n",
       "      <td>9.104515e+05</td>\n",
       "    </tr>\n",
       "    <tr>\n",
       "      <td>компаньон</td>\n",
       "      <td>4577.0</td>\n",
       "      <td>202417.461462</td>\n",
       "      <td>130481.095793</td>\n",
       "      <td>28702.812889</td>\n",
       "      <td>125887.745820</td>\n",
       "      <td>172357.950966</td>\n",
       "      <td>243907.839199</td>\n",
       "      <td>2.265604e+06</td>\n",
       "    </tr>\n",
       "    <tr>\n",
       "      <td>пенсионер</td>\n",
       "      <td>3443.0</td>\n",
       "      <td>137127.465690</td>\n",
       "      <td>80246.953231</td>\n",
       "      <td>20667.263793</td>\n",
       "      <td>82881.443465</td>\n",
       "      <td>118514.486412</td>\n",
       "      <td>169700.433010</td>\n",
       "      <td>7.351033e+05</td>\n",
       "    </tr>\n",
       "    <tr>\n",
       "      <td>предприниматель</td>\n",
       "      <td>1.0</td>\n",
       "      <td>499163.144947</td>\n",
       "      <td>NaN</td>\n",
       "      <td>499163.144947</td>\n",
       "      <td>499163.144947</td>\n",
       "      <td>499163.144947</td>\n",
       "      <td>499163.144947</td>\n",
       "      <td>4.991631e+05</td>\n",
       "    </tr>\n",
       "    <tr>\n",
       "      <td>сотрудник</td>\n",
       "      <td>10014.0</td>\n",
       "      <td>161380.260488</td>\n",
       "      <td>91322.514795</td>\n",
       "      <td>21367.648356</td>\n",
       "      <td>102795.633631</td>\n",
       "      <td>142594.396847</td>\n",
       "      <td>196828.082600</td>\n",
       "      <td>1.726276e+06</td>\n",
       "    </tr>\n",
       "  </tbody>\n",
       "</table>\n",
       "</div>"
      ],
      "text/plain": [
       "                   count           mean            std            min  \\\n",
       "income_type                                                             \n",
       "госслужащий       1312.0  170898.309923   96878.763554   29200.077193   \n",
       "компаньон         4577.0  202417.461462  130481.095793   28702.812889   \n",
       "пенсионер         3443.0  137127.465690   80246.953231   20667.263793   \n",
       "предприниматель      1.0  499163.144947            NaN  499163.144947   \n",
       "сотрудник        10014.0  161380.260488   91322.514795   21367.648356   \n",
       "\n",
       "                           25%            50%            75%           max  \n",
       "income_type                                                                 \n",
       "госслужащий      105294.668418  150447.935283  209173.052434  9.104515e+05  \n",
       "компаньон        125887.745820  172357.950966  243907.839199  2.265604e+06  \n",
       "пенсионер         82881.443465  118514.486412  169700.433010  7.351033e+05  \n",
       "предприниматель  499163.144947  499163.144947  499163.144947  4.991631e+05  \n",
       "сотрудник        102795.633631  142594.396847  196828.082600  1.726276e+06  "
      ]
     },
     "execution_count": 12,
     "metadata": {},
     "output_type": "execute_result"
    }
   ],
   "source": [
    "#Посмотрим базовую статистку по этим типам доходов\n",
    "clients.query('income_type in @income_type_with_nan').groupby('income_type')['total_income'].describe()"
   ]
  },
  {
   "cell_type": "markdown",
   "metadata": {},
   "source": [
    "Базовая статистика показывает, что разброс от минимального до максимального значения в интересующих нас группах достаточно велик, следовательно, нам лучше взять медиану, чем среднее, и ею заполнить отсутствующие значения."
   ]
  },
  {
   "cell_type": "code",
   "execution_count": 13,
   "metadata": {},
   "outputs": [
    {
     "data": {
      "text/plain": [
       "income_type\n",
       "госслужащий        150447.935283\n",
       "компаньон          172357.950966\n",
       "пенсионер          118514.486412\n",
       "предприниматель    499163.144947\n",
       "сотрудник          142594.396847\n",
       "Name: total_income, dtype: float64"
      ]
     },
     "execution_count": 13,
     "metadata": {},
     "output_type": "execute_result"
    }
   ],
   "source": [
    "#Сохраним медиану по группам до заполнения пропусков для дальнейшей проверки\n",
    "median_before_fillna = clients.query('income_type in @income_type_with_nan').groupby('income_type')['total_income'].median()\n",
    "median_before_fillna"
   ]
  },
  {
   "cell_type": "code",
   "execution_count": 14,
   "metadata": {},
   "outputs": [
    {
     "data": {
      "text/plain": [
       "0"
      ]
     },
     "execution_count": 14,
     "metadata": {},
     "output_type": "execute_result"
    }
   ],
   "source": [
    "#Сгруппируем данные и заполним отсутствующие данные медианой по группам\n",
    "clients['total_income'] = clients.groupby(['income_type']).total_income.apply(lambda x: x.fillna(x.median()))\n",
    "\n",
    "#Проверим, есть ли отсутствующие значения\n",
    "clients['total_income'].isnull().sum()"
   ]
  },
  {
   "cell_type": "code",
   "execution_count": 15,
   "metadata": {},
   "outputs": [
    {
     "data": {
      "text/plain": [
       "income_type\n",
       "госслужащий        True\n",
       "компаньон          True\n",
       "пенсионер          True\n",
       "предприниматель    True\n",
       "сотрудник          True\n",
       "Name: total_income, dtype: bool"
      ]
     },
     "execution_count": 15,
     "metadata": {},
     "output_type": "execute_result"
    }
   ],
   "source": [
    "#Проверим, заполнились ли строки, в которых до этого отсутствовало значение, медианами по группам доходов\n",
    "clients.iloc[nan_index].groupby('income_type')['total_income'].median() == median_before_fillna"
   ]
  },
  {
   "cell_type": "markdown",
   "metadata": {},
   "source": [
    "#### Столбец gender"
   ]
  },
  {
   "cell_type": "code",
   "execution_count": 16,
   "metadata": {},
   "outputs": [
    {
     "name": "stdout",
     "output_type": "stream",
     "text": [
      "F      14236\n",
      "M       7288\n",
      "XNA        1\n",
      "Name: gender, dtype: int64\n",
      "       children  days_employed  client_age            education  \\\n",
      "10701         0   -2358.600502          24  неоконченное высшее   \n",
      "\n",
      "          family_status gender income_type  debt   total_income  \\\n",
      "10701  гражданский брак    XNA   компаньон     0  203905.157261   \n",
      "\n",
      "                    purpose  \n",
      "10701  покупка недвижимости  \n"
     ]
    },
    {
     "data": {
      "text/plain": [
       "F    14237\n",
       "M     7288\n",
       "Name: gender, dtype: int64"
      ]
     },
     "execution_count": 16,
     "metadata": {},
     "output_type": "execute_result"
    }
   ],
   "source": [
    "#Исследуем значения в столбце gender\n",
    "print(clients.gender.value_counts())\n",
    "\n",
    "#Найдем клиентов с неопределенным полом\n",
    "print(clients[clients.gender=='XNA'])\n",
    "\n",
    "#Заменим его на F\n",
    "clients.loc[clients['gender'] == 'XNA', 'gender'] = 'F'\n",
    "\n",
    "#Проверим \n",
    "clients.gender.value_counts()"
   ]
  },
  {
   "cell_type": "markdown",
   "metadata": {},
   "source": [
    "#### Столбец client_age"
   ]
  },
  {
   "cell_type": "markdown",
   "metadata": {},
   "source": [
    "Пойдем тем же путем, что при заполнении отсутствующих значений столбца total_income - сгруппируем по типу доходов и найдем медиану возраста. Выберем медиану, потому что возраст как правило имеет нормальное распределение, соответственно, среднее и медиана будут примерно одинаковы, но медиана будет целым числом, что нам и надо. "
   ]
  },
  {
   "cell_type": "code",
   "execution_count": 17,
   "metadata": {},
   "outputs": [
    {
     "data": {
      "text/plain": [
       "101"
      ]
     },
     "execution_count": 17,
     "metadata": {},
     "output_type": "execute_result"
    }
   ],
   "source": [
    "#Посчитаем, у какого количества клиентов не проставлен возраст\n",
    "(clients['client_age']==0).sum()"
   ]
  },
  {
   "cell_type": "code",
   "execution_count": 18,
   "metadata": {},
   "outputs": [
    {
     "data": {
      "text/plain": [
       "Int64Index([   99,   149,   270,   578,  1040,  1149,  1175,  1386,  1890,\n",
       "             1898,\n",
       "            ...\n",
       "            18539, 18732, 18851, 19116, 19371, 19829, 20462, 20577, 21179,\n",
       "            21313],\n",
       "           dtype='int64', length=101)"
      ]
     },
     "execution_count": 18,
     "metadata": {},
     "output_type": "execute_result"
    }
   ],
   "source": [
    "#Выделим и сохраним индексы тех строк, где встречаются пропущенные значения, чтобы потом проверить, что они заполнились\n",
    "nan_index_age = clients.index[clients['client_age']==0]\n",
    "nan_index_age"
   ]
  },
  {
   "cell_type": "code",
   "execution_count": 19,
   "metadata": {},
   "outputs": [
    {
     "data": {
      "text/html": [
       "<div>\n",
       "<style scoped>\n",
       "    .dataframe tbody tr th:only-of-type {\n",
       "        vertical-align: middle;\n",
       "    }\n",
       "\n",
       "    .dataframe tbody tr th {\n",
       "        vertical-align: top;\n",
       "    }\n",
       "\n",
       "    .dataframe thead th {\n",
       "        text-align: right;\n",
       "    }\n",
       "</style>\n",
       "<table border=\"1\" class=\"dataframe\">\n",
       "  <thead>\n",
       "    <tr style=\"text-align: right;\">\n",
       "      <th></th>\n",
       "      <th>children</th>\n",
       "      <th>days_employed</th>\n",
       "      <th>client_age</th>\n",
       "      <th>education</th>\n",
       "      <th>family_status</th>\n",
       "      <th>gender</th>\n",
       "      <th>income_type</th>\n",
       "      <th>debt</th>\n",
       "      <th>total_income</th>\n",
       "      <th>purpose</th>\n",
       "    </tr>\n",
       "  </thead>\n",
       "  <tbody>\n",
       "    <tr>\n",
       "      <td>99</td>\n",
       "      <td>0</td>\n",
       "      <td>346541.618895</td>\n",
       "      <td>0</td>\n",
       "      <td>Среднее</td>\n",
       "      <td>женат / замужем</td>\n",
       "      <td>F</td>\n",
       "      <td>пенсионер</td>\n",
       "      <td>0</td>\n",
       "      <td>71291.522491</td>\n",
       "      <td>автомобиль</td>\n",
       "    </tr>\n",
       "    <tr>\n",
       "      <td>149</td>\n",
       "      <td>0</td>\n",
       "      <td>-2664.273168</td>\n",
       "      <td>0</td>\n",
       "      <td>среднее</td>\n",
       "      <td>в разводе</td>\n",
       "      <td>F</td>\n",
       "      <td>сотрудник</td>\n",
       "      <td>0</td>\n",
       "      <td>70176.435951</td>\n",
       "      <td>операции с жильем</td>\n",
       "    </tr>\n",
       "    <tr>\n",
       "      <td>270</td>\n",
       "      <td>3</td>\n",
       "      <td>-1872.663186</td>\n",
       "      <td>0</td>\n",
       "      <td>среднее</td>\n",
       "      <td>женат / замужем</td>\n",
       "      <td>F</td>\n",
       "      <td>сотрудник</td>\n",
       "      <td>0</td>\n",
       "      <td>102166.458894</td>\n",
       "      <td>ремонт жилью</td>\n",
       "    </tr>\n",
       "    <tr>\n",
       "      <td>578</td>\n",
       "      <td>0</td>\n",
       "      <td>397856.565013</td>\n",
       "      <td>0</td>\n",
       "      <td>среднее</td>\n",
       "      <td>женат / замужем</td>\n",
       "      <td>F</td>\n",
       "      <td>пенсионер</td>\n",
       "      <td>0</td>\n",
       "      <td>97620.687042</td>\n",
       "      <td>строительство собственной недвижимости</td>\n",
       "    </tr>\n",
       "    <tr>\n",
       "      <td>1040</td>\n",
       "      <td>0</td>\n",
       "      <td>-1158.029561</td>\n",
       "      <td>0</td>\n",
       "      <td>высшее</td>\n",
       "      <td>в разводе</td>\n",
       "      <td>F</td>\n",
       "      <td>компаньон</td>\n",
       "      <td>0</td>\n",
       "      <td>303994.134987</td>\n",
       "      <td>свой автомобиль</td>\n",
       "    </tr>\n",
       "    <tr>\n",
       "      <td>1149</td>\n",
       "      <td>0</td>\n",
       "      <td>-934.654854</td>\n",
       "      <td>0</td>\n",
       "      <td>среднее</td>\n",
       "      <td>женат / замужем</td>\n",
       "      <td>F</td>\n",
       "      <td>компаньон</td>\n",
       "      <td>0</td>\n",
       "      <td>201852.430096</td>\n",
       "      <td>покупка недвижимости</td>\n",
       "    </tr>\n",
       "    <tr>\n",
       "      <td>1175</td>\n",
       "      <td>0</td>\n",
       "      <td>370879.508002</td>\n",
       "      <td>0</td>\n",
       "      <td>среднее</td>\n",
       "      <td>женат / замужем</td>\n",
       "      <td>F</td>\n",
       "      <td>пенсионер</td>\n",
       "      <td>0</td>\n",
       "      <td>313949.845188</td>\n",
       "      <td>получение дополнительного образования</td>\n",
       "    </tr>\n",
       "    <tr>\n",
       "      <td>1386</td>\n",
       "      <td>0</td>\n",
       "      <td>-5043.219890</td>\n",
       "      <td>0</td>\n",
       "      <td>высшее</td>\n",
       "      <td>женат / замужем</td>\n",
       "      <td>M</td>\n",
       "      <td>госслужащий</td>\n",
       "      <td>0</td>\n",
       "      <td>240523.618071</td>\n",
       "      <td>сделка с автомобилем</td>\n",
       "    </tr>\n",
       "    <tr>\n",
       "      <td>1890</td>\n",
       "      <td>0</td>\n",
       "      <td>-1574.202821</td>\n",
       "      <td>0</td>\n",
       "      <td>высшее</td>\n",
       "      <td>Не женат / не замужем</td>\n",
       "      <td>F</td>\n",
       "      <td>сотрудник</td>\n",
       "      <td>0</td>\n",
       "      <td>142594.396847</td>\n",
       "      <td>жилье</td>\n",
       "    </tr>\n",
       "    <tr>\n",
       "      <td>1898</td>\n",
       "      <td>0</td>\n",
       "      <td>370144.537021</td>\n",
       "      <td>0</td>\n",
       "      <td>среднее</td>\n",
       "      <td>вдовец / вдова</td>\n",
       "      <td>F</td>\n",
       "      <td>пенсионер</td>\n",
       "      <td>0</td>\n",
       "      <td>127400.268338</td>\n",
       "      <td>на покупку автомобиля</td>\n",
       "    </tr>\n",
       "  </tbody>\n",
       "</table>\n",
       "</div>"
      ],
      "text/plain": [
       "      children  days_employed  client_age education          family_status  \\\n",
       "99           0  346541.618895           0   Среднее        женат / замужем   \n",
       "149          0   -2664.273168           0   среднее              в разводе   \n",
       "270          3   -1872.663186           0   среднее        женат / замужем   \n",
       "578          0  397856.565013           0   среднее        женат / замужем   \n",
       "1040         0   -1158.029561           0    высшее              в разводе   \n",
       "1149         0    -934.654854           0   среднее        женат / замужем   \n",
       "1175         0  370879.508002           0   среднее        женат / замужем   \n",
       "1386         0   -5043.219890           0    высшее        женат / замужем   \n",
       "1890         0   -1574.202821           0    высшее  Не женат / не замужем   \n",
       "1898         0  370144.537021           0   среднее         вдовец / вдова   \n",
       "\n",
       "     gender  income_type  debt   total_income  \\\n",
       "99        F    пенсионер     0   71291.522491   \n",
       "149       F    сотрудник     0   70176.435951   \n",
       "270       F    сотрудник     0  102166.458894   \n",
       "578       F    пенсионер     0   97620.687042   \n",
       "1040      F    компаньон     0  303994.134987   \n",
       "1149      F    компаньон     0  201852.430096   \n",
       "1175      F    пенсионер     0  313949.845188   \n",
       "1386      M  госслужащий     0  240523.618071   \n",
       "1890      F    сотрудник     0  142594.396847   \n",
       "1898      F    пенсионер     0  127400.268338   \n",
       "\n",
       "                                     purpose  \n",
       "99                                автомобиль  \n",
       "149                        операции с жильем  \n",
       "270                             ремонт жилью  \n",
       "578   строительство собственной недвижимости  \n",
       "1040                         свой автомобиль  \n",
       "1149                    покупка недвижимости  \n",
       "1175   получение дополнительного образования  \n",
       "1386                    сделка с автомобилем  \n",
       "1890                                   жилье  \n",
       "1898                   на покупку автомобиля  "
      ]
     },
     "execution_count": 19,
     "metadata": {},
     "output_type": "execute_result"
    }
   ],
   "source": [
    "#Проверим, что работает\n",
    "clients.iloc[nan_index_age].head(10)"
   ]
  },
  {
   "cell_type": "code",
   "execution_count": 20,
   "metadata": {},
   "outputs": [
    {
     "data": {
      "text/plain": [
       "dict_keys(['госслужащий', 'компаньон', 'пенсионер', 'сотрудник'])"
      ]
     },
     "execution_count": 20,
     "metadata": {},
     "output_type": "execute_result"
    }
   ],
   "source": [
    "#Определим, в каких группах дохода есть отсутствующие значения возраста\n",
    "income_type_with_nan_age = clients.iloc[nan_index_age].groupby('income_type').groups.keys()\n",
    "income_type_with_nan_age"
   ]
  },
  {
   "cell_type": "code",
   "execution_count": 21,
   "metadata": {},
   "outputs": [
    {
     "data": {
      "text/plain": [
       "income_type\n",
       "госслужащий    40\n",
       "компаньон      39\n",
       "пенсионер      60\n",
       "сотрудник      39\n",
       "Name: client_age, dtype: int64"
      ]
     },
     "execution_count": 21,
     "metadata": {},
     "output_type": "execute_result"
    }
   ],
   "source": [
    "#Сохраним медиану по группам до заполнения пропусков\n",
    "median_before_fillna_age = clients.query('income_type in @income_type_with_nan_age').groupby('income_type')['client_age'].median()\n",
    "median_before_fillna_age"
   ]
  },
  {
   "cell_type": "code",
   "execution_count": 22,
   "metadata": {},
   "outputs": [
    {
     "data": {
      "text/html": [
       "<div>\n",
       "<style scoped>\n",
       "    .dataframe tbody tr th:only-of-type {\n",
       "        vertical-align: middle;\n",
       "    }\n",
       "\n",
       "    .dataframe tbody tr th {\n",
       "        vertical-align: top;\n",
       "    }\n",
       "\n",
       "    .dataframe thead th {\n",
       "        text-align: right;\n",
       "    }\n",
       "</style>\n",
       "<table border=\"1\" class=\"dataframe\">\n",
       "  <thead>\n",
       "    <tr style=\"text-align: right;\">\n",
       "      <th></th>\n",
       "      <th>children</th>\n",
       "      <th>days_employed</th>\n",
       "      <th>client_age</th>\n",
       "      <th>education</th>\n",
       "      <th>family_status</th>\n",
       "      <th>gender</th>\n",
       "      <th>income_type</th>\n",
       "      <th>debt</th>\n",
       "      <th>total_income</th>\n",
       "      <th>purpose</th>\n",
       "    </tr>\n",
       "  </thead>\n",
       "  <tbody>\n",
       "    <tr>\n",
       "      <td>99</td>\n",
       "      <td>0</td>\n",
       "      <td>346541.618895</td>\n",
       "      <td>60</td>\n",
       "      <td>Среднее</td>\n",
       "      <td>женат / замужем</td>\n",
       "      <td>F</td>\n",
       "      <td>пенсионер</td>\n",
       "      <td>0</td>\n",
       "      <td>71291.522491</td>\n",
       "      <td>автомобиль</td>\n",
       "    </tr>\n",
       "    <tr>\n",
       "      <td>149</td>\n",
       "      <td>0</td>\n",
       "      <td>-2664.273168</td>\n",
       "      <td>39</td>\n",
       "      <td>среднее</td>\n",
       "      <td>в разводе</td>\n",
       "      <td>F</td>\n",
       "      <td>сотрудник</td>\n",
       "      <td>0</td>\n",
       "      <td>70176.435951</td>\n",
       "      <td>операции с жильем</td>\n",
       "    </tr>\n",
       "    <tr>\n",
       "      <td>270</td>\n",
       "      <td>3</td>\n",
       "      <td>-1872.663186</td>\n",
       "      <td>39</td>\n",
       "      <td>среднее</td>\n",
       "      <td>женат / замужем</td>\n",
       "      <td>F</td>\n",
       "      <td>сотрудник</td>\n",
       "      <td>0</td>\n",
       "      <td>102166.458894</td>\n",
       "      <td>ремонт жилью</td>\n",
       "    </tr>\n",
       "    <tr>\n",
       "      <td>578</td>\n",
       "      <td>0</td>\n",
       "      <td>397856.565013</td>\n",
       "      <td>60</td>\n",
       "      <td>среднее</td>\n",
       "      <td>женат / замужем</td>\n",
       "      <td>F</td>\n",
       "      <td>пенсионер</td>\n",
       "      <td>0</td>\n",
       "      <td>97620.687042</td>\n",
       "      <td>строительство собственной недвижимости</td>\n",
       "    </tr>\n",
       "    <tr>\n",
       "      <td>1040</td>\n",
       "      <td>0</td>\n",
       "      <td>-1158.029561</td>\n",
       "      <td>39</td>\n",
       "      <td>высшее</td>\n",
       "      <td>в разводе</td>\n",
       "      <td>F</td>\n",
       "      <td>компаньон</td>\n",
       "      <td>0</td>\n",
       "      <td>303994.134987</td>\n",
       "      <td>свой автомобиль</td>\n",
       "    </tr>\n",
       "    <tr>\n",
       "      <td>1149</td>\n",
       "      <td>0</td>\n",
       "      <td>-934.654854</td>\n",
       "      <td>39</td>\n",
       "      <td>среднее</td>\n",
       "      <td>женат / замужем</td>\n",
       "      <td>F</td>\n",
       "      <td>компаньон</td>\n",
       "      <td>0</td>\n",
       "      <td>201852.430096</td>\n",
       "      <td>покупка недвижимости</td>\n",
       "    </tr>\n",
       "    <tr>\n",
       "      <td>1175</td>\n",
       "      <td>0</td>\n",
       "      <td>370879.508002</td>\n",
       "      <td>60</td>\n",
       "      <td>среднее</td>\n",
       "      <td>женат / замужем</td>\n",
       "      <td>F</td>\n",
       "      <td>пенсионер</td>\n",
       "      <td>0</td>\n",
       "      <td>313949.845188</td>\n",
       "      <td>получение дополнительного образования</td>\n",
       "    </tr>\n",
       "    <tr>\n",
       "      <td>1386</td>\n",
       "      <td>0</td>\n",
       "      <td>-5043.219890</td>\n",
       "      <td>40</td>\n",
       "      <td>высшее</td>\n",
       "      <td>женат / замужем</td>\n",
       "      <td>M</td>\n",
       "      <td>госслужащий</td>\n",
       "      <td>0</td>\n",
       "      <td>240523.618071</td>\n",
       "      <td>сделка с автомобилем</td>\n",
       "    </tr>\n",
       "    <tr>\n",
       "      <td>1890</td>\n",
       "      <td>0</td>\n",
       "      <td>-1574.202821</td>\n",
       "      <td>39</td>\n",
       "      <td>высшее</td>\n",
       "      <td>Не женат / не замужем</td>\n",
       "      <td>F</td>\n",
       "      <td>сотрудник</td>\n",
       "      <td>0</td>\n",
       "      <td>142594.396847</td>\n",
       "      <td>жилье</td>\n",
       "    </tr>\n",
       "    <tr>\n",
       "      <td>1898</td>\n",
       "      <td>0</td>\n",
       "      <td>370144.537021</td>\n",
       "      <td>60</td>\n",
       "      <td>среднее</td>\n",
       "      <td>вдовец / вдова</td>\n",
       "      <td>F</td>\n",
       "      <td>пенсионер</td>\n",
       "      <td>0</td>\n",
       "      <td>127400.268338</td>\n",
       "      <td>на покупку автомобиля</td>\n",
       "    </tr>\n",
       "  </tbody>\n",
       "</table>\n",
       "</div>"
      ],
      "text/plain": [
       "      children  days_employed  client_age education          family_status  \\\n",
       "99           0  346541.618895          60   Среднее        женат / замужем   \n",
       "149          0   -2664.273168          39   среднее              в разводе   \n",
       "270          3   -1872.663186          39   среднее        женат / замужем   \n",
       "578          0  397856.565013          60   среднее        женат / замужем   \n",
       "1040         0   -1158.029561          39    высшее              в разводе   \n",
       "1149         0    -934.654854          39   среднее        женат / замужем   \n",
       "1175         0  370879.508002          60   среднее        женат / замужем   \n",
       "1386         0   -5043.219890          40    высшее        женат / замужем   \n",
       "1890         0   -1574.202821          39    высшее  Не женат / не замужем   \n",
       "1898         0  370144.537021          60   среднее         вдовец / вдова   \n",
       "\n",
       "     gender  income_type  debt   total_income  \\\n",
       "99        F    пенсионер     0   71291.522491   \n",
       "149       F    сотрудник     0   70176.435951   \n",
       "270       F    сотрудник     0  102166.458894   \n",
       "578       F    пенсионер     0   97620.687042   \n",
       "1040      F    компаньон     0  303994.134987   \n",
       "1149      F    компаньон     0  201852.430096   \n",
       "1175      F    пенсионер     0  313949.845188   \n",
       "1386      M  госслужащий     0  240523.618071   \n",
       "1890      F    сотрудник     0  142594.396847   \n",
       "1898      F    пенсионер     0  127400.268338   \n",
       "\n",
       "                                     purpose  \n",
       "99                                автомобиль  \n",
       "149                        операции с жильем  \n",
       "270                             ремонт жилью  \n",
       "578   строительство собственной недвижимости  \n",
       "1040                         свой автомобиль  \n",
       "1149                    покупка недвижимости  \n",
       "1175   получение дополнительного образования  \n",
       "1386                    сделка с автомобилем  \n",
       "1890                                   жилье  \n",
       "1898                   на покупку автомобиля  "
      ]
     },
     "execution_count": 22,
     "metadata": {},
     "output_type": "execute_result"
    }
   ],
   "source": [
    "#Сгруппируем данные и заполним отсутствующие данные медианой по группам\n",
    "clients['client_age'] = clients.groupby(['income_type'])['client_age'].apply(lambda x: x.replace(0, x.median()))\n",
    "\n",
    "#Проверим\n",
    "(clients['client_age']==0).sum()\n",
    "clients.iloc[nan_index_age].head(10)"
   ]
  },
  {
   "cell_type": "code",
   "execution_count": null,
   "metadata": {},
   "outputs": [],
   "source": [
    "#Проверим, заполнились ли строки, в которых до этого отсутствовало значение, медианами по группам доходов\n",
    "clients.iloc[nan_index_age].groupby('income_type')['client_age'].median() == median_before_fillna_age"
   ]
  },
  {
   "cell_type": "markdown",
   "metadata": {},
   "source": [
    "### Вывод"
   ]
  },
  {
   "cell_type": "markdown",
   "metadata": {},
   "source": [
    "2174 отсутствующих значения в столбце **total_income**  и **days_employed** были заполнены медианами по типу дохода. Медиана была выбрана исходя из большого разброса между минимальными и максимальными значениями. Для заполнения медианами был выбран метод apply() в сочетании с lambda и replace(). \n",
    "\n",
    "Для проверки заполнения значений **total_income** были выделены индексы строк, где они изначально отсутствовали данные по доходу, и затем медианы дохода данных строк, сгруппированные по типам доходов, были сравнены с медианами дохода всех данных, сгруппированных по типам дохода. \n",
    "\n",
    "Что касается столбца **gender**, пропущенное значение только одно. Можно предположить, что это была техническая неточность. Посмотрев на общее распределение данные по полу (большинство клиентов женского пола) и на данные строки с пропущенным значением, было решено подставить его как F, что представляется вполне логичным (возраст 24 года, источник заработка - компаньон, данных по трудовому стажу нет). В любом случае одно значения не окажет большого влияния на общий анализ. \n",
    "\n",
    "В столбце **client_age** было найдено 101 значение равное 0. Отсутствующие значения были заменены по принципу, примененному к столбцу total_income - медианами по типу дохода. Медиана была выбрана, так как в отличие от среднего она представляет собой целое число. Для проверки заполнения значений также были выделены индексы строк, где они изначально отсутствовал возраст, и затем медианы значений возраста строк, сгруппированные по типам доходов, были сравнены с медианами возраста всех данных, сгруппированных по типам дохода. "
   ]
  },
  {
   "cell_type": "code",
   "execution_count": null,
   "metadata": {},
   "outputs": [],
   "source": [
    "#Проверим, что отсутствующих значений больше нет\n",
    "clients.info()"
   ]
  },
  {
   "cell_type": "markdown",
   "metadata": {},
   "source": [
    "### Замена типа данных"
   ]
  },
  {
   "cell_type": "markdown",
   "metadata": {},
   "source": [
    "#### Столбец children"
   ]
  },
  {
   "cell_type": "code",
   "execution_count": null,
   "metadata": {},
   "outputs": [],
   "source": [
    "#Уберем отрицательные значения в столбце и заменим 20 на 2\n",
    "clients['children'] = abs(clients.children)\n",
    "clients.loc[clients['children'] == 20, 'children'] = 2\n",
    "\n",
    "#Проверим содержимое нового столбца и посмотрим, как распределяются цели кредита\n",
    "clients.children.value_counts(normalize=True)"
   ]
  },
  {
   "cell_type": "markdown",
   "metadata": {},
   "source": [
    "#### Столбец education и замена типов данных"
   ]
  },
  {
   "cell_type": "code",
   "execution_count": null,
   "metadata": {},
   "outputs": [],
   "source": [
    "#Переведем значение в нижний регистр, чтобы они были одинаковые\n",
    "clients['education'] = clients['education'].str.lower()\n",
    "\n",
    "#Заменим типы данных для экономии памяти\n",
    "clients = clients.astype({'education':'category', \n",
    "                'family_status':'category', \n",
    "                'gender':'category', \n",
    "                'income_type':'category', \n",
    "                'debt':'bool', \n",
    "                'total_income': int})\n",
    "\n",
    "#Посмотрим использование памяти и новые типы данных\n",
    "clients.info()"
   ]
  },
  {
   "cell_type": "markdown",
   "metadata": {},
   "source": [
    "### Вывод"
   ]
  },
  {
   "cell_type": "markdown",
   "metadata": {},
   "source": [
    "В столбце children были убраны отрицательные значения и заменены значения \"20\" на \"2\" как более логичные. В столбце education все значения привели к нижнему регистру, благодаря чему осталось только 5 основных значений, которые были переделаны в категории. \n",
    "\n",
    "Также типы данных столбцов family_status, gender, income_type были заменены на категориальные, debt на булевые, total_income на целочисленный. Использован метод astype(), который принимает словарь и позволяет сделать сразу разные замены для разных столбцов. \n",
    "Объем занимаемой памяти уменьшился с 2.0+ MB до 946.9+ KB"
   ]
  },
  {
   "cell_type": "markdown",
   "metadata": {},
   "source": [
    "### Обработка дубликатов"
   ]
  },
  {
   "cell_type": "code",
   "execution_count": null,
   "metadata": {},
   "outputs": [],
   "source": [
    "#Посмотрим на количество дубликатов и уберем их. Проверим, что это отразилось в clients\n",
    "print('Количество дубликатов: ', clients.duplicated().sum())\n",
    "clients = clients.drop_duplicates().reset_index(drop=True)\n",
    "clients.duplicated().sum()"
   ]
  },
  {
   "cell_type": "markdown",
   "metadata": {},
   "source": [
    "### Вывод"
   ]
  },
  {
   "cell_type": "markdown",
   "metadata": {},
   "source": [
    "Для поиска и удаления дубликатов использованы методы duplicated() в сочетании с sum() и drop_duplicates(), потому что нам надо избавиться от повторяющихся строк, но не повторяющихся значений в столбцах, т.к. они представляют собой категории. Все было найдено 74 дубликата"
   ]
  },
  {
   "cell_type": "markdown",
   "metadata": {},
   "source": [
    "### Лемматизация"
   ]
  },
  {
   "cell_type": "code",
   "execution_count": null,
   "metadata": {},
   "outputs": [],
   "source": [
    "#Лемматизируем столбец purpose и создадим новым, в котором поместим вылеленные леммы\n",
    "m = Mystem()\n",
    "clients['purpose_lemma'] = clients['purpose'].apply(lambda x: m.lemmatize(x))\n",
    "\n",
    "#Проверим, как прошла лемматизация\n",
    "clients['purpose_lemma'].head(10)"
   ]
  },
  {
   "cell_type": "markdown",
   "metadata": {},
   "source": [
    "### Вывод"
   ]
  },
  {
   "cell_type": "markdown",
   "metadata": {},
   "source": [
    "Предварительный осмотр данных столбца purpose с помощью метода value_counts() показал, что основных можно выделить 5 категорий целей, на которые берут кредит:\n",
    "- жилье,\n",
    "- недвижимость,\n",
    "- автомобиль,\n",
    "- свадьба,\n",
    "- образование.\n",
    "\n",
    "Для того, чтобы создать новый столбец и присвоить ему соответствующую категорию, на столбце purpose была сделана лемматизация. "
   ]
  },
  {
   "cell_type": "markdown",
   "metadata": {},
   "source": [
    "### Категоризация данных"
   ]
  },
  {
   "cell_type": "markdown",
   "metadata": {},
   "source": [
    "#### Категории целей кредитов"
   ]
  },
  {
   "cell_type": "code",
   "execution_count": null,
   "metadata": {},
   "outputs": [],
   "source": [
    "#Создадим и применим функцию для создания нового столбца, отражающего основные цели кредита\n",
    "def purpose_cats(col):\n",
    "    '''\n",
    "    Функция принимает значение столбца и возвращает значение для нового столбца, \n",
    "    определяя, какое из ключевых слов находится в исходном столбце \n",
    "    '''\n",
    "    if 'жилье' in col:\n",
    "        return 'жилье'\n",
    "    elif 'недвижимость' in col:\n",
    "        return 'недвижимость'\n",
    "    elif 'свадьба' in col:\n",
    "        return 'свадьба'\n",
    "    elif 'автомобиль' in col:\n",
    "        return 'автомобиль'\n",
    "    else:\n",
    "        return 'образование'\n",
    "\n",
    "clients['purpose_category'] = clients['purpose_lemma'].apply(purpose_cats).astype('category')\n",
    "\n",
    "#Проверим содержимое нового столбца и посмотрим, как распределяются цели кредита\n",
    "clients.purpose_category.value_counts(normalize=True)    "
   ]
  },
  {
   "cell_type": "markdown",
   "metadata": {},
   "source": [
    "#### Категории доходов "
   ]
  },
  {
   "cell_type": "code",
   "execution_count": null,
   "metadata": {},
   "outputs": [],
   "source": [
    "#Посмотрим базовую статистику по столбцу total_income\n",
    "clients['total_income'].describe()"
   ]
  },
  {
   "cell_type": "code",
   "execution_count": null,
   "metadata": {},
   "outputs": [],
   "source": [
    "#Учитывая большой разброс данных, посмотрим, как они рапределяются\n",
    "clients['total_income'].quantile([.1, .2, .3, .4, .5, .6, .7, .8, .9, .95, .99])"
   ]
  },
  {
   "cell_type": "markdown",
   "metadata": {},
   "source": [
    "Мы видим, что 99% клиентов имеют доход ниже 505067.84, следовательно, можно посчитать значения выше выбросами и объединить таких клиентов в группу \"очень высокий доход\". \n",
    "Тогда возьмем 99% данных и разделим их по квартилям."
   ]
  },
  {
   "cell_type": "code",
   "execution_count": null,
   "metadata": {},
   "outputs": [],
   "source": [
    "#Сохраним значение на 99 персентиле \n",
    "client_1_percentile = clients['total_income'].quantile(.99)\n",
    "client_1_percentile"
   ]
  },
  {
   "cell_type": "code",
   "execution_count": null,
   "metadata": {},
   "outputs": [],
   "source": [
    "#Выделим значения квантилей на 99% данных и сохраним в Series\n",
    "clients_99_quantiles = clients[clients['total_income'] < client_1_percentile]['total_income'].quantile([.25, .5, .75])\n",
    "clients_99_quantiles"
   ]
  },
  {
   "cell_type": "code",
   "execution_count": null,
   "metadata": {},
   "outputs": [],
   "source": [
    "#Используем полученные значения и создадим категории для уровня дохода\n",
    "def define_status(col):\n",
    "    '''\n",
    "    Функция принимает значение столбца и сравнивает его с определенными рамками значений\n",
    "    '''\n",
    "    if col <= clients_99_quantiles.iloc[0]:\n",
    "        return 'ниже среднего'\n",
    "    elif clients_99_quantiles.iloc[0] < col <= clients_99_quantiles.iloc[1]:\n",
    "        return 'средний'\n",
    "    elif clients_99_quantiles.iloc[1] < col <= clients_99_quantiles.iloc[2]:\n",
    "        return 'выше среднего'\n",
    "    elif clients_99_quantiles.iloc[2] < col <= client_1_percentile:\n",
    "        return 'высокий'\n",
    "    elif col>client_1_percentile:\n",
    "        return 'очень высокий'\n",
    "\n",
    "clients['income_status'] = clients.total_income.apply(define_status).astype('category')\n",
    "\n",
    "#Проверим содержимое нового столбца и посмотрим, как распределяются доходы\n",
    "clients.income_status.value_counts(normalize=True)  "
   ]
  },
  {
   "cell_type": "markdown",
   "metadata": {},
   "source": [
    "#### Категории наличия/ отсутствия детей"
   ]
  },
  {
   "cell_type": "code",
   "execution_count": null,
   "metadata": {},
   "outputs": [],
   "source": [
    "#Создадим категории для наличия/отсутствия детей\n",
    "def has_children(col):\n",
    "    '''\n",
    "    Функция принимает значение столбца и возвращает значение для нового столбца:\n",
    "    \"есть дети\", если значение исходного столбца больше 0, и \"нет детей\", если оно равно 0\n",
    "    '''\n",
    "    if col == 0:\n",
    "        return 'нет детей'\n",
    "    else:\n",
    "        return 'есть дети'\n",
    "\n",
    "clients['children_status'] = clients.children.apply(has_children).astype('category')\n",
    "\n",
    "#Проверим содержимое нового столбца и посмотрим, как распределяются клиенты на тех, у кого есть дети и у кого их нет\n",
    "clients.children_status.value_counts(normalize=True)"
   ]
  },
  {
   "cell_type": "markdown",
   "metadata": {},
   "source": [
    "### Вывод"
   ]
  },
  {
   "cell_type": "markdown",
   "metadata": {},
   "source": [
    "С помощью функции были выявлены ключевые слова в столбце purpose и создан новый с категориями с соответствующим типом целей кредита **purpose_category**.\n",
    "\n",
    "Была проанализирована базовая статистика столбца total_income, которая показала большой разброс данных (примерно от 20 000 до 2 000 000) и что 99% клиентов имеют доход ниже примерно 505 000. Соответственно, значения выше было решено объявить выбросами и объединить в отдельную категорию \"очень высокий доход\". Оставшиеся данные разделили на 4 равные группы, взял за основу для разделения значения квантилей на 25%, 50% и 75%. Для категорий был создан новый столбец **income_status**.\n",
    "\n",
    "Еще один столбец был создан для того, чтобы можно было сгруппировать клиентов, у которых есть дети, и у кого их нет - **children_status**.\n",
    "\n",
    "Для создания столбцов были написаны функции для обработки значений столбцов и использован метод apply()."
   ]
  },
  {
   "cell_type": "markdown",
   "metadata": {},
   "source": [
    "### Шаг 3. Анализ данных"
   ]
  },
  {
   "cell_type": "markdown",
   "metadata": {},
   "source": [
    "Для анализа данных воспользуемся сводными таблицами, которые можно получить с помощью метода pivot_table(). Учитывая, что значения столбца debt - это только 1 или 0, среднее покажет вероятность наличия задолженности по кредиту, поэтому сводные таблицы будем агрегировать по mean. Для приведения сводных таблиц в более читабельный вид и сортировки данных в них воспользуемся методами melt() и solt_values()."
   ]
  },
  {
   "cell_type": "markdown",
   "metadata": {},
   "source": [
    "- **Есть ли зависимость между наличием детей и возвратом кредита в срок?**"
   ]
  },
  {
   "cell_type": "code",
   "execution_count": null,
   "metadata": {},
   "outputs": [],
   "source": [
    "#Сделаем сводную таблицу по наличию/отсутсвию детей и наличию/отсутствию задолженности по кредиту; посчитаем по среднему\n",
    "children_debt = clients.pivot_table(values='debt', columns='children_status', aggfunc='mean')\n",
    "\n",
    "#Переведем ее в более удобный вид и отсортируем значения по убыванию \n",
    "children_debt = children_debt.melt(var_name='Наличие детей', value_name='Вероятность долга')\\\n",
    ".sort_values(by=['Вероятность долга'], ascending=False)\n",
    "\n",
    "#Сделаем сводную таблицу по количеству детей и наличию/отсутствию задолженности по кредиту; посчитаем по среднему\n",
    "children_debt_details = clients.pivot_table(values='debt', columns='children', aggfunc='mean')\n",
    "\n",
    "#Переведем ее в более удобный вид и отсортируем значения по убыванию\n",
    "children_debt_details = children_debt_details.melt(var_name='Количество детей', value_name='Вероятность долга')\\\n",
    ".sort_values(by=['Вероятность долга'], ascending=False).reset_index(drop=True)\n",
    "\n",
    "#Выведем обе таблицы\n",
    "print('Зависимость между наличием детей и возвратом кредита в срок:')\n",
    "print(children_debt)\n",
    "print()\n",
    "print('Зависимость между количеством детей и возвратом кредита в срок:')\n",
    "print(children_debt_details)"
   ]
  },
  {
   "cell_type": "markdown",
   "metadata": {},
   "source": [
    "### Вывод"
   ]
  },
  {
   "cell_type": "markdown",
   "metadata": {},
   "source": [
    "Сводная таблица показывает, что у **клиентов с детьми более высокая вероятность иметь задолженность по кредиту**, чем у людей без детей, а именно **на 1.7% больше**. При этом, наибольшая вероятность у тех, у кого четверо детей (9.7%) и двое детей (9.4%), а наименьшая - у кого пятеро (0%). Вероятно, это связано с тем, что с детьми возрастает количество трат и обязательств, особенно если детей много. Интересно, однако, что это не влияет на семьи с 5ю детьми, так как там вообще нет задолженности. "
   ]
  },
  {
   "cell_type": "markdown",
   "metadata": {},
   "source": [
    "- **Есть ли зависимость между семейным положением и возвратом кредита в срок?**"
   ]
  },
  {
   "cell_type": "code",
   "execution_count": null,
   "metadata": {},
   "outputs": [],
   "source": [
    "#Сделаем сводную таблицу по семейному статусу и наличию/отсутствию задолженности по кредиту; посчитаем по среднему\n",
    "family_debt = clients.pivot_table(values='debt', columns='family_status', aggfunc='mean')\n",
    "\n",
    "#Переведем ее в более удобный вид и отсортируем значения по убыванию. \n",
    "family_debt = family_debt.melt(var_name='Семейное положение', value_name='Вероятность долга')\\\n",
    ".sort_values(by=['Вероятность долга'], ascending=False).reset_index(drop=True)\n",
    "print('Зависимость между семейным положением и возвратом кредита в срок')\n",
    "print(family_debt)"
   ]
  },
  {
   "cell_type": "markdown",
   "metadata": {},
   "source": [
    "### Вывод"
   ]
  },
  {
   "cell_type": "markdown",
   "metadata": {},
   "source": [
    "Сводная таблица показывает, что **наибольшая** вероятность иметь задолженность по кредиту **у клиентов, кто не женат/не замужем (9.7%) и кто находится в гражданском браке (9.3%)** . Возможно, это связано с тем, что данная категория клиентов обладает в некотором плане меньшей ответственностью по сравнению с теми, кто находится в браке или в разводе.  **Наименьшая** вероятность - у **вдов/ вдовцов (6.5%)**. Возможно, у них остаются какие-то средства от покойных супругов или в целом меньше обязательств в силу возраста.\n"
   ]
  },
  {
   "cell_type": "markdown",
   "metadata": {},
   "source": [
    "- **Есть ли зависимость между уровнем дохода и возвратом кредита в срок?**"
   ]
  },
  {
   "cell_type": "code",
   "execution_count": null,
   "metadata": {},
   "outputs": [],
   "source": [
    "#Сделаем сводную таблицу по уровню дохода и наличию/отсутствию задолженности по кредиту; посчитаем по среднему\n",
    "income_debt = clients.pivot_table(values='debt', columns='income_status', aggfunc='mean')\n",
    "\n",
    "#Переведем ее в более удобный вид и отсортируем значения по убыванию \n",
    "income_debt = income_debt.melt(var_name='Уровень дохода', value_name='Вероятность долга')\\\n",
    ".sort_values(by=['Вероятность долга'], ascending=False).reset_index(drop=True)\n",
    "print('Зависимость между уровнем дохода и возвратом кредита в срок')\n",
    "print(income_debt)"
   ]
  },
  {
   "cell_type": "markdown",
   "metadata": {},
   "source": [
    "### Вывод"
   ]
  },
  {
   "cell_type": "markdown",
   "metadata": {},
   "source": [
    "Сводная таблица показывает, что **наибольшая** вероятность иметь задолженность по кредиту у клиентов **со средним доходом (8.7%)**. Возможно, это связано с тем, что у данной категории клиентов нет достаточного количества накоплений, поэтому какие-то изменения в трудоустройстве или жизненной ситуации могут повлиять на возможность погашения кредита. Чуть ниже вероятность у клиентов с доходом **выше среднего (8.5%)**. Возможно, у них ситуация обратная - есть некоторые накопления, и они могут расплатиться позже и пенни по просроченным выплатам не так важны. **Наименьшая** вероятность - у клиентов **с очень высоким доходом (6.4%)**. Возможно, это связано с тем, что клиенты с таким доходом автоматизируют выплату кредитов в рамках управления финансами."
   ]
  },
  {
   "cell_type": "markdown",
   "metadata": {},
   "source": [
    "- **Как разные цели кредита влияют на его возврат в срок?**"
   ]
  },
  {
   "cell_type": "code",
   "execution_count": null,
   "metadata": {},
   "outputs": [],
   "source": [
    "#Сделаем сводную таблицу по целям для кредита и наличию/отсутствию задолженности по кредиту; посчитаем по среднему\n",
    "purpose_debt = clients.pivot_table(values='debt', columns='purpose_category', aggfunc='mean')\n",
    "\n",
    "#Переведем ее в более удобный вид и отсортируем значения по убыванию \n",
    "purpose_debt = purpose_debt.melt(var_name='Цель кредита', value_name='Вероятность долга')\\\n",
    ".sort_values(by=['Вероятность долга'], ascending=False).reset_index(drop=True)\n",
    "print('Зависимость между целью кредита и возвратом кредита в срок')\n",
    "print(purpose_debt)"
   ]
  },
  {
   "cell_type": "markdown",
   "metadata": {},
   "source": [
    "### Вывод"
   ]
  },
  {
   "cell_type": "markdown",
   "metadata": {},
   "source": [
    "Здесь сводная таблица показывает, что **наибольшая** вероятность иметь задолженность по кредиту у клиентов, которые берут его на для операций **с автомобилем (9.3%)** и на **образование (9.2%)**. Возможно, это связано с тем, что кредиты на данные цели являются достаточно популярными и воспринимаются как нечто обыденное, где просрочки не так уж нередки или страшны.  **Наименьшая** вероятность - у клиентов, которые берут кредит на операции **с жильем (6.9%)**. Возможно, это связано с тем, что размер таких кредитов значительно выше, на больший срок, и своевременная его выплата для людей стоит в приоритетах."
   ]
  },
  {
   "cell_type": "markdown",
   "metadata": {},
   "source": [
    "### Шаг 4. Общий вывод"
   ]
  },
  {
   "cell_type": "markdown",
   "metadata": {},
   "source": [
    "Были проанализированы данные клиентов банка с целью определить, влияют ли определенные факторы (начилие и количество детей, семейное положеные, уровень доходов и цели кредитов) на погашение кредита в срок. \n",
    "\n",
    "После предварительного осмотра данных были:\n",
    "- определены основные значения столбцов и способы их оптимизации (перевод строк в нижний регистр, изменение типов данных);\n",
    "- определены столбцы с отсутствующими значениями;\n",
    "- удалены ненужные столбцы (family_status_id, education_id);\n",
    "- произведены замены типов данных (education, family_status, gender, income_type - на тип category, debt- на bool, total_income -int);\n",
    "- переименован столбец с возрастом клиента (из dob_years в client_age).\n",
    "\n",
    "Далее были заполнены отсутсвующие значения (медианы по типу дохода в столбцах days_employed, total_income, client_age).\n",
    "\n",
    "Для категоризации данных была произведена лемматизация данных столбца purpose, а также добавлены столбцы: по уровню дохода - income_status, по главной цели кредита - purpose_category, по наличию/ отсутствию детей - children_status.\n",
    "\n",
    "**Вывод**\n",
    "\n",
    "Анализ данных показал, что **бОльшая вероятность иметь задолженность по кредиту** у следующих групп клиентов:\n",
    "- **с детьми** (9.2%), особенно с 4мя (9.7%) или с 2мя (9.4%);\n",
    "- те, кто **не женат/не замужем** (9.7%) и кто находится **в гражданском браке** (9.3%);\n",
    "- **со средним доходом** (8.7%) и **выше среднего** (8.5%);\n",
    "- те, кто берут кредит **для операций с автомобилем** (9.3%) и **на образование** (9.2%);"
   ]
  }
 ],
 "metadata": {
  "kernelspec": {
   "display_name": "Python 3",
   "language": "python",
   "name": "python3"
  },
  "language_info": {
   "codemirror_mode": {
    "name": "ipython",
    "version": 3
   },
   "file_extension": ".py",
   "mimetype": "text/x-python",
   "name": "python",
   "nbconvert_exporter": "python",
   "pygments_lexer": "ipython3",
   "version": "3.7.6"
  }
 },
 "nbformat": 4,
 "nbformat_minor": 2
}
